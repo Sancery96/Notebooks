{
 "cells": [
  {
   "cell_type": "markdown",
   "id": "23a09685",
   "metadata": {},
   "source": [
    "### 安装"
   ]
  },
  {
   "cell_type": "markdown",
   "id": "ea6e0c61",
   "metadata": {},
   "source": [
    "pip install openpyxl"
   ]
  },
  {
   "cell_type": "markdown",
   "id": "a620c2b5",
   "metadata": {},
   "source": [
    "官网：https://openpyxl.readthedocs.io/en/stable/"
   ]
  },
  {
   "cell_type": "markdown",
   "id": "a3e20ec3",
   "metadata": {},
   "source": [
    "### 打开并读取表格内容"
   ]
  },
  {
   "cell_type": "markdown",
   "id": "3f1ffe25",
   "metadata": {},
   "source": [
    "#### 创建新的Excel文件 Workbook()"
   ]
  },
  {
   "cell_type": "code",
   "execution_count": 9,
   "id": "9abcc46c",
   "metadata": {
    "ExecuteTime": {
     "end_time": "2021-05-24T11:42:06.356919Z",
     "start_time": "2021-05-24T11:42:06.326002Z"
    }
   },
   "outputs": [],
   "source": [
    "from openpyxl import Workbook\n",
    "workbook = Workbook()\n",
    "sheet = workbook.active\n",
    "sheet.title = '表格1'\n",
    "workbook.save(\"测试文件夹/新建的excel表格.xlsx\")"
   ]
  },
  {
   "cell_type": "markdown",
   "id": "d2af49e3",
   "metadata": {},
   "source": [
    "#### 打开Excel表格 load_workbook(filename)"
   ]
  },
  {
   "cell_type": "code",
   "execution_count": 1,
   "id": "1a6bc9d4",
   "metadata": {
    "ExecuteTime": {
     "end_time": "2021-05-24T11:27:53.023128Z",
     "start_time": "2021-05-24T11:27:50.640603Z"
    }
   },
   "outputs": [],
   "source": [
    "from openpyxl import load_workbook\n",
    "workbook = load_workbook(filename = '测试文件夹/test.xlsx')    # 只能打开已存在表格"
   ]
  },
  {
   "cell_type": "markdown",
   "id": "623d18fb",
   "metadata": {},
   "source": [
    "#### 获取表格名称 workbook.sheetnames"
   ]
  },
  {
   "cell_type": "code",
   "execution_count": 2,
   "id": "aa8a5871",
   "metadata": {},
   "outputs": [
    {
     "data": {
      "text/plain": [
       "['Sheet1', 'Sheet2', 'Sheet3']"
      ]
     },
     "execution_count": 2,
     "metadata": {},
     "output_type": "execute_result"
    }
   ],
   "source": [
    "workbook.sheetnames"
   ]
  },
  {
   "cell_type": "markdown",
   "id": "e19d491e",
   "metadata": {},
   "source": [
    "#### 获取表格"
   ]
  },
  {
   "cell_type": "markdown",
   "id": "bb95cfe6",
   "metadata": {},
   "source": [
    "##### 通过sheet名称 workbook[sheetname]"
   ]
  },
  {
   "cell_type": "code",
   "execution_count": 3,
   "id": "5e456e8e",
   "metadata": {},
   "outputs": [
    {
     "name": "stdout",
     "output_type": "stream",
     "text": [
      "<Worksheet \"Sheet1\">\n"
     ]
    }
   ],
   "source": [
    "sheet = workbook['Sheet1']\n",
    "print(sheet)"
   ]
  },
  {
   "cell_type": "markdown",
   "id": "b0fa635d",
   "metadata": {},
   "source": [
    "##### 当前激活的表格 workbook.active"
   ]
  },
  {
   "cell_type": "code",
   "execution_count": 14,
   "id": "1fef7e0b",
   "metadata": {},
   "outputs": [
    {
     "name": "stdout",
     "output_type": "stream",
     "text": [
      "<Worksheet \"Sheet1\">\n"
     ]
    }
   ],
   "source": [
    "sheet = workbook.active\n",
    "print(sheet)"
   ]
  },
  {
   "cell_type": "markdown",
   "id": "12db0552",
   "metadata": {},
   "source": [
    "#### 获取表格尺寸 sheet.dimensions"
   ]
  },
  {
   "cell_type": "code",
   "execution_count": 4,
   "id": "7785d457",
   "metadata": {},
   "outputs": [
    {
     "data": {
      "text/plain": [
       "'A1:C4'"
      ]
     },
     "execution_count": 4,
     "metadata": {},
     "output_type": "execute_result"
    }
   ],
   "source": [
    "sheet.dimensions"
   ]
  },
  {
   "cell_type": "markdown",
   "id": "4d95f1c0",
   "metadata": {},
   "source": [
    "#### 获取指定单元格"
   ]
  },
  {
   "cell_type": "markdown",
   "id": "3a5ed427",
   "metadata": {},
   "source": [
    "##### cell=sheet[\"A1\"]"
   ]
  },
  {
   "cell_type": "code",
   "execution_count": 9,
   "id": "bb61db53",
   "metadata": {},
   "outputs": [
    {
     "name": "stdout",
     "output_type": "stream",
     "text": [
      "<Cell 'Sheet1'.A1>\n"
     ]
    }
   ],
   "source": [
    "cell = sheet[\"A1\"]\n",
    "print(cell)"
   ]
  },
  {
   "cell_type": "markdown",
   "id": "e43bd4e9",
   "metadata": {},
   "source": [
    "##### cell=sheet.cell(row=, column=)"
   ]
  },
  {
   "cell_type": "code",
   "execution_count": 10,
   "id": "db042b87",
   "metadata": {},
   "outputs": [
    {
     "name": "stdout",
     "output_type": "stream",
     "text": [
      "<Cell 'Sheet1'.A1>\n"
     ]
    }
   ],
   "source": [
    "cell = sheet.cell(row=1, column=1)\n",
    "print(cell)"
   ]
  },
  {
   "cell_type": "markdown",
   "id": "a9912fb4",
   "metadata": {},
   "source": [
    "#### 获取单元格数据 cell.value"
   ]
  },
  {
   "cell_type": "code",
   "execution_count": 11,
   "id": "13621050",
   "metadata": {},
   "outputs": [
    {
     "data": {
      "text/plain": [
       "'姓名'"
      ]
     },
     "execution_count": 11,
     "metadata": {},
     "output_type": "execute_result"
    }
   ],
   "source": [
    "cell.value"
   ]
  },
  {
   "cell_type": "markdown",
   "id": "6ea6902e",
   "metadata": {},
   "source": [
    "#### 获取单元格所在行 cell.row"
   ]
  },
  {
   "cell_type": "code",
   "execution_count": 12,
   "id": "8b0b9023",
   "metadata": {},
   "outputs": [
    {
     "data": {
      "text/plain": [
       "1"
      ]
     },
     "execution_count": 12,
     "metadata": {},
     "output_type": "execute_result"
    }
   ],
   "source": [
    "cell.row"
   ]
  },
  {
   "cell_type": "markdown",
   "id": "65bdcd53",
   "metadata": {},
   "source": [
    "#### 获取单元格所在列 cell.column"
   ]
  },
  {
   "cell_type": "code",
   "execution_count": 13,
   "id": "571e2b21",
   "metadata": {},
   "outputs": [
    {
     "data": {
      "text/plain": [
       "1"
      ]
     },
     "execution_count": 13,
     "metadata": {},
     "output_type": "execute_result"
    }
   ],
   "source": [
    "cell.column"
   ]
  },
  {
   "cell_type": "markdown",
   "id": "f938e6f2",
   "metadata": {},
   "source": [
    "#### 获取单元格坐标 cell.coordinate"
   ]
  },
  {
   "cell_type": "code",
   "execution_count": 15,
   "id": "dfe2b800",
   "metadata": {},
   "outputs": [
    {
     "data": {
      "text/plain": [
       "'A1'"
      ]
     },
     "execution_count": 15,
     "metadata": {},
     "output_type": "execute_result"
    }
   ],
   "source": [
    "cell.coordinate"
   ]
  },
  {
   "cell_type": "markdown",
   "id": "b125cb9b",
   "metadata": {},
   "source": [
    "#### 批量获取单元格"
   ]
  },
  {
   "cell_type": "markdown",
   "id": "17a091a8",
   "metadata": {},
   "source": [
    "##### 获取指定区域数据 sheet[]"
   ]
  },
  {
   "cell_type": "markdown",
   "id": "db8f8f36",
   "metadata": {},
   "source": [
    "###### 获取A1：C2区域的数据 sheet[\"A1:C2\"]"
   ]
  },
  {
   "cell_type": "code",
   "execution_count": 17,
   "id": "69a39019",
   "metadata": {},
   "outputs": [
    {
     "name": "stdout",
     "output_type": "stream",
     "text": [
      "姓名\n",
      "年龄\n",
      "学校\n",
      "吴琪\n",
      "24\n",
      "哈尔滨工业大学\n"
     ]
    }
   ],
   "source": [
    "cells = sheet[\"A1:C2\"]\n",
    "for row in cells:\n",
    "    for cell in row:\n",
    "        print(cell.value)"
   ]
  },
  {
   "cell_type": "markdown",
   "id": "64f7fe72",
   "metadata": {},
   "source": [
    "###### 获取A列的数据 sheet[\"A\"]"
   ]
  },
  {
   "cell_type": "code",
   "execution_count": 18,
   "id": "037d950b",
   "metadata": {},
   "outputs": [
    {
     "name": "stdout",
     "output_type": "stream",
     "text": [
      "姓名\n",
      "吴琪\n",
      "毛麟\n",
      "张桂越\n"
     ]
    }
   ],
   "source": [
    "cells = sheet[\"A\"]\n",
    "for cell in cells:\n",
    "    print(cell.value)"
   ]
  },
  {
   "cell_type": "markdown",
   "id": "197e33d4",
   "metadata": {},
   "source": [
    "###### 获取A：C列的数据 sheet[\"A:C\"]"
   ]
  },
  {
   "cell_type": "code",
   "execution_count": 20,
   "id": "f3801b25",
   "metadata": {},
   "outputs": [
    {
     "name": "stdout",
     "output_type": "stream",
     "text": [
      "姓名\n",
      "吴琪\n",
      "毛麟\n",
      "张桂越\n",
      "年龄\n",
      "24\n",
      "27\n",
      "27\n",
      "学校\n",
      "哈尔滨工业大学\n",
      "武汉理工大学\n",
      "武汉纺织大学\n"
     ]
    }
   ],
   "source": [
    "cells = sheet[\"A:C\"]\n",
    "for col in cells:\n",
    "    for cell in col:\n",
    "        print(cell.value)"
   ]
  },
  {
   "cell_type": "markdown",
   "id": "942ec240",
   "metadata": {},
   "source": [
    "###### 获取第3行的数据 sheet[3]"
   ]
  },
  {
   "cell_type": "code",
   "execution_count": 21,
   "id": "0d14d1a0",
   "metadata": {},
   "outputs": [
    {
     "name": "stdout",
     "output_type": "stream",
     "text": [
      "毛麟\n",
      "27\n",
      "武汉理工大学\n"
     ]
    }
   ],
   "source": [
    "cells = sheet[3]\n",
    "for cell in cells:\n",
    "    print(cell.value)"
   ]
  },
  {
   "cell_type": "markdown",
   "id": "8bdad80e",
   "metadata": {},
   "source": [
    "###### 获取第1行到第3行的数据 sheet[1:3]"
   ]
  },
  {
   "cell_type": "code",
   "execution_count": 22,
   "id": "ff7e7150",
   "metadata": {},
   "outputs": [
    {
     "name": "stdout",
     "output_type": "stream",
     "text": [
      "姓名\n",
      "年龄\n",
      "学校\n",
      "吴琪\n",
      "24\n",
      "哈尔滨工业大学\n",
      "毛麟\n",
      "27\n",
      "武汉理工大学\n"
     ]
    }
   ],
   "source": [
    "cells = sheet[1:3]\n",
    "for row in cells:\n",
    "    for cell in row:\n",
    "        print(cell.value)"
   ]
  },
  {
   "cell_type": "markdown",
   "id": "92314db5",
   "metadata": {},
   "source": [
    "##### 按行获取值 sheet.iter_rows()"
   ]
  },
  {
   "cell_type": "code",
   "execution_count": 23,
   "id": "ba8137cd",
   "metadata": {},
   "outputs": [
    {
     "name": "stdout",
     "output_type": "stream",
     "text": [
      "姓名\n",
      "年龄\n",
      "吴琪\n",
      "24\n",
      "毛麟\n",
      "27\n"
     ]
    }
   ],
   "source": [
    "for row in sheet.iter_rows(min_row=1, max_row=3, min_col=1, max_col=2):\n",
    "    for cell in row:\n",
    "        print(cell.value)"
   ]
  },
  {
   "cell_type": "markdown",
   "id": "317d3ff5",
   "metadata": {},
   "source": [
    "##### 按列获取值 sheet.iter_cols()"
   ]
  },
  {
   "cell_type": "code",
   "execution_count": 24,
   "id": "8904b408",
   "metadata": {},
   "outputs": [
    {
     "name": "stdout",
     "output_type": "stream",
     "text": [
      "姓名\n",
      "吴琪\n",
      "毛麟\n",
      "年龄\n",
      "24\n",
      "27\n"
     ]
    }
   ],
   "source": [
    "for col in sheet.iter_cols(min_row=1, max_row=3, min_col=1, max_col=2):\n",
    "    for cell in col:\n",
    "        print(cell.value)"
   ]
  },
  {
   "cell_type": "markdown",
   "id": "2b68e4c2",
   "metadata": {},
   "source": [
    "##### 获取所有行 sheet.rows"
   ]
  },
  {
   "cell_type": "code",
   "execution_count": 26,
   "id": "2b401f79",
   "metadata": {},
   "outputs": [
    {
     "name": "stdout",
     "output_type": "stream",
     "text": [
      "姓名\n",
      "年龄\n",
      "学校\n",
      "吴琪\n",
      "24\n",
      "哈尔滨工业大学\n",
      "毛麟\n",
      "27\n",
      "武汉理工大学\n",
      "张桂越\n",
      "27\n",
      "武汉纺织大学\n"
     ]
    }
   ],
   "source": [
    "for row in sheet.rows:\n",
    "    for cell in row:\n",
    "        print(cell.value)"
   ]
  },
  {
   "cell_type": "markdown",
   "id": "67d3d0bd",
   "metadata": {},
   "source": [
    "##### 获取所有列 sheet.columns"
   ]
  },
  {
   "cell_type": "code",
   "execution_count": 28,
   "id": "12ae9aee",
   "metadata": {},
   "outputs": [
    {
     "name": "stdout",
     "output_type": "stream",
     "text": [
      "姓名\n",
      "吴琪\n",
      "毛麟\n",
      "张桂越\n",
      "年龄\n",
      "24\n",
      "27\n",
      "27\n",
      "学校\n",
      "哈尔滨工业大学\n",
      "武汉理工大学\n",
      "武汉纺织大学\n"
     ]
    }
   ],
   "source": [
    "for col in sheet.columns:\n",
    "    for cell in col:\n",
    "        print(cell.value)"
   ]
  },
  {
   "cell_type": "markdown",
   "id": "96dde697",
   "metadata": {},
   "source": [
    "### 向表格中写入内容"
   ]
  },
  {
   "cell_type": "markdown",
   "id": "1462b41b",
   "metadata": {},
   "source": [
    "#### 保存表格 workbook.save(filename)"
   ]
  },
  {
   "cell_type": "code",
   "execution_count": 33,
   "id": "cfc62538",
   "metadata": {},
   "outputs": [],
   "source": [
    "workbook.save(r\"测试文件夹\\test2.xlsx\")"
   ]
  },
  {
   "cell_type": "markdown",
   "id": "17308ad1",
   "metadata": {},
   "source": [
    "#### 向指定单元格写入数据 sheet['A1'] = 'xxx' or cell.value = 'xxx'"
   ]
  },
  {
   "cell_type": "code",
   "execution_count": 34,
   "id": "493a6d37",
   "metadata": {},
   "outputs": [],
   "source": [
    "sheet[\"A5\"] = \"温馨\"    # 或 cell = sheet[\"A5\"]  cell.value = \"温馨\"\n",
    "workbook.save(r\"测试文件夹\\test2.xlsx\")"
   ]
  },
  {
   "cell_type": "markdown",
   "id": "b7a9eb8f",
   "metadata": {},
   "source": [
    "#### 按行插入新数据 sheet.append()"
   ]
  },
  {
   "cell_type": "markdown",
   "id": "2a457454",
   "metadata": {},
   "source": [
    "> 在已有数据后面，按行插入新数据"
   ]
  },
  {
   "cell_type": "code",
   "execution_count": 35,
   "id": "3ba2d60a",
   "metadata": {},
   "outputs": [],
   "source": [
    "data = [\n",
    "    [\"郑梦娜\", \"24\", \"武汉科技大学\"],\n",
    "    [\"吴文静\", \"24\", \"广州外语大学\"]\n",
    "]\n",
    "for row in data:\n",
    "    sheet.append(row)\n",
    "workbook.save(r\"测试文件夹\\test2.xlsx\")"
   ]
  },
  {
   "cell_type": "markdown",
   "id": "d6792745",
   "metadata": {},
   "source": [
    "#### 使用Excel函数公式"
   ]
  },
  {
   "cell_type": "code",
   "execution_count": 40,
   "id": "ed86fe63",
   "metadata": {},
   "outputs": [],
   "source": [
    "sheet[\"A8\"] = \"平均年龄\"\n",
    "sheet[\"B8\"] = \"=SUM(B2:B7)/6\"\n",
    "workbook.save(r\"测试文件夹\\test2.xlsx\")"
   ]
  },
  {
   "cell_type": "markdown",
   "id": "03760d3e",
   "metadata": {},
   "source": [
    "#### 查看Python支持的函数公式"
   ]
  },
  {
   "cell_type": "code",
   "execution_count": 41,
   "id": "debd37ce",
   "metadata": {},
   "outputs": [
    {
     "name": "stdout",
     "output_type": "stream",
     "text": [
      "frozenset({'EXP', 'TRUNC', 'LCM', 'DSTDEVP', 'HLOOKUP', 'IMEXP', 'TIME', 'IRR', 'SQRT', 'MDURATION', 'NEGBINOMDIST', 'HARMEAN', 'PI', 'MINA', 'ERFC', 'YEARFRAC', 'SUBTOTAL', 'ACCRINTM', 'ROUND', 'ISNONTEXT', 'BIN2OCT', 'AMORDEGRC', 'LOWER', 'ACOS', 'EDATE', 'MID', 'INDIRECT', 'FISHERINV', 'PROPER', 'DEC2HEX', 'NETWORKDAYS.INTL', 'GETPIVOTDATA', 'CONCATENATE', 'CHOOSE', 'MATCH', 'ROW', 'MDETERM', 'SUMPRODUCT', 'ISBLANK', 'COS', 'COSH', 'ODDLYIELD', 'SIN', 'NPER', 'TREND', 'ATAN', 'IMLOG10', 'EFFECT', 'DISC', 'QUOTIENT', 'LOGINV', 'LEFT', 'TODAY', 'REPLACEB', 'NOT', 'TYPE', 'DGET', 'RATE', 'IMPOWER', 'CHIDIST', 'NORMDIST', 'AMORLINC', 'TEXT', 'FIXED', 'DAVERAGE', 'PV', 'ABS', 'DDB', 'OR', 'BESSELY', 'DEGREES', 'BAHTTEXT', 'COUPPCD', 'PHONETIC', 'ISEVEN', 'GROWTH', 'DATEDIF', 'DOLLARFR', 'CHIINV', 'ACOSH', 'LOG', 'N', 'AREAS', 'COUPDAYBS', 'ODD', 'VALUE', 'MODE', 'NOMINAL', 'TRIM', 'DVAR', 'XIRR', 'YEAR', 'IMPRODUCT', 'MINUTE', 'FV', 'CUMIPMT', 'COMBIN', 'YIELDDISC', 'ISREF', 'AND', 'RIGHTB', 'IMCONJUGATE', 'COVAR', 'SLOPE', 'RECEIVED', 'TDIST', 'EXACT', 'NETWORKDAYS', 'INTERCEPT', 'STANDARDIZE', 'REPT', 'PROB', 'COUPNCD', 'T', 'DVARP', 'COLUMNS', 'RIGHT', 'TBILLPRICE', 'MULTINOMIAL', 'VARP', 'COUNTBLANK', 'AVERAGEA', 'LINEST', 'CHITEST', 'SUBSTITUTE', 'ASINH', 'MOD', 'POISSON', 'MINVERSE', 'DEC2BIN', 'FISHER', 'ISO.CEILING', 'INTRATE', 'EXPONDIST', 'WEEKNUM', 'LN', 'TBILLYIELD', 'DMIN', 'IMREAL', 'NORMINV', 'MONTH', 'CUBEVALUE', 'YIELD', 'VDB', 'VLOOKUP', 'ZTEST', 'STDEVPA STEYX', 'HEX2OCT', 'COUNT', 'JIS', 'CONFIDENCE', 'BESSELI', 'BIN2DEC', 'ERROR.TYPE', 'PRICE', 'POWER', 'GEOMEAN', 'SMALL', 'FINV', 'BIN2HEX', 'FACTDOUBLE', 'ODDFYIELD', 'MAX', 'VARA', 'IMSUB', 'RADIANS', 'AVERAGEIFS', 'PPMT', 'SINH', 'HEX2BIN', 'OCT2DEC', 'CUBESET', 'IMABS', 'ISNUMBER', 'BINOMDIST', 'CHAR', 'AVERAGEIF', 'DURATION', 'MIN', 'VAR', 'ECMA.CEILING', 'DAY', 'ISERROR', 'CEILING', 'BESSELJ', 'MROUND', 'PERCENTRANK', 'SUM', 'PRICEMAT', 'LARGE', 'DOLLARDE', 'RANK', 'IMCOS', 'HOUR', 'TIMEVALUE', 'ISODD', 'IMLN', 'FREQUENCY', 'HEX2DEC', 'SYD', 'COUPDAYSNC', 'TTEST', 'PERCENTILE', 'DATE', 'NA', 'COUNTIFS', 'CUBEKPIMEMBER', 'IMAGINARY', 'LEN', 'CONVERT', 'REPLACE', 'YIELDMAT', 'CODE', 'ROUNDUP', 'EVEN', 'BETADIST', 'LOG10', 'RANDBETWEEN', 'PEARSON', 'RSQ', 'LOOKUP', 'HYPGEOMDIST', 'CUMPRINC', 'GAMMADIST', 'LENB', 'ERF', 'RAND', 'ACCRINT', 'ISPMT', 'FINDB', 'COUPNUM', 'QUARTILE', 'COUNTIF', 'MMULT', 'IMLOG2', 'SERIESSUM', 'DEVSQ', 'DPRODUCT', 'CRITBINOM', 'WEIBULL', 'DSUM', 'DB', 'GAMMAINV', 'CORREL', 'FVSCHEDULE', 'FACT', 'IMSUM', 'PMT', 'SEARCH', 'GAMMALN', 'MIDB', 'BETAINV', 'INDEX', 'TANH', 'COMPLEX', 'ODDFPRICE', 'DMAX', 'BESSELK', 'ISTEXT', 'ATANH', 'EOMONTH', 'TINV', 'MAXA', 'WORKDAY ', 'UPPER', 'DOLLAR', 'GCD', 'SUMXMY2', 'XNPV', 'ROWS', 'ASC', 'CELL', 'LOGNORMDIST', 'TRANSPOSE', 'SECOND', 'FALSE', 'RTD', 'OCT2BIN', 'CUBERANKEDMEMBER', 'IMSIN', 'IF', 'SUMIFS', 'LOGEST', 'AVEDEV', 'STDEVP', 'TAN', 'CUBEMEMBER', 'PRICEDISC', 'INT', 'CUBESETCOUNT', 'VARPA', 'ISNA', 'NORMSINV', 'ROMAN', 'TRUE ADDRESS', 'MIRR', 'NORMSDIST', 'IMARGUMENT', 'PRODUCT', 'FDIST', 'SUMIF', 'DCOUNTA', 'ATAN2', 'SUMX2MY2', 'DSTDEV', 'WORKDAY.INTL', 'SIGN', 'FORECAST', 'DATEVALUE', 'NOW', 'ISERR', 'FLOOR', 'ASIN', 'INFO', 'IMSQRT', 'COUNTA', 'AVERAGE', 'DCOUNT', 'SEARCHB', 'PERMUT', 'FTEST', 'ISLOGICAL', 'DELTA', 'LEFTB', 'HYPERLINK', 'TBILLEQ', 'OFFSET', 'CLEAN', 'SLN', 'COLUMN', 'TRIMMEAN', 'COUPDAYS', 'CUBEMEMBERPROPERTY', 'SUMSQ', 'GESTEP', 'FIND', 'KURT', 'DEC2OCT', 'NPV', 'WEEKDAY', 'ROUNDDOWN', 'ODDLPRICE', 'IFERROR', 'IPMT', 'IMDIV', 'SKEW', 'STDEV STDEVA', 'SQRTPI', 'OCT2HEX', 'DAYS360', 'MEDIAN', 'SUMX2PY2'})\n"
     ]
    }
   ],
   "source": [
    "from openpyxl.utils import FORMULAE\n",
    "print(FORMULAE)"
   ]
  },
  {
   "cell_type": "markdown",
   "id": "032be60a",
   "metadata": {},
   "source": [
    "#### 插入空行 sheet.insert_rows(idx=, amount=)"
   ]
  },
  {
   "cell_type": "markdown",
   "id": "3f59d6aa",
   "metadata": {},
   "source": [
    "> 从指定行开始，向下插入空行"
   ]
  },
  {
   "cell_type": "code",
   "execution_count": 53,
   "id": "5320c65b",
   "metadata": {},
   "outputs": [],
   "source": [
    "workbook = load_workbook(r\"测试文件夹\\test2.xlsx\")\n",
    "sheet = workbook.active\n",
    "\n",
    "sheet.insert_rows(idx=3, amount=3)    # 在第1行下方，插入2行空行\n",
    "workbook.save(r\"测试文件夹\\test2.xlsx\")"
   ]
  },
  {
   "cell_type": "markdown",
   "id": "95d24e4b",
   "metadata": {},
   "source": [
    "#### 插入空列 sheet.insert_cols(idx=, amount=)"
   ]
  },
  {
   "cell_type": "markdown",
   "id": "e80256a8",
   "metadata": {},
   "source": [
    "> 从指定列开始，向右插入空列"
   ]
  },
  {
   "cell_type": "code",
   "execution_count": 54,
   "id": "256e2e19",
   "metadata": {},
   "outputs": [],
   "source": [
    "sheet.insert_cols(idx=1, amount=2)    # 在第2列左侧，插入1列空列\n",
    "workbook.save(r\"测试文件夹\\test2.xlsx\")"
   ]
  },
  {
   "cell_type": "markdown",
   "id": "e8dcc58d",
   "metadata": {},
   "source": [
    "#### 删除行 sheet.delete_rows(idx=, amount=)"
   ]
  },
  {
   "cell_type": "markdown",
   "id": "f62ef463",
   "metadata": {},
   "source": [
    "> 从指定行开始，向下删除行"
   ]
  },
  {
   "cell_type": "code",
   "execution_count": 55,
   "id": "1bc25c97",
   "metadata": {},
   "outputs": [],
   "source": [
    "sheet.delete_rows(idx=3, amount=3)\n",
    "workbook.save(r\"测试文件夹\\test2.xlsx\")"
   ]
  },
  {
   "cell_type": "markdown",
   "id": "4e7c0127",
   "metadata": {},
   "source": [
    "#### 删除列 sheet.delete_cols(idx=, amount=)"
   ]
  },
  {
   "cell_type": "markdown",
   "id": "0fe34891",
   "metadata": {},
   "source": [
    "> 从指定列开始，向右删除列"
   ]
  },
  {
   "cell_type": "code",
   "execution_count": 56,
   "id": "3a9c838d",
   "metadata": {},
   "outputs": [],
   "source": [
    "sheet.delete_cols(idx=1, amount=2)\n",
    "workbook.save(r\"测试文件夹\\test2.xlsx\")"
   ]
  },
  {
   "cell_type": "markdown",
   "id": "c0e39d32",
   "metadata": {},
   "source": [
    "#### 移动指定区域到指定位置 sheet.move_range(\"移动区域\", rows=, cols=)"
   ]
  },
  {
   "cell_type": "markdown",
   "id": "81bc56ff",
   "metadata": {},
   "source": [
    "> 正数为向下或向右，负数为向上或向左 "
   ]
  },
  {
   "cell_type": "code",
   "execution_count": 62,
   "id": "5dd91040",
   "metadata": {
    "ExecuteTime": {
     "end_time": "2021-05-12T05:25:25.089965Z",
     "start_time": "2021-05-12T05:25:25.035077Z"
    }
   },
   "outputs": [],
   "source": [
    "workbook = load_workbook(r\"测试文件夹\\test2.xlsx\")\n",
    "sheet = workbook.active\n",
    "\n",
    "sheet.move_range(\"A2:C4\", rows=2, cols=1)\n",
    "workbook.save(r\"测试文件夹\\test2.xlsx\")"
   ]
  },
  {
   "cell_type": "markdown",
   "id": "5a068898",
   "metadata": {},
   "source": [
    "#### 创建新的sheet workbook.create_sheet(sheetname)"
   ]
  },
  {
   "cell_type": "code",
   "execution_count": 3,
   "id": "e5c87942",
   "metadata": {
    "ExecuteTime": {
     "end_time": "2021-05-24T11:29:19.248150Z",
     "start_time": "2021-05-24T11:29:19.136370Z"
    }
   },
   "outputs": [
    {
     "name": "stdout",
     "output_type": "stream",
     "text": [
      "['Sheet1', 'Sheet2', 'Sheet3']\n",
      "['Sheet1', 'Sheet2', 'Sheet3', 'new sheet']\n"
     ]
    }
   ],
   "source": [
    "workbook = load_workbook(r\"测试文件夹\\test2.xlsx\")\n",
    "print(workbook.sheetnames)\n",
    "workbook.create_sheet(\"new sheet\")\n",
    "print(workbook.sheetnames)\n",
    "workbook.save(r\"测试文件夹\\test2.xlsx\")"
   ]
  },
  {
   "cell_type": "markdown",
   "id": "f84dadf9",
   "metadata": {},
   "source": [
    "#### 移除某个sheet workbook.remove(sheet)"
   ]
  },
  {
   "cell_type": "code",
   "execution_count": 6,
   "id": "701616c6",
   "metadata": {
    "ExecuteTime": {
     "end_time": "2021-05-24T11:32:05.053047Z",
     "start_time": "2021-05-24T11:32:04.989217Z"
    }
   },
   "outputs": [
    {
     "name": "stdout",
     "output_type": "stream",
     "text": [
      "['Sheet1', 'Sheet2', 'Sheet3', 'new sheet']\n",
      "['Sheet1', 'Sheet2', 'Sheet3']\n"
     ]
    }
   ],
   "source": [
    "workbook = load_workbook(r\"测试文件夹\\test2.xlsx\")\n",
    "print(workbook.sheetnames)\n",
    "sheet = workbook[\"new sheet\"]\n",
    "workbook.remove(sheet)\n",
    "print(workbook.sheetnames)\n",
    "workbook.save(r\"测试文件夹\\test2.xlsx\")"
   ]
  },
  {
   "cell_type": "markdown",
   "id": "723ad079",
   "metadata": {},
   "source": [
    "#### 复制一个sheet workbook.copy_worksheet(sheet)"
   ]
  },
  {
   "cell_type": "code",
   "execution_count": 7,
   "id": "22d3d492",
   "metadata": {
    "ExecuteTime": {
     "end_time": "2021-05-24T11:35:58.946782Z",
     "start_time": "2021-05-24T11:35:58.854752Z"
    }
   },
   "outputs": [
    {
     "name": "stdout",
     "output_type": "stream",
     "text": [
      "['Sheet1', 'Sheet2', 'Sheet3']\n",
      "['Sheet1', 'Sheet2', 'Sheet3', 'Sheet1 Copy']\n"
     ]
    }
   ],
   "source": [
    "workbook = load_workbook(r\"测试文件夹\\test2.xlsx\")\n",
    "print(workbook.sheetnames)\n",
    "sheet = workbook[\"Sheet1\"]\n",
    "workbook.copy_worksheet(sheet)\n",
    "print(workbook.sheetnames)\n",
    "workbook.save(r\"测试文件夹\\test2.xlsx\")"
   ]
  },
  {
   "cell_type": "markdown",
   "id": "06e6bb57",
   "metadata": {},
   "source": [
    "#### 修改sheet名称 sheet.title = \"new name\""
   ]
  },
  {
   "cell_type": "code",
   "execution_count": 8,
   "id": "1300833b",
   "metadata": {
    "ExecuteTime": {
     "end_time": "2021-05-24T11:37:10.047897Z",
     "start_time": "2021-05-24T11:37:09.986283Z"
    }
   },
   "outputs": [
    {
     "name": "stdout",
     "output_type": "stream",
     "text": [
      "['Sheet1', 'Sheet2', 'Sheet3', 'Sheet1 Copy']\n",
      "['Sheet1', 'Sheet2', 'Sheet3', 'myCopy']\n"
     ]
    }
   ],
   "source": [
    "workbook = load_workbook(r\"测试文件夹\\test2.xlsx\")\n",
    "print(workbook.sheetnames)\n",
    "sheet = workbook[\"Sheet1 Copy\"]\n",
    "sheet.title = \"myCopy\"\n",
    "print(workbook.sheetnames)\n",
    "workbook.save(r\"测试文件夹\\test2.xlsx\")"
   ]
  },
  {
   "cell_type": "markdown",
   "id": "18193e92",
   "metadata": {},
   "source": [
    "#### 冻结窗口 sheet.freeze_panes = \"C3\""
   ]
  },
  {
   "cell_type": "code",
   "execution_count": 10,
   "id": "352a677f",
   "metadata": {
    "ExecuteTime": {
     "end_time": "2021-05-24T11:44:15.227166Z",
     "start_time": "2021-05-24T11:44:15.131382Z"
    }
   },
   "outputs": [],
   "source": [
    "workbook = load_workbook(r\"测试文件夹\\test2.xlsx\")\n",
    "sheet = workbook.active\n",
    "sheet.freeze_panes = \"C3\"\n",
    "workbook.save(r\"测试文件夹\\test2.xlsx\")"
   ]
  },
  {
   "cell_type": "markdown",
   "id": "8498e637",
   "metadata": {},
   "source": [
    "#### 给表格添加“筛选器” sheet.auto_filter.ref"
   ]
  },
  {
   "cell_type": "markdown",
   "id": "72429f66",
   "metadata": {},
   "source": [
    "##### 给所有字段添加筛选器 sheet.auto_filter.ref = sheet.dimensions"
   ]
  },
  {
   "cell_type": "code",
   "execution_count": 11,
   "id": "0890b4bf",
   "metadata": {
    "ExecuteTime": {
     "end_time": "2021-05-24T11:47:11.669322Z",
     "start_time": "2021-05-24T11:47:11.563604Z"
    }
   },
   "outputs": [],
   "source": [
    "workbook = load_workbook(r\"测试文件夹\\test2.xlsx\")\n",
    "sheet = workbook.active\n",
    "sheet.auto_filter.ref = sheet.dimensions\n",
    "workbook.save(r\"测试文件夹\\test2.xlsx\")"
   ]
  },
  {
   "cell_type": "markdown",
   "id": "38d4f21d",
   "metadata": {},
   "source": [
    "##### 给指定列添加筛选器 sheet.auto_filter.ref = \"A1\""
   ]
  },
  {
   "cell_type": "code",
   "execution_count": 16,
   "id": "01f3570d",
   "metadata": {
    "ExecuteTime": {
     "end_time": "2021-05-24T11:50:26.593245Z",
     "start_time": "2021-05-24T11:50:26.499338Z"
    }
   },
   "outputs": [],
   "source": [
    "workbook = load_workbook(r\"测试文件夹\\test2.xlsx\")\n",
    "sheet = workbook.active\n",
    "sheet.auto_filter.ref = \"A1\"\n",
    "workbook.save(r\"测试文件夹\\test2.xlsx\")"
   ]
  },
  {
   "cell_type": "markdown",
   "id": "f5bfca59",
   "metadata": {},
   "source": [
    "### 批量调整字体和样式"
   ]
  },
  {
   "cell_type": "markdown",
   "id": "9fff2dfb",
   "metadata": {},
   "source": [
    "#### 修改字体样式 cell.font = Font()"
   ]
  },
  {
   "cell_type": "markdown",
   "id": "9342a64f",
   "metadata": {},
   "source": [
    "Font(name=字体名称,size=字体大小,bold=是否加粗,italic=是否斜体,color=字体颜色)"
   ]
  },
  {
   "cell_type": "code",
   "execution_count": 17,
   "id": "7d18f8f9",
   "metadata": {
    "ExecuteTime": {
     "end_time": "2021-05-24T11:55:50.791865Z",
     "start_time": "2021-05-24T11:55:50.650031Z"
    }
   },
   "outputs": [],
   "source": [
    "from openpyxl.styles import Font\n",
    "from openpyxl import load_workbook\n",
    "\n",
    "workbook = load_workbook(r\"测试文件夹\\test2.xlsx\")\n",
    "sheet = workbook.active\n",
    "cell = sheet[\"A1\"]\n",
    "\n",
    "font = Font(name='幼圆', size=25, bold=True, italic=True, color='fff000')\n",
    "cell.font = font\n",
    "\n",
    "workbook.save(r\"测试文件夹\\test2.xlsx\")"
   ]
  },
  {
   "cell_type": "markdown",
   "id": "a277d1bc",
   "metadata": {},
   "source": [
    "#### 获取单元格的字体样式 cell.font"
   ]
  },
  {
   "cell_type": "code",
   "execution_count": 20,
   "id": "6d88e8ad",
   "metadata": {
    "ExecuteTime": {
     "end_time": "2021-05-24T12:00:38.622929Z",
     "start_time": "2021-05-24T12:00:38.538098Z"
    }
   },
   "outputs": [
    {
     "name": "stdout",
     "output_type": "stream",
     "text": [
      "<openpyxl.styles.fonts.Font object>\n",
      "Parameters:\n",
      "name='幼圆', charset=None, family=None, b=True, i=True, strike=None, outline=None, shadow=None, condense=None, color=<openpyxl.styles.colors.Color object>\n",
      "Parameters:\n",
      "rgb='00fff000', indexed=None, auto=None, theme=None, tint=0.0, type='rgb', extend=None, sz=25.0, u=None, vertAlign=None, scheme=None\n",
      "幼圆 25.0 True True <openpyxl.styles.colors.Color object>\n",
      "Parameters:\n",
      "rgb='00fff000', indexed=None, auto=None, theme=None, tint=0.0, type='rgb'\n"
     ]
    }
   ],
   "source": [
    "workbook = load_workbook(r\"测试文件夹\\test2.xlsx\")\n",
    "sheet = workbook.active\n",
    "cell = sheet[\"A1\"]\n",
    "\n",
    "font = cell.font\n",
    "print(font)\n",
    "print(font.name, font.size, font.bold, font.italic, font.color)\n",
    "\n",
    "workbook.save(r\"测试文件夹\\test2.xlsx\")"
   ]
  },
  {
   "cell_type": "markdown",
   "id": "ae63d36a",
   "metadata": {},
   "source": [
    "#### 设置对齐样式 Alignment()"
   ]
  },
  {
   "cell_type": "markdown",
   "id": "debda280",
   "metadata": {},
   "source": [
    "- Alignment(horizontal=水平对齐模式, vertical=垂直对齐模式, text_rotation=旋转角度, wrap_text=是否自动换行)\n",
    "- **水平对齐：**'distributed', 'justify', 'center', 'leftfill', 'centerContinuous', 'right', 'general'\n",
    "- **垂直对齐：**'bottom', 'distributed', 'justify', 'center', 'top'"
   ]
  },
  {
   "cell_type": "code",
   "execution_count": 23,
   "id": "2ccd6d52",
   "metadata": {
    "ExecuteTime": {
     "end_time": "2021-05-24T12:09:07.627227Z",
     "start_time": "2021-05-24T12:09:07.548823Z"
    }
   },
   "outputs": [],
   "source": [
    "from openpyxl.styles import Alignment\n",
    "from openpyxl import load_workbook\n",
    "\n",
    "workbook = load_workbook(r\"测试文件夹\\test2.xlsx\")\n",
    "sheet = workbook.active\n",
    "cell = sheet[\"A1\"]\n",
    "\n",
    "alignment = Alignment(horizontal='center', vertical='center', text_rotation=45, wrap_text=True)\n",
    "cell.alignment = alignment\n",
    "\n",
    "workbook.save(r\"测试文件夹\\test2.xlsx\")"
   ]
  },
  {
   "cell_type": "markdown",
   "id": "875206ab",
   "metadata": {},
   "source": [
    "#### 设置边框样式 Side() Border()"
   ]
  },
  {
   "cell_type": "markdown",
   "id": "98d604f1",
   "metadata": {},
   "source": [
    "- Side(style=边线样式, color=边线颜色)\n",
    "- Border(left=左边线样式, right=右边线样式, top=上边线样式, bottom=下边线样式)\n",
    "- style 参数的种类：'double', 'mediumDashDotDot', 'slantDashDot', 'dashDotDot', 'dotted', 'hair', 'mediumDashed', 'dashed', 'dashDot', 'thin', 'mediumDashDot', 'medium', 'thick'"
   ]
  },
  {
   "cell_type": "code",
   "execution_count": 24,
   "id": "c23428e3",
   "metadata": {
    "ExecuteTime": {
     "end_time": "2021-05-24T12:36:30.112863Z",
     "start_time": "2021-05-24T12:36:30.020750Z"
    }
   },
   "outputs": [],
   "source": [
    "from openpyxl.styles import Side, Border\n",
    "from openpyxl import load_workbook\n",
    "\n",
    "workbook = load_workbook(r\"测试文件夹\\test2.xlsx\")\n",
    "sheet = workbook.active\n",
    "cell = sheet[\"A1\"]\n",
    "\n",
    "side1 = Side(style='thin', color='ff0000')\n",
    "side2 = Side(style='thick', color='ffff0000')\n",
    "border = Border(left=side1, right=side1, top=side2, bottom=side2)\n",
    "cell.border = border\n",
    "\n",
    "workbook.save(r\"测试文件夹\\test2.xlsx\")"
   ]
  },
  {
   "cell_type": "markdown",
   "id": "90793d19",
   "metadata": {},
   "source": [
    "#### 设置填充样式 PatternFill() GradientFill"
   ]
  },
  {
   "cell_type": "markdown",
   "id": "ff82b0b3",
   "metadata": {
    "ExecuteTime": {
     "end_time": "2021-05-24T12:39:24.489456Z",
     "start_time": "2021-05-24T12:39:24.474924Z"
    }
   },
   "source": [
    "- PatternFill(fill_type=填充样式, fgColor=填充颜色）\n",
    "- GradientFill(stop=(渐变颜色 1, 渐变颜色 2……))"
   ]
  },
  {
   "cell_type": "code",
   "execution_count": 26,
   "id": "99c5ba2f",
   "metadata": {
    "ExecuteTime": {
     "end_time": "2021-05-24T12:42:48.351538Z",
     "start_time": "2021-05-24T12:42:48.265776Z"
    }
   },
   "outputs": [],
   "source": [
    "from openpyxl.styles import PatternFill, GradientFill\n",
    "from openpyxl import load_workbook\n",
    "\n",
    "workbook = load_workbook(r\"测试文件夹\\test2.xlsx\")\n",
    "sheet = workbook.active\n",
    "cell1 = sheet[\"A1\"]\n",
    "cell2 = sheet[\"B1\"]\n",
    "\n",
    "patternfill = PatternFill(fill_type='solid', fgColor='99ccff')\n",
    "cell1.fill = patternfill\n",
    "\n",
    "gradientfill = GradientFill(stop=('ffffff', '99ccff', '000000'))\n",
    "cell2.fill = gradientfill\n",
    "\n",
    "workbook.save(r\"测试文件夹\\test2.xlsx\")"
   ]
  },
  {
   "cell_type": "markdown",
   "id": "ae1c3352",
   "metadata": {},
   "source": [
    "#### 设置行高和列宽"
   ]
  },
  {
   "cell_type": "markdown",
   "id": "3927ae56",
   "metadata": {},
   "source": [
    "- sheet.row_dimensions[行编号].height = 行高\n",
    "- sheet.column_dimensions[列编号].width = 列宽\n",
    "\n",
    "##### 设置整个表的行高和列宽（经测试未生效）\n",
    "- sheet.row_dimensions.height = 行高\n",
    "- sheet.column_dimensions.width = 列宽"
   ]
  },
  {
   "cell_type": "code",
   "execution_count": 32,
   "id": "d14b11e4",
   "metadata": {
    "ExecuteTime": {
     "end_time": "2021-05-24T12:51:40.141517Z",
     "start_time": "2021-05-24T12:51:40.063725Z"
    }
   },
   "outputs": [],
   "source": [
    "from openpyxl import load_workbook\n",
    "\n",
    "workbook = load_workbook(r\"测试文件夹\\test2.xlsx\")\n",
    "sheet = workbook.active\n",
    "\n",
    "# 设置第一行的高度\n",
    "sheet.row_dimensions[1].height = 75\n",
    "# 设置B列的宽度\n",
    "sheet.column_dimensions[\"B\"].width = 50\n",
    "\n",
    "workbook.save(r\"测试文件夹\\test2.xlsx\")"
   ]
  },
  {
   "cell_type": "markdown",
   "id": "54380933",
   "metadata": {},
   "source": [
    "#### 合并单元格 sheet.merge_cells()"
   ]
  },
  {
   "cell_type": "markdown",
   "id": "81e58793",
   "metadata": {},
   "source": [
    "- sheet.merge_cells(待合并的格子编号)\n",
    "- sheet.merge_cells(start_row=起始行号, start_column=起始列号, end_row=结束行号, end_column=结束列号)"
   ]
  },
  {
   "cell_type": "code",
   "execution_count": 34,
   "id": "bf9decf9",
   "metadata": {
    "ExecuteTime": {
     "end_time": "2021-05-24T12:58:27.918635Z",
     "start_time": "2021-05-24T12:58:27.822631Z"
    }
   },
   "outputs": [],
   "source": [
    "from openpyxl import load_workbook\n",
    "\n",
    "workbook = load_workbook(r\"测试文件夹\\test2.xlsx\")\n",
    "sheet = workbook.active\n",
    "\n",
    "sheet.merge_cells('A1:C1')\n",
    "sheet.merge_cells(start_row=4, start_column=2, end_row=6, end_column=3)\n",
    "\n",
    "workbook.save(r\"测试文件夹\\test2.xlsx\")"
   ]
  },
  {
   "cell_type": "markdown",
   "id": "c4028e66",
   "metadata": {},
   "source": [
    "#### 取消合并单元格 sheet.unmerge_cells()"
   ]
  },
  {
   "cell_type": "markdown",
   "id": "a8db45d9",
   "metadata": {},
   "source": [
    "- sheet.unmerge_cells(待合并的格子编号)\n",
    "- sheet.unmerge_cells(start_row=起始行号, start_column=起始列号, end_row=结束行号, end_column=结束列号)"
   ]
  }
 ],
 "metadata": {
  "kernelspec": {
   "display_name": "Python 3",
   "language": "python",
   "name": "python3"
  },
  "language_info": {
   "codemirror_mode": {
    "name": "ipython",
    "version": 3
   },
   "file_extension": ".py",
   "mimetype": "text/x-python",
   "name": "python",
   "nbconvert_exporter": "python",
   "pygments_lexer": "ipython3",
   "version": "3.7.8"
  },
  "toc": {
   "base_numbering": 1,
   "nav_menu": {},
   "number_sections": true,
   "sideBar": true,
   "skip_h1_title": false,
   "title_cell": "Table of Contents",
   "title_sidebar": "Contents",
   "toc_cell": false,
   "toc_position": {
    "height": "calc(100% - 180px)",
    "left": "10px",
    "top": "150px",
    "width": "428.688px"
   },
   "toc_section_display": false,
   "toc_window_display": true
  }
 },
 "nbformat": 4,
 "nbformat_minor": 5
}
