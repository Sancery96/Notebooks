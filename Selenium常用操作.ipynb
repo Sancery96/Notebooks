{
 "cells": [
  {
   "cell_type": "markdown",
   "id": "58a7b076",
   "metadata": {},
   "source": [
    "### 安装"
   ]
  },
  {
   "cell_type": "markdown",
   "id": "f7da4004",
   "metadata": {},
   "source": [
    "1. pip install selenium\n",
    "1. [下载chromedriver.exe](http://chromedriver.storage.googleapis.com/index.html)\n",
    "1. [放至python.exe运行目录下](https://www.bilibili.com/read/cv4354566)"
   ]
  },
  {
   "cell_type": "markdown",
   "id": "0e6cf249",
   "metadata": {},
   "source": [
    "### 浏览器操作"
   ]
  },
  {
   "cell_type": "markdown",
   "id": "6b2b9cbf",
   "metadata": {},
   "source": [
    "#### 打开网页 driver.get()"
   ]
  },
  {
   "cell_type": "code",
   "execution_count": 8,
   "id": "5fa40f2f",
   "metadata": {
    "ExecuteTime": {
     "end_time": "2021-05-17T06:02:05.272856Z",
     "start_time": "2021-05-17T06:01:55.808177Z"
    }
   },
   "outputs": [],
   "source": [
    "from selenium import webdriver\n",
    "\n",
    "url = 'http://cn.bing.com/'\n",
    "\n",
    "driver = webdriver.Chrome()    # 打开谷歌浏览器\n",
    "driver.get(url)                # 打开网页"
   ]
  },
  {
   "cell_type": "markdown",
   "id": "256e6c82",
   "metadata": {},
   "source": [
    "#### 退出浏览器 driver.quit()"
   ]
  },
  {
   "cell_type": "markdown",
   "id": "08fcf77e",
   "metadata": {},
   "source": [
    " 即关闭所有窗口"
   ]
  },
  {
   "cell_type": "code",
   "execution_count": 9,
   "id": "793c4669",
   "metadata": {
    "ExecuteTime": {
     "end_time": "2021-05-17T06:02:43.322053Z",
     "start_time": "2021-05-17T06:02:05.275848Z"
    }
   },
   "outputs": [],
   "source": [
    "url = \"https://www.baidu.com/\"\n",
    "\n",
    "driver = webdriver.Chrome()\n",
    "driver.get(url)\n",
    "\n",
    "driver.quit()    # 退出浏览器"
   ]
  },
  {
   "cell_type": "markdown",
   "id": "1bfebb65",
   "metadata": {},
   "source": [
    "#### 关闭当前窗口 driver.close()"
   ]
  },
  {
   "cell_type": "code",
   "execution_count": 10,
   "id": "f262f166",
   "metadata": {
    "ExecuteTime": {
     "end_time": "2021-05-17T06:02:53.960754Z",
     "start_time": "2021-05-17T06:02:43.332820Z"
    }
   },
   "outputs": [],
   "source": [
    "url = \"https://www.baidu.com/\"\n",
    "\n",
    "driver = webdriver.Chrome()\n",
    "driver.get(url)\n",
    "\n",
    "driver.close()    # 关闭当前窗口"
   ]
  },
  {
   "cell_type": "code",
   "execution_count": 11,
   "id": "422832b1",
   "metadata": {
    "ExecuteTime": {
     "end_time": "2021-05-17T06:03:12.322663Z",
     "start_time": "2021-05-17T06:02:53.968731Z"
    }
   },
   "outputs": [],
   "source": [
    "url = \"https://www.baidu.com/\"\n",
    "\n",
    "driver = webdriver.Chrome()\n",
    "driver.get(url)\n",
    "driver.find_element_by_link_text(\"学术\").click()\n",
    "\n",
    "driver.close()    # 关闭当前窗口（关闭的是百度搜索，而非百度学术）\n",
    "\n",
    "driver.quit()"
   ]
  },
  {
   "cell_type": "markdown",
   "id": "ed721151",
   "metadata": {},
   "source": [
    "#### 最大化窗口 driver.maximize_window()"
   ]
  },
  {
   "cell_type": "code",
   "execution_count": 12,
   "id": "1a83ee13",
   "metadata": {
    "ExecuteTime": {
     "end_time": "2021-05-17T06:03:24.746447Z",
     "start_time": "2021-05-17T06:03:12.329470Z"
    }
   },
   "outputs": [],
   "source": [
    "url = \"http://cn.bing.com/\"\n",
    "\n",
    "driver = webdriver.Chrome()\n",
    "driver.get(url)\n",
    "\n",
    "driver.maximize_window()    # 最大化窗口\n",
    "\n",
    "driver.quit()"
   ]
  },
  {
   "cell_type": "markdown",
   "id": "5116c93a",
   "metadata": {},
   "source": [
    "#### 指定窗口大小 driver.set_window_size(xxx,xxx)"
   ]
  },
  {
   "cell_type": "code",
   "execution_count": 13,
   "id": "7b641a35",
   "metadata": {
    "ExecuteTime": {
     "end_time": "2021-05-17T06:03:34.325297Z",
     "start_time": "2021-05-17T06:03:24.752255Z"
    }
   },
   "outputs": [],
   "source": [
    "url = \"http://cn.bing.com/\"\n",
    "\n",
    "driver = webdriver.Chrome()\n",
    "driver.get(url)\n",
    "\n",
    "driver.set_window_size(600, 800)    # 设置窗口大小为600x800\n",
    "\n",
    "driver.maximize_window()            # 最大化窗口\n",
    "\n",
    "driver.quit()"
   ]
  },
  {
   "cell_type": "markdown",
   "id": "d5ee3554",
   "metadata": {},
   "source": [
    "#### 前进后退 driver.forward() driver.back()"
   ]
  },
  {
   "cell_type": "code",
   "execution_count": 14,
   "id": "b4fc86ce",
   "metadata": {
    "ExecuteTime": {
     "end_time": "2021-05-17T06:04:08.089590Z",
     "start_time": "2021-05-17T06:03:34.332056Z"
    }
   },
   "outputs": [],
   "source": [
    "url_1 = \"http://cn.bing.com/\"\n",
    "url_2 = \"https://www.baidu.com/\"\n",
    "\n",
    "driver = webdriver.Chrome()\n",
    "driver.get(url_1)\n",
    "\n",
    "driver.get(url_2)\n",
    "\n",
    "driver.back()       # 返回上一页\n",
    "\n",
    "driver.forward()    # 前进到下一页\n",
    "\n",
    "driver.quit()"
   ]
  },
  {
   "cell_type": "markdown",
   "id": "8ccceaee",
   "metadata": {},
   "source": [
    "#### 刷新页面 driver.refresh()"
   ]
  },
  {
   "cell_type": "code",
   "execution_count": 15,
   "id": "f3e01d07",
   "metadata": {
    "ExecuteTime": {
     "end_time": "2021-05-17T06:04:17.150045Z",
     "start_time": "2021-05-17T06:04:08.100145Z"
    }
   },
   "outputs": [],
   "source": [
    "url = \"http://cn.bing.com/\"\n",
    "\n",
    "driver = webdriver.Chrome()\n",
    "driver.get(url)\n",
    "\n",
    "driver.refresh()    # 刷新页面\n",
    "\n",
    "driver.quit()"
   ]
  },
  {
   "cell_type": "markdown",
   "id": "21ce08cd",
   "metadata": {},
   "source": [
    "#### 获取浏览器类型 driver.name"
   ]
  },
  {
   "cell_type": "code",
   "execution_count": 16,
   "id": "27538ade",
   "metadata": {
    "ExecuteTime": {
     "end_time": "2021-05-17T06:04:25.116881Z",
     "start_time": "2021-05-17T06:04:17.159062Z"
    }
   },
   "outputs": [
    {
     "name": "stdout",
     "output_type": "stream",
     "text": [
      "chrome\n"
     ]
    }
   ],
   "source": [
    "url = \"http://cn.bing.com/\"\n",
    "\n",
    "driver = webdriver.Chrome()\n",
    "driver.get(url)\n",
    "\n",
    "browser_name = driver.name    # 获取浏览器类型\n",
    "print(browser_name)\n",
    "\n",
    "driver.quit()"
   ]
  },
  {
   "cell_type": "markdown",
   "id": "d16b4338",
   "metadata": {},
   "source": [
    "#### 获取当前页面标题 driver.title"
   ]
  },
  {
   "cell_type": "code",
   "execution_count": 17,
   "id": "58d3e343",
   "metadata": {
    "ExecuteTime": {
     "end_time": "2021-05-17T06:04:33.380412Z",
     "start_time": "2021-05-17T06:04:25.120843Z"
    }
   },
   "outputs": [
    {
     "name": "stdout",
     "output_type": "stream",
     "text": [
      "微软 Bing 搜索 - 国内版\n"
     ]
    }
   ],
   "source": [
    "url = \"http://cn.bing.com/\"\n",
    "\n",
    "driver = webdriver.Chrome()\n",
    "driver.get(url)\n",
    "\n",
    "title = driver.title    # 获取当前页面标题\n",
    "print(title)\n",
    "\n",
    "driver.quit()"
   ]
  },
  {
   "cell_type": "markdown",
   "id": "aca4ecfc",
   "metadata": {},
   "source": [
    "#### 获取当前页面URL地址 driver.current_url"
   ]
  },
  {
   "cell_type": "code",
   "execution_count": 18,
   "id": "5b2ca20d",
   "metadata": {
    "ExecuteTime": {
     "end_time": "2021-05-17T06:04:40.974208Z",
     "start_time": "2021-05-17T06:04:33.388394Z"
    }
   },
   "outputs": [
    {
     "name": "stdout",
     "output_type": "stream",
     "text": [
      "https://www.bing.com/?mkt=zh-CN\n"
     ]
    }
   ],
   "source": [
    "url = \"http://cn.bing.com/\"\n",
    "\n",
    "driver = webdriver.Chrome()\n",
    "driver.get(url)\n",
    "\n",
    "current_url = driver.current_url    # 获取当前页面URL地址\n",
    "print(current_url)\n",
    "\n",
    "driver.quit()"
   ]
  },
  {
   "cell_type": "markdown",
   "id": "b99c6f7f",
   "metadata": {},
   "source": [
    "### 元素定位"
   ]
  },
  {
   "cell_type": "markdown",
   "id": "0fa9faf3",
   "metadata": {},
   "source": [
    "1. find_element_by_xxx(\"xxx\")\n",
    "1. find_elements_by_xxx(\"xxx\")\n",
    "1. find_element(By.xxx, \"xxx\")\n",
    "1. find_elements(By.xxx, \"xxx\")"
   ]
  },
  {
   "cell_type": "markdown",
   "id": "a6270f3b",
   "metadata": {},
   "source": [
    "#### id"
   ]
  },
  {
   "cell_type": "markdown",
   "id": "3de7278b",
   "metadata": {},
   "source": [
    "##### driver.find_element_by_id(\"xxx\")"
   ]
  },
  {
   "cell_type": "code",
   "execution_count": 19,
   "id": "cb599682",
   "metadata": {
    "ExecuteTime": {
     "end_time": "2021-05-17T06:05:02.153439Z",
     "start_time": "2021-05-17T06:04:40.980197Z"
    }
   },
   "outputs": [],
   "source": [
    "from selenium import webdriver\n",
    "import time\n",
    "\n",
    "url = \"http://cn.bing.com/\"\n",
    "search_content = \"alpha\"\n",
    "\n",
    "driver = webdriver.Chrome()                                         # 打开谷歌浏览器\n",
    "driver.get(url)                                                     # 打开网页\n",
    "\n",
    "driver.find_element_by_id(\"sb_form_q\").send_keys(search_content)    # 找到搜索框，输入搜索词\n",
    "driver.find_element_by_id(\"sb_form_go\").click()                     # 点击搜索按键\n",
    "\n",
    "time.sleep(3)\n",
    "driver.quit()                                                       # 关闭浏览器"
   ]
  },
  {
   "cell_type": "markdown",
   "id": "5a9de453",
   "metadata": {},
   "source": [
    "##### driver.find_element(By.ID, \"xxx\")"
   ]
  },
  {
   "cell_type": "code",
   "execution_count": 20,
   "id": "19a29be3",
   "metadata": {
    "ExecuteTime": {
     "end_time": "2021-05-17T06:05:23.601391Z",
     "start_time": "2021-05-17T06:05:02.160426Z"
    }
   },
   "outputs": [],
   "source": [
    "from selenium.webdriver.common.by import By\n",
    "\n",
    "url = \"http://cn.bing.com/\"\n",
    "search_content = \"alpha\"\n",
    "\n",
    "driver = webdriver.Chrome()\n",
    "driver.get(url)\n",
    "\n",
    "driver.find_element(By.ID, \"sb_form_q\").send_keys(search_content)    # 找到搜索框，输入搜索词\n",
    "driver.find_element(By.ID, \"sb_form_go\").click()                     # 点击搜索按键\n",
    "\n",
    "time.sleep(3)\n",
    "driver.quit()  "
   ]
  },
  {
   "cell_type": "markdown",
   "id": "10d5ca57",
   "metadata": {},
   "source": [
    "#### name"
   ]
  },
  {
   "cell_type": "markdown",
   "id": "aab2ffb3",
   "metadata": {},
   "source": [
    "##### driver.find_element_by_name(\"xxx\")"
   ]
  },
  {
   "cell_type": "code",
   "execution_count": 21,
   "id": "fae93184",
   "metadata": {
    "ExecuteTime": {
     "end_time": "2021-05-17T06:05:34.907607Z",
     "start_time": "2021-05-17T06:05:23.607367Z"
    }
   },
   "outputs": [],
   "source": [
    "url = \"http://cn.bing.com/\"\n",
    "search_content = \"alpha\"\n",
    "\n",
    "driver = webdriver.Chrome()\n",
    "driver.get(url)\n",
    "\n",
    "driver.find_element_by_name(\"q\").send_keys(search_content)    # 找到搜索框，输入搜索词\n",
    "\n",
    "time.sleep(3)\n",
    "driver.quit()"
   ]
  },
  {
   "cell_type": "markdown",
   "id": "2ffe1074",
   "metadata": {},
   "source": [
    "##### driver.find_element(By.NAME, \"xxx\")"
   ]
  },
  {
   "cell_type": "code",
   "execution_count": 22,
   "id": "7ef640e8",
   "metadata": {
    "ExecuteTime": {
     "end_time": "2021-05-17T06:05:46.627495Z",
     "start_time": "2021-05-17T06:05:34.914588Z"
    }
   },
   "outputs": [],
   "source": [
    "url = \"http://cn.bing.com/\"\n",
    "search_content = \"alpha\"\n",
    "\n",
    "driver = webdriver.Chrome()\n",
    "driver.get(url)\n",
    "\n",
    "driver.find_element(By.NAME, \"q\").send_keys(search_content)    # 找到搜索框，输入搜索词\n",
    "\n",
    "time.sleep(3)\n",
    "driver.quit()  "
   ]
  },
  {
   "cell_type": "markdown",
   "id": "225e79d1",
   "metadata": {},
   "source": [
    "#### class_name"
   ]
  },
  {
   "cell_type": "markdown",
   "id": "4bd9490d",
   "metadata": {},
   "source": [
    "有时元素的class属性由空格隔开的多个值组成，只取其中一个（唯一的）即可"
   ]
  },
  {
   "cell_type": "markdown",
   "id": "5ce4e0e2",
   "metadata": {},
   "source": [
    "##### driver.find_element_by_class_name(\"xxx\")"
   ]
  },
  {
   "cell_type": "code",
   "execution_count": 23,
   "id": "4950aa66",
   "metadata": {
    "ExecuteTime": {
     "end_time": "2021-05-17T06:05:57.454116Z",
     "start_time": "2021-05-17T06:05:46.634102Z"
    }
   },
   "outputs": [],
   "source": [
    "url = \"http://cn.bing.com/\"\n",
    "search_content = \"alpha\"\n",
    "\n",
    "driver = webdriver.Chrome()\n",
    "driver.get(url)\n",
    "\n",
    "driver.find_element_by_class_name(\"b_searchbox\").send_keys(search_content)    # 找到搜索框，输入搜索词\n",
    "\n",
    "time.sleep(3)\n",
    "driver.quit()"
   ]
  },
  {
   "cell_type": "markdown",
   "id": "12e11994",
   "metadata": {},
   "source": [
    "###### class存在多个属性值的定位"
   ]
  },
  {
   "cell_type": "markdown",
   "id": "073ad106",
   "metadata": {},
   "source": [
    "class name应选择其中的一个值"
   ]
  },
  {
   "cell_type": "code",
   "execution_count": 1,
   "id": "a96d7b41",
   "metadata": {
    "ExecuteTime": {
     "end_time": "2021-05-21T04:33:15.917764Z",
     "start_time": "2021-05-21T04:33:08.009786Z"
    },
    "scrolled": true
   },
   "outputs": [
    {
     "ename": "NoSuchElementException",
     "evalue": "Message: no such element: Unable to locate element: {\"method\":\"css selector\",\"selector\":\".bg s_btn\"}\n  (Session info: chrome=90.0.4430.212)\n",
     "output_type": "error",
     "traceback": [
      "\u001b[1;31m---------------------------------------------------------------------------\u001b[0m",
      "\u001b[1;31mNoSuchElementException\u001b[0m                    Traceback (most recent call last)",
      "\u001b[1;32m<ipython-input-1-9296d131094a>\u001b[0m in \u001b[0;36m<module>\u001b[1;34m\u001b[0m\n\u001b[0;32m      4\u001b[0m \u001b[0mdriver\u001b[0m\u001b[1;33m.\u001b[0m\u001b[0mget\u001b[0m\u001b[1;33m(\u001b[0m\u001b[0murl\u001b[0m\u001b[1;33m)\u001b[0m\u001b[1;33m\u001b[0m\u001b[1;33m\u001b[0m\u001b[0m\n\u001b[0;32m      5\u001b[0m \u001b[0mdriver\u001b[0m\u001b[1;33m.\u001b[0m\u001b[0mfind_element_by_id\u001b[0m\u001b[1;33m(\u001b[0m\u001b[1;34m\"kw\"\u001b[0m\u001b[1;33m)\u001b[0m\u001b[1;33m.\u001b[0m\u001b[0msend_keys\u001b[0m\u001b[1;33m(\u001b[0m\u001b[1;34m\"哈哈哈\"\u001b[0m\u001b[1;33m)\u001b[0m\u001b[1;33m\u001b[0m\u001b[1;33m\u001b[0m\u001b[0m\n\u001b[1;32m----> 6\u001b[1;33m \u001b[0mdriver\u001b[0m\u001b[1;33m.\u001b[0m\u001b[0mfind_element_by_class_name\u001b[0m\u001b[1;33m(\u001b[0m\u001b[1;34m\"bg s_btn\"\u001b[0m\u001b[1;33m)\u001b[0m\u001b[1;33m.\u001b[0m\u001b[0mclick\u001b[0m\u001b[1;33m(\u001b[0m\u001b[1;33m)\u001b[0m\u001b[1;33m\u001b[0m\u001b[1;33m\u001b[0m\u001b[0m\n\u001b[0m",
      "\u001b[1;32m~\\AppData\\Roaming\\Python\\Python37\\site-packages\\selenium\\webdriver\\remote\\webdriver.py\u001b[0m in \u001b[0;36mfind_element_by_class_name\u001b[1;34m(self, name)\u001b[0m\n\u001b[0;32m    562\u001b[0m             \u001b[0melement\u001b[0m \u001b[1;33m=\u001b[0m \u001b[0mdriver\u001b[0m\u001b[1;33m.\u001b[0m\u001b[0mfind_element_by_class_name\u001b[0m\u001b[1;33m(\u001b[0m\u001b[1;34m'foo'\u001b[0m\u001b[1;33m)\u001b[0m\u001b[1;33m\u001b[0m\u001b[1;33m\u001b[0m\u001b[0m\n\u001b[0;32m    563\u001b[0m         \"\"\"\n\u001b[1;32m--> 564\u001b[1;33m         \u001b[1;32mreturn\u001b[0m \u001b[0mself\u001b[0m\u001b[1;33m.\u001b[0m\u001b[0mfind_element\u001b[0m\u001b[1;33m(\u001b[0m\u001b[0mby\u001b[0m\u001b[1;33m=\u001b[0m\u001b[0mBy\u001b[0m\u001b[1;33m.\u001b[0m\u001b[0mCLASS_NAME\u001b[0m\u001b[1;33m,\u001b[0m \u001b[0mvalue\u001b[0m\u001b[1;33m=\u001b[0m\u001b[0mname\u001b[0m\u001b[1;33m)\u001b[0m\u001b[1;33m\u001b[0m\u001b[1;33m\u001b[0m\u001b[0m\n\u001b[0m\u001b[0;32m    565\u001b[0m \u001b[1;33m\u001b[0m\u001b[0m\n\u001b[0;32m    566\u001b[0m     \u001b[1;32mdef\u001b[0m \u001b[0mfind_elements_by_class_name\u001b[0m\u001b[1;33m(\u001b[0m\u001b[0mself\u001b[0m\u001b[1;33m,\u001b[0m \u001b[0mname\u001b[0m\u001b[1;33m)\u001b[0m\u001b[1;33m:\u001b[0m\u001b[1;33m\u001b[0m\u001b[1;33m\u001b[0m\u001b[0m\n",
      "\u001b[1;32m~\\AppData\\Roaming\\Python\\Python37\\site-packages\\selenium\\webdriver\\remote\\webdriver.py\u001b[0m in \u001b[0;36mfind_element\u001b[1;34m(self, by, value)\u001b[0m\n\u001b[0;32m    976\u001b[0m         return self.execute(Command.FIND_ELEMENT, {\n\u001b[0;32m    977\u001b[0m             \u001b[1;34m'using'\u001b[0m\u001b[1;33m:\u001b[0m \u001b[0mby\u001b[0m\u001b[1;33m,\u001b[0m\u001b[1;33m\u001b[0m\u001b[1;33m\u001b[0m\u001b[0m\n\u001b[1;32m--> 978\u001b[1;33m             'value': value})['value']\n\u001b[0m\u001b[0;32m    979\u001b[0m \u001b[1;33m\u001b[0m\u001b[0m\n\u001b[0;32m    980\u001b[0m     \u001b[1;32mdef\u001b[0m \u001b[0mfind_elements\u001b[0m\u001b[1;33m(\u001b[0m\u001b[0mself\u001b[0m\u001b[1;33m,\u001b[0m \u001b[0mby\u001b[0m\u001b[1;33m=\u001b[0m\u001b[0mBy\u001b[0m\u001b[1;33m.\u001b[0m\u001b[0mID\u001b[0m\u001b[1;33m,\u001b[0m \u001b[0mvalue\u001b[0m\u001b[1;33m=\u001b[0m\u001b[1;32mNone\u001b[0m\u001b[1;33m)\u001b[0m\u001b[1;33m:\u001b[0m\u001b[1;33m\u001b[0m\u001b[1;33m\u001b[0m\u001b[0m\n",
      "\u001b[1;32m~\\AppData\\Roaming\\Python\\Python37\\site-packages\\selenium\\webdriver\\remote\\webdriver.py\u001b[0m in \u001b[0;36mexecute\u001b[1;34m(self, driver_command, params)\u001b[0m\n\u001b[0;32m    319\u001b[0m         \u001b[0mresponse\u001b[0m \u001b[1;33m=\u001b[0m \u001b[0mself\u001b[0m\u001b[1;33m.\u001b[0m\u001b[0mcommand_executor\u001b[0m\u001b[1;33m.\u001b[0m\u001b[0mexecute\u001b[0m\u001b[1;33m(\u001b[0m\u001b[0mdriver_command\u001b[0m\u001b[1;33m,\u001b[0m \u001b[0mparams\u001b[0m\u001b[1;33m)\u001b[0m\u001b[1;33m\u001b[0m\u001b[1;33m\u001b[0m\u001b[0m\n\u001b[0;32m    320\u001b[0m         \u001b[1;32mif\u001b[0m \u001b[0mresponse\u001b[0m\u001b[1;33m:\u001b[0m\u001b[1;33m\u001b[0m\u001b[1;33m\u001b[0m\u001b[0m\n\u001b[1;32m--> 321\u001b[1;33m             \u001b[0mself\u001b[0m\u001b[1;33m.\u001b[0m\u001b[0merror_handler\u001b[0m\u001b[1;33m.\u001b[0m\u001b[0mcheck_response\u001b[0m\u001b[1;33m(\u001b[0m\u001b[0mresponse\u001b[0m\u001b[1;33m)\u001b[0m\u001b[1;33m\u001b[0m\u001b[1;33m\u001b[0m\u001b[0m\n\u001b[0m\u001b[0;32m    322\u001b[0m             response['value'] = self._unwrap_value(\n\u001b[0;32m    323\u001b[0m                 response.get('value', None))\n",
      "\u001b[1;32m~\\AppData\\Roaming\\Python\\Python37\\site-packages\\selenium\\webdriver\\remote\\errorhandler.py\u001b[0m in \u001b[0;36mcheck_response\u001b[1;34m(self, response)\u001b[0m\n\u001b[0;32m    240\u001b[0m                 \u001b[0malert_text\u001b[0m \u001b[1;33m=\u001b[0m \u001b[0mvalue\u001b[0m\u001b[1;33m[\u001b[0m\u001b[1;34m'alert'\u001b[0m\u001b[1;33m]\u001b[0m\u001b[1;33m.\u001b[0m\u001b[0mget\u001b[0m\u001b[1;33m(\u001b[0m\u001b[1;34m'text'\u001b[0m\u001b[1;33m)\u001b[0m\u001b[1;33m\u001b[0m\u001b[1;33m\u001b[0m\u001b[0m\n\u001b[0;32m    241\u001b[0m             \u001b[1;32mraise\u001b[0m \u001b[0mexception_class\u001b[0m\u001b[1;33m(\u001b[0m\u001b[0mmessage\u001b[0m\u001b[1;33m,\u001b[0m \u001b[0mscreen\u001b[0m\u001b[1;33m,\u001b[0m \u001b[0mstacktrace\u001b[0m\u001b[1;33m,\u001b[0m \u001b[0malert_text\u001b[0m\u001b[1;33m)\u001b[0m\u001b[1;33m\u001b[0m\u001b[1;33m\u001b[0m\u001b[0m\n\u001b[1;32m--> 242\u001b[1;33m         \u001b[1;32mraise\u001b[0m \u001b[0mexception_class\u001b[0m\u001b[1;33m(\u001b[0m\u001b[0mmessage\u001b[0m\u001b[1;33m,\u001b[0m \u001b[0mscreen\u001b[0m\u001b[1;33m,\u001b[0m \u001b[0mstacktrace\u001b[0m\u001b[1;33m)\u001b[0m\u001b[1;33m\u001b[0m\u001b[1;33m\u001b[0m\u001b[0m\n\u001b[0m\u001b[0;32m    243\u001b[0m \u001b[1;33m\u001b[0m\u001b[0m\n\u001b[0;32m    244\u001b[0m     \u001b[1;32mdef\u001b[0m \u001b[0m_value_or_default\u001b[0m\u001b[1;33m(\u001b[0m\u001b[0mself\u001b[0m\u001b[1;33m,\u001b[0m \u001b[0mobj\u001b[0m\u001b[1;33m,\u001b[0m \u001b[0mkey\u001b[0m\u001b[1;33m,\u001b[0m \u001b[0mdefault\u001b[0m\u001b[1;33m)\u001b[0m\u001b[1;33m:\u001b[0m\u001b[1;33m\u001b[0m\u001b[1;33m\u001b[0m\u001b[0m\n",
      "\u001b[1;31mNoSuchElementException\u001b[0m: Message: no such element: Unable to locate element: {\"method\":\"css selector\",\"selector\":\".bg s_btn\"}\n  (Session info: chrome=90.0.4430.212)\n"
     ]
    }
   ],
   "source": [
    "from selenium import webdriver\n",
    "url = \"https://www.baidu.com/\"\n",
    "driver = webdriver.Chrome()\n",
    "driver.get(url)\n",
    "driver.find_element_by_id(\"kw\").send_keys(\"哈哈哈\")\n",
    "driver.find_element_by_class_name(\"bg s_btn\").click()"
   ]
  },
  {
   "cell_type": "code",
   "execution_count": 3,
   "id": "a9d5a4d5",
   "metadata": {
    "ExecuteTime": {
     "end_time": "2021-05-21T04:35:07.613073Z",
     "start_time": "2021-05-21T04:35:01.113342Z"
    }
   },
   "outputs": [],
   "source": [
    "from selenium import webdriver\n",
    "url = \"https://www.baidu.com/\"\n",
    "driver = webdriver.Chrome()\n",
    "driver.get(url)\n",
    "driver.find_element_by_id(\"kw\").send_keys(\"哈哈哈\")\n",
    "driver.find_element_by_class_name(\"s_btn\").click()"
   ]
  },
  {
   "cell_type": "code",
   "execution_count": 2,
   "id": "70cecaa8",
   "metadata": {
    "ExecuteTime": {
     "end_time": "2021-05-21T04:33:59.019605Z",
     "start_time": "2021-05-21T04:33:52.493288Z"
    }
   },
   "outputs": [],
   "source": [
    "from selenium import webdriver\n",
    "url = \"https://www.baidu.com/\"\n",
    "driver = webdriver.Chrome()\n",
    "driver.get(url)\n",
    "driver.find_element_by_id(\"kw\").send_keys(\"哈哈哈\")\n",
    "driver.find_element_by_class_name(\"s_btn\").click()"
   ]
  },
  {
   "cell_type": "markdown",
   "id": "b2491e60",
   "metadata": {},
   "source": [
    "##### driver.find_element(By.CLASS_NAME, \"xxx\")"
   ]
  },
  {
   "cell_type": "code",
   "execution_count": 24,
   "id": "5cd586d2",
   "metadata": {
    "ExecuteTime": {
     "end_time": "2021-05-17T06:06:08.717444Z",
     "start_time": "2021-05-17T06:05:57.458073Z"
    }
   },
   "outputs": [],
   "source": [
    "url = \"http://cn.bing.com/\"\n",
    "search_content = \"alpha\"\n",
    "\n",
    "driver = webdriver.Chrome()\n",
    "driver.get(url)\n",
    "\n",
    "driver.find_element(By.CLASS_NAME, \"b_searchbox\").send_keys(search_content)    # 找到搜索框，输入搜索词\n",
    "\n",
    "time.sleep(3)\n",
    "driver.quit() "
   ]
  },
  {
   "cell_type": "markdown",
   "id": "bdcdbbfe",
   "metadata": {},
   "source": [
    "#### tag_name"
   ]
  },
  {
   "cell_type": "markdown",
   "id": "790327f7",
   "metadata": {},
   "source": [
    "##### driver.find_element_by_tag_name(\"xxx\")"
   ]
  },
  {
   "cell_type": "markdown",
   "id": "abf78fc8",
   "metadata": {},
   "source": [
    "尽量少用或不用标签名定位单个元素"
   ]
  },
  {
   "cell_type": "code",
   "execution_count": 25,
   "id": "1f3d9b4d",
   "metadata": {
    "ExecuteTime": {
     "end_time": "2021-05-17T06:06:26.908680Z",
     "start_time": "2021-05-17T06:06:08.724160Z"
    }
   },
   "outputs": [],
   "source": [
    "url = \"http://cn.bing.com/\"\n",
    "search_content = \"alpha\"\n",
    "\n",
    "driver = webdriver.Chrome()\n",
    "driver.get(url)\n",
    "\n",
    "driver.find_element_by_tag_name(\"input\").send_keys(search_content)    # 找到搜索框，输入搜索词\n",
    "\n",
    "time.sleep(3)\n",
    "driver.quit()"
   ]
  },
  {
   "cell_type": "markdown",
   "id": "7767cc74",
   "metadata": {},
   "source": [
    "##### driver.find_elements_by_tag_name(\"xxx\")"
   ]
  },
  {
   "cell_type": "code",
   "execution_count": 26,
   "id": "801efe11",
   "metadata": {
    "ExecuteTime": {
     "end_time": "2021-05-17T06:06:34.035086Z",
     "start_time": "2021-05-17T06:06:26.915721Z"
    }
   },
   "outputs": [],
   "source": [
    "url = \"file:///D:/Documents/Learn/Jupyter%20Notebook/%E6%B5%8B%E8%AF%95%E6%96%87%E4%BB%B6%E5%A4%B9/checkbox.html\"\n",
    "\n",
    "driver = webdriver.Chrome()\n",
    "driver.get(url)\n",
    "\n",
    "inputs = driver.find_elements_by_tag_name(\"input\")\n",
    "for i in inputs:\n",
    "    if i.get_attribute(\"type\") == \"checkbox\":\n",
    "        i.click()\n",
    "        time.sleep(1)\n",
    "driver.quit()"
   ]
  },
  {
   "cell_type": "markdown",
   "id": "d0470325",
   "metadata": {},
   "source": [
    "##### driver.find_elements(By.TAG_NAME, \"xxx\")"
   ]
  },
  {
   "cell_type": "code",
   "execution_count": 27,
   "id": "e8d05260",
   "metadata": {
    "ExecuteTime": {
     "end_time": "2021-05-17T06:06:42.186893Z",
     "start_time": "2021-05-17T06:06:34.043594Z"
    }
   },
   "outputs": [
    {
     "name": "stdout",
     "output_type": "stream",
     "text": [
      "表格行数为：3\n",
      "表格行数为：3\n",
      "表格列数为：2\n",
      "表格第一行，第一个单元格的内容为：省份\n"
     ]
    }
   ],
   "source": [
    "url = \"file:///D:/Documents/Learn/Jupyter%20Notebook/%E6%B5%8B%E8%AF%95%E6%96%87%E4%BB%B6%E5%A4%B9/table_select.html\"\n",
    "\n",
    "driver = webdriver.Chrome()\n",
    "driver.get(url)\n",
    "\n",
    "table = driver.find_element_by_id(\"qw\")\n",
    "\n",
    "rows = driver.find_elements_by_tag_name(\"tr\")\n",
    "print(f\"表格行数为：{len(rows)}\")\n",
    "\n",
    "rows = driver.find_elements(By.TAG_NAME, \"tr\")\n",
    "print(f\"表格行数为：{len(rows)}\")\n",
    "\n",
    "cols = rows[0].find_elements_by_tag_name(\"th\")\n",
    "print(f\"表格列数为：{len(cols)}\")\n",
    "\n",
    "cell = rows[0].find_elements_by_tag_name(\"th\")[0].text\n",
    "print(f\"表格第一行，第一个单元格的内容为：{cell}\")\n",
    "\n",
    "select_list = driver.find_element_by_name(\"site\")\n",
    "time.sleep(1)\n",
    "select_list.find_element_by_xpath(\"/html/body/div/select/option[2]\").click()\n",
    "\n",
    "time.sleep(3)\n",
    "driver.quit()"
   ]
  },
  {
   "cell_type": "markdown",
   "id": "a6340b95",
   "metadata": {},
   "source": [
    "#### link_text"
   ]
  },
  {
   "cell_type": "markdown",
   "id": "bb1ec94e",
   "metadata": {},
   "source": [
    "通过文本链接的文本定位元素"
   ]
  },
  {
   "cell_type": "markdown",
   "id": "289992e2",
   "metadata": {},
   "source": [
    "##### driver.find_element_by_link_text(\"xxx\")"
   ]
  },
  {
   "cell_type": "code",
   "execution_count": 28,
   "id": "5a94f834",
   "metadata": {
    "ExecuteTime": {
     "end_time": "2021-05-17T06:06:56.837359Z",
     "start_time": "2021-05-17T06:06:42.193872Z"
    }
   },
   "outputs": [],
   "source": [
    "url = \"https://www.baidu.com/\"\n",
    "\n",
    "driver = webdriver.Chrome()\n",
    "driver.get(url)\n",
    "\n",
    "driver.find_element_by_link_text(\"学术\").click()\n",
    "\n",
    "time.sleep(3)\n",
    "driver.quit()"
   ]
  },
  {
   "cell_type": "markdown",
   "id": "f54eb6f6",
   "metadata": {},
   "source": [
    "##### driver.find_element(By.LINK_TEXT, \"xxx\")"
   ]
  },
  {
   "cell_type": "code",
   "execution_count": 29,
   "id": "6c9f4520",
   "metadata": {
    "ExecuteTime": {
     "end_time": "2021-05-17T06:07:10.765682Z",
     "start_time": "2021-05-17T06:06:56.842351Z"
    }
   },
   "outputs": [],
   "source": [
    "url = \"https://www.baidu.com/\"\n",
    "\n",
    "driver = webdriver.Chrome()\n",
    "driver.get(url)\n",
    "\n",
    "driver.find_element(By.LINK_TEXT, \"学术\").click()\n",
    "\n",
    "time.sleep(3)\n",
    "driver.quit()"
   ]
  },
  {
   "cell_type": "markdown",
   "id": "9a3d37e1",
   "metadata": {},
   "source": [
    "#### partial_link_text"
   ]
  },
  {
   "cell_type": "markdown",
   "id": "356c6a34",
   "metadata": {},
   "source": [
    "通过文本链接的一部分文本来定位元素"
   ]
  },
  {
   "cell_type": "markdown",
   "id": "41dd8839",
   "metadata": {},
   "source": [
    "##### driver.find_element_by_partial_link_text(\"xxx\")"
   ]
  },
  {
   "cell_type": "code",
   "execution_count": 30,
   "id": "36cbff51",
   "metadata": {
    "ExecuteTime": {
     "end_time": "2021-05-17T06:07:26.124132Z",
     "start_time": "2021-05-17T06:07:10.786658Z"
    }
   },
   "outputs": [],
   "source": [
    "url = \"https://www.baidu.com/\"\n",
    "\n",
    "driver = webdriver.Chrome()\n",
    "driver.get(url)\n",
    "\n",
    "driver.find_element_by_partial_link_text(\"学\").click()\n",
    "\n",
    "time.sleep(3)\n",
    "driver.quit()"
   ]
  },
  {
   "cell_type": "markdown",
   "id": "39c16248",
   "metadata": {},
   "source": [
    "#### xpath"
   ]
  },
  {
   "cell_type": "markdown",
   "id": "187eed56",
   "metadata": {},
   "source": [
    "##### xpath定位元素示例"
   ]
  },
  {
   "cell_type": "markdown",
   "id": "9f3ba51d",
   "metadata": {},
   "source": [
    "|路径|含义|\n",
    "|:----|:----|\n",
    "|//a[1]|第一个a标签|\n",
    "|//input[@class'b_searchbox']|class属性是'b_searchbox'的input标签|\n",
    "|//form[input@name='q']|form标签下，name属性是'q'的input标签|\n",
    "|//form[@id='sb_form_q']/input[1]|id属性是'sb_form_q'的form标签下，第一个input标签|\n",
    "|//input[@id='sb_form_q' and @name='q']|id属性是'sb_form_q'，name属性是'q'的input标签|\n",
    "|//*[@id=\"sb_form_q\"]|任意路径，任意标签中，id属性是'sb_form_q'的标签|\n",
    "|/html/body/input[1]|绝对路径|"
   ]
  },
  {
   "cell_type": "markdown",
   "id": "4dc08fde",
   "metadata": {},
   "source": [
    "1. //      表示当前页面某个任意目录下\n",
    "1. \\*      表示匹配所有标签\n",
    "1. 若元素无法通过自身属性唯一标识，可考虑借助上一级元素定位\n",
    "1. 若元素无法通过单一属性唯一标识，可考虑借助元素的多个属性组合定位"
   ]
  },
  {
   "cell_type": "markdown",
   "id": "e7f0999c",
   "metadata": {},
   "source": [
    "##### driver.find_element_by_xpath(\"xxx\")"
   ]
  },
  {
   "cell_type": "code",
   "execution_count": 33,
   "id": "a1f89be5",
   "metadata": {
    "ExecuteTime": {
     "end_time": "2021-05-17T06:11:09.770676Z",
     "start_time": "2021-05-17T06:10:45.322347Z"
    }
   },
   "outputs": [],
   "source": [
    "url = \"http://cn.bing.com/\"\n",
    "search_content = \"alpha\"\n",
    "\n",
    "driver = webdriver.Chrome()\n",
    "driver.get(url)\n",
    "\n",
    "driver.find_element_by_xpath('//*[@id=\"sb_form_q\"]').send_keys(search_content)               # 通过元素的属性值，找到搜索框，输入搜索词\n",
    "driver.find_element_by_xpath('/html/body/table/tbody/tr/td/div/div[2]/div[3]/form/div/div[1]/input').click()    # 通过元素的绝对路径，找到并点击搜索按键\n",
    "\n",
    "time.sleep(3)\n",
    "driver.quit()  "
   ]
  },
  {
   "cell_type": "markdown",
   "id": "27d30e5e",
   "metadata": {},
   "source": [
    "##### driver.find_elements_by_xpath(\"xxx\")"
   ]
  },
  {
   "cell_type": "code",
   "execution_count": 34,
   "id": "660dda3d",
   "metadata": {
    "ExecuteTime": {
     "end_time": "2021-05-17T06:11:34.276388Z",
     "start_time": "2021-05-17T06:11:26.987850Z"
    }
   },
   "outputs": [],
   "source": [
    "url = \"file:///D:/Documents/Learn/Jupyter%20Notebook/%E6%B5%8B%E8%AF%95%E6%96%87%E4%BB%B6%E5%A4%B9/checkbox.html\"\n",
    "\n",
    "driver = webdriver.Chrome()\n",
    "driver.get(url)\n",
    "\n",
    "inputs = driver.find_elements_by_xpath(\"//input[@name='fruit']\")\n",
    "for i in inputs:\n",
    "    if i.get_attribute(\"type\") == \"checkbox\":\n",
    "        i.click()\n",
    "        time.sleep(1)\n",
    "driver.quit()"
   ]
  },
  {
   "cell_type": "markdown",
   "id": "bd8a63a3",
   "metadata": {},
   "source": [
    "#### css_selector"
   ]
  },
  {
   "cell_type": "markdown",
   "id": "6f52a402",
   "metadata": {},
   "source": [
    "##### css选择器常见语法格式"
   ]
  },
  {
   "cell_type": "markdown",
   "id": "67a57f8c",
   "metadata": {
    "ExecuteTime": {
     "end_time": "2021-05-13T02:10:43.606288Z",
     "start_time": "2021-05-13T02:10:43.598851Z"
    }
   },
   "source": [
    "|选择器|例子|含义|\n",
    "|:----|:----|:----|\n",
    "|.class|.intro|选择class=\"intro\"的所有元素|\n",
    "|#id|#firstname|选择id=\"firstname\"的所有元素|\n",
    "|\\*|\\*|选择所有元素|\n",
    "|element|p|选择所有\\<p>元素|\n",
    "|element,element|div,p|选择所有\\<div>和\\<p>元素|\n",
    "|element element|div p|选择\\<div>元素下的所有\\<p>元素|\n",
    "|element>element|div>p|选择父元素为\\<div>的所有\\<p>元素"
   ]
  },
  {
   "cell_type": "markdown",
   "id": "fd150341",
   "metadata": {},
   "source": [
    "##### driver.find_element_by_css_selector(\"xxx\")"
   ]
  },
  {
   "cell_type": "code",
   "execution_count": 35,
   "id": "ac3d31a5",
   "metadata": {
    "ExecuteTime": {
     "end_time": "2021-05-17T06:12:10.749104Z",
     "start_time": "2021-05-17T06:11:39.055144Z"
    }
   },
   "outputs": [],
   "source": [
    "url = \"http://cn.bing.com/\"\n",
    "search_content = \"alpha\"\n",
    "\n",
    "driver = webdriver.Chrome()\n",
    "driver.get(url)\n",
    "\n",
    "driver.find_element_by_css_selector('#sb_form_q').send_keys(search_content)    # 通过元素的属性值，找到搜索框，输入搜索词\n",
    "driver.find_element_by_css_selector('#sb_form_go').click()                     # 通过元素的绝对路径，找到并点击搜索按键\n",
    "\n",
    "time.sleep(3)\n",
    "driver.quit()  "
   ]
  },
  {
   "cell_type": "markdown",
   "id": "19bb22d6",
   "metadata": {},
   "source": [
    "### 元素操作"
   ]
  },
  {
   "cell_type": "markdown",
   "id": "33bf8159",
   "metadata": {},
   "source": [
    "#### 单击元素 element.click()"
   ]
  },
  {
   "cell_type": "code",
   "execution_count": null,
   "id": "ca5e6773",
   "metadata": {
    "ExecuteTime": {
     "end_time": "2021-05-17T06:07:34.648030Z",
     "start_time": "2021-05-17T06:01:56.055Z"
    }
   },
   "outputs": [],
   "source": [
    "url = \"https://www.baidu.com/\"\n",
    "\n",
    "driver = webdriver.Chrome()\n",
    "driver.get(url)\n",
    "\n",
    "driver.find_element_by_link_text(\"学术\").click()    # 单击名称为”学术“的链接\n",
    "\n",
    "time.sleep(3)\n",
    "driver.quit()"
   ]
  },
  {
   "cell_type": "markdown",
   "id": "a7af6504",
   "metadata": {},
   "source": [
    "#### 输入内容 element.send_keys(\"xxx\")"
   ]
  },
  {
   "cell_type": "code",
   "execution_count": null,
   "id": "95a8d11a",
   "metadata": {
    "ExecuteTime": {
     "end_time": "2021-05-17T06:07:34.653018Z",
     "start_time": "2021-05-17T06:01:56.063Z"
    }
   },
   "outputs": [],
   "source": [
    "url = \"http://cn.bing.com/\"\n",
    "search_content = \"alpha\"\n",
    "\n",
    "driver = webdriver.Chrome()\n",
    "driver.get(url)\n",
    "\n",
    "driver.find_element_by_id(\"sb_form_q\").send_keys(search_content)    # 在搜索框输入搜索词\n",
    "\n",
    "time.sleep(3)\n",
    "driver.quit()     "
   ]
  },
  {
   "cell_type": "markdown",
   "id": "13b4c0c5",
   "metadata": {},
   "source": [
    "#### 清除内容 element.clear()"
   ]
  },
  {
   "cell_type": "code",
   "execution_count": null,
   "id": "4a550479",
   "metadata": {
    "ExecuteTime": {
     "end_time": "2021-05-17T06:07:34.659575Z",
     "start_time": "2021-05-17T06:01:56.071Z"
    }
   },
   "outputs": [],
   "source": [
    "url = \"http://cn.bing.com/\"\n",
    "search_content = \"alpha\"\n",
    "\n",
    "driver = webdriver.Chrome()\n",
    "driver.get(url)\n",
    "\n",
    "driver.find_element_by_id(\"sb_form_q\").send_keys(search_content)\n",
    "time.sleep(1)\n",
    "driver.find_element_by_id(\"sb_form_q\").clear()                      # 清除搜索框内容\n",
    "\n",
    "time.sleep(3)\n",
    "driver.quit()     "
   ]
  },
  {
   "cell_type": "markdown",
   "id": "e1838b29",
   "metadata": {},
   "source": [
    "#### 提交表单 element.submit()"
   ]
  },
  {
   "cell_type": "markdown",
   "id": "2ace5885",
   "metadata": {},
   "source": [
    "可模拟回车，有时可代替.click()"
   ]
  },
  {
   "cell_type": "code",
   "execution_count": null,
   "id": "261187e1",
   "metadata": {
    "ExecuteTime": {
     "end_time": "2021-05-17T06:07:34.664985Z",
     "start_time": "2021-05-17T06:01:56.081Z"
    }
   },
   "outputs": [],
   "source": [
    "url = \"http://cn.bing.com/\"\n",
    "search_content = \"alpha\"\n",
    "\n",
    "driver = webdriver.Chrome()\n",
    "driver.get(url)\n",
    "\n",
    "driver.find_element_by_id(\"sb_form_q\").send_keys(search_content)\n",
    "time.sleep(1)\n",
    "driver.find_element_by_id(\"sb_form_q\").submit()                     # 提交表单，进行搜索\n",
    "# driver.find_element_by_id(\"sb_form_go\").click()\n",
    "\n",
    "time.sleep(3)\n",
    "driver.quit()  "
   ]
  },
  {
   "cell_type": "markdown",
   "id": "50344495",
   "metadata": {},
   "source": [
    "#### 获取元素的属性 element.get_attribute(\"xxx\")"
   ]
  },
  {
   "cell_type": "code",
   "execution_count": null,
   "id": "249e0c38",
   "metadata": {
    "ExecuteTime": {
     "end_time": "2021-05-17T06:07:34.669971Z",
     "start_time": "2021-05-17T06:01:56.091Z"
    }
   },
   "outputs": [],
   "source": [
    "url = \"http://cn.bing.com/\"\n",
    "\n",
    "driver = webdriver.Chrome()\n",
    "driver.get(url)\n",
    "\n",
    "name = driver.find_element_by_id(\"sb_form_q\").get_attribute(\"name\")    # 获取元素的name属性\n",
    "print(name)\n",
    "\n",
    "time.sleep(3)\n",
    "driver.quit()  "
   ]
  },
  {
   "cell_type": "markdown",
   "id": "8064cf92",
   "metadata": {},
   "source": [
    "#### 获取元素尺寸 element.size"
   ]
  },
  {
   "cell_type": "code",
   "execution_count": null,
   "id": "b771ee58",
   "metadata": {
    "ExecuteTime": {
     "end_time": "2021-05-17T06:07:34.675955Z",
     "start_time": "2021-05-17T06:01:56.100Z"
    }
   },
   "outputs": [],
   "source": [
    "url = \"http://cn.bing.com/\"\n",
    "\n",
    "driver = webdriver.Chrome()\n",
    "driver.get(url)\n",
    "\n",
    "size = driver.find_element_by_id(\"sb_form_q\").size    # 获取元素尺寸\n",
    "print(size)\n",
    "\n",
    "time.sleep(3)\n",
    "driver.quit()  "
   ]
  },
  {
   "cell_type": "markdown",
   "id": "cc6fe8e9",
   "metadata": {},
   "source": [
    "#### 获取元素文本element.text"
   ]
  },
  {
   "cell_type": "code",
   "execution_count": null,
   "id": "80790a3a",
   "metadata": {
    "ExecuteTime": {
     "end_time": "2021-05-17T06:07:34.682943Z",
     "start_time": "2021-05-17T06:01:56.110Z"
    }
   },
   "outputs": [],
   "source": [
    "url = \"http://cn.bing.com/\"\n",
    "\n",
    "driver = webdriver.Chrome()\n",
    "driver.get(url)\n",
    "\n",
    "text = driver.find_element_by_xpath('//*[@id=\"scpl2\"]').text    # 获取元素的文本\n",
    "print(text)\n",
    "\n",
    "time.sleep(3)\n",
    "driver.quit()  "
   ]
  },
  {
   "cell_type": "markdown",
   "id": "9057dc22",
   "metadata": {},
   "source": [
    "### 鼠标操作"
   ]
  },
  {
   "cell_type": "markdown",
   "id": "89cd5281",
   "metadata": {},
   "source": [
    "应用场景：页面中的某个元素，需要把鼠标光标移动到该元素上面，才能显示出来等"
   ]
  },
  {
   "cell_type": "markdown",
   "id": "ef8dbc53",
   "metadata": {},
   "source": [
    "#### ActionChains方法说明"
   ]
  },
  {
   "cell_type": "markdown",
   "id": "9dd71068",
   "metadata": {},
   "source": [
    "|方法|说明|\n",
    "|:----|:----|\n",
    "|click(on_element=None)|单击鼠标左键|\n",
    "|context_click(on_element=None)|单击鼠标右键|\n",
    "|double_click(on_element=None)|双击鼠标左键|\n",
    "|drag_and_drop(source, target)|拖拽到某个元素上，然后松开|\n",
    "|release(on_element=None)|在某个元素位置松开鼠标左键|\n",
    "|send_keys(*keys_to_send)|发送某个键到当前焦点的元素|\n",
    "|perform()|执行所有ActionChains中存储的行为|"
   ]
  },
  {
   "cell_type": "markdown",
   "id": "7ff9538b",
   "metadata": {},
   "source": [
    "#### 右击操作 context_click()"
   ]
  },
  {
   "cell_type": "code",
   "execution_count": null,
   "id": "561e7c63",
   "metadata": {
    "ExecuteTime": {
     "end_time": "2021-05-17T06:07:34.690273Z",
     "start_time": "2021-05-17T06:01:56.127Z"
    }
   },
   "outputs": [],
   "source": [
    "from selenium.webdriver.common.action_chains import ActionChains\n",
    "\n",
    "url = \"http://cn.bing.com/\"\n",
    "\n",
    "driver = webdriver.Chrome()\n",
    "driver.get(url)\n",
    "\n",
    "search_box = driver.find_element_by_id(\"sb_form_q\")\n",
    "ActionChains(driver).context_click(search_box).perform()    # 右击指定元素\n",
    "\n",
    "time.sleep(3)\n",
    "driver.quit()  "
   ]
  },
  {
   "cell_type": "markdown",
   "id": "7da9cab3",
   "metadata": {},
   "source": [
    "#### 双击操作 double_click()"
   ]
  },
  {
   "cell_type": "code",
   "execution_count": null,
   "id": "a8b9c704",
   "metadata": {
    "ExecuteTime": {
     "end_time": "2021-05-17T06:07:34.696946Z",
     "start_time": "2021-05-17T06:01:56.139Z"
    }
   },
   "outputs": [],
   "source": [
    "url = \"http://cn.bing.com/\"\n",
    "\n",
    "driver = webdriver.Chrome()\n",
    "driver.get(url)\n",
    "\n",
    "search_box = driver.find_element_by_id(\"sb_form_q\")\n",
    "ActionChains(driver).double_click(search_box).perform()    # 双击指定元素\n",
    "\n",
    "time.sleep(3)\n",
    "driver.quit()  "
   ]
  },
  {
   "cell_type": "markdown",
   "id": "a1d12114",
   "metadata": {},
   "source": [
    "#### 拖动操作 drag_and_drop()"
   ]
  },
  {
   "cell_type": "markdown",
   "id": "faed8ecf",
   "metadata": {},
   "source": [
    "没有生效，待查找原因"
   ]
  },
  {
   "cell_type": "code",
   "execution_count": null,
   "id": "6d46b13c",
   "metadata": {
    "ExecuteTime": {
     "end_time": "2021-05-17T06:07:34.702891Z",
     "start_time": "2021-05-17T06:01:56.152Z"
    }
   },
   "outputs": [],
   "source": [
    "url = \"https://www.baidu.com/\"\n",
    "\n",
    "driver = webdriver.Chrome()\n",
    "driver.get(url)\n",
    "\n",
    "source = driver.find_element_by_link_text(\"学术\")\n",
    "target = driver.find_element_by_xpath('//*[@id=\"kw\"]')\n",
    "ActionChains(driver).drag_and_drop(source, target).perform()    # 拖动指定元素，到指定位置\n",
    "\n",
    "time.sleep(3)\n",
    "driver.quit()  "
   ]
  },
  {
   "cell_type": "markdown",
   "id": "768f5530",
   "metadata": {},
   "source": [
    "#### 鼠标指针悬停操作 move_to_element()"
   ]
  },
  {
   "cell_type": "code",
   "execution_count": null,
   "id": "311bf99a",
   "metadata": {
    "ExecuteTime": {
     "end_time": "2021-05-17T06:07:34.707877Z",
     "start_time": "2021-05-17T06:01:56.161Z"
    }
   },
   "outputs": [],
   "source": [
    "url = \"https://www.baidu.com/\"\n",
    "\n",
    "driver = webdriver.Chrome()\n",
    "driver.get(url)\n",
    "\n",
    "more = driver.find_element_by_link_text(\"更多\")\n",
    "ActionChains(driver).move_to_element(more).perform()    # 鼠标悬停到指定元素\n",
    "\n",
    "time.sleep(3)\n",
    "driver.quit()  "
   ]
  },
  {
   "cell_type": "markdown",
   "id": "e81a826d",
   "metadata": {},
   "source": [
    "### 键盘操作"
   ]
  },
  {
   "cell_type": "markdown",
   "id": "61811a4d",
   "metadata": {},
   "source": [
    "#### 常用键盘操作"
   ]
  },
  {
   "cell_type": "markdown",
   "id": "8aad4826",
   "metadata": {},
   "source": [
    "|方法|说明|\n",
    "|:----|:----|\n",
    "|send_keys(Keys.BACK_SPACE)|删除键|\n",
    "|send_keys(Keys.SPACE)|空格键|\n",
    "|send_keys(Keys.TAB)|制表键|\n",
    "|send_keys(Keys.ESCAPE)|回退键|\n",
    "|send_keys(Keys.ALTERNATE)|换挡键|\n",
    "|send_keys(Keys.ENTER)|回车键|\n",
    "|send_keys(Keys.SHIFT)|Shift键|\n",
    "|send_keys(Keys.CONTROL,'a')|全选|\n",
    "|send_keys(Keys.CONTROL,'c'))|复制|\n",
    "|send_keys(Keys.CONTROL,'x'))|剪切|\n",
    "|send_keys(Keys.CONTROL,'v'))|粘贴|\n",
    "|send_keys(Keys.F1)|F1键|\n",
    "|send_keys(Keys.F12)|F12键|\n",
    "|send_keys(Keys.PAGE_UP)|向上翻页键|\n",
    "|send_keys(Keys.PAGE_DOWN)|向下翻页键|\n",
    "|send_keys(Keys.LEFT)|向左翻页键|\n",
    "|send_keys(Keys.RIGHT)|向右翻页键|"
   ]
  },
  {
   "cell_type": "code",
   "execution_count": null,
   "id": "fcaffbee",
   "metadata": {
    "ExecuteTime": {
     "end_time": "2021-05-17T06:07:34.712894Z",
     "start_time": "2021-05-17T06:01:56.171Z"
    }
   },
   "outputs": [],
   "source": [
    "from selenium.webdriver.common.keys import Keys\n",
    "\n",
    "url = \"http://cn.bing.com/\"\n",
    "search_content = \"alpha\"\n",
    "\n",
    "driver = webdriver.Chrome()\n",
    "driver.get(url)\n",
    "\n",
    "driver.find_element_by_id(\"sb_form_q\").send_keys(search_content)       # 在搜索框输入搜索词\n",
    "\n",
    "time.sleep(2)\n",
    "driver.find_element_by_id(\"sb_form_q\").send_keys(Keys.BACK_SPACE)      # 输入删除键\n",
    "\n",
    "time.sleep(2)\n",
    "driver.find_element_by_id(\"sb_form_q\").send_keys(Keys.CONTROL, 'a')    # 全选搜索框内容\n",
    "\n",
    "time.sleep(2)\n",
    "driver.find_element_by_id(\"sb_form_q\").send_keys(Keys.CONTROL, 'x')    # 剪切搜索框内容\n",
    "\n",
    "time.sleep(2)\n",
    "driver.find_element_by_id(\"sb_form_q\").send_keys(Keys.CONTROL, 'v')    # 向搜索框粘贴内容\n",
    "\n",
    "time.sleep(2)\n",
    "driver.find_element_by_id(\"sb_form_q\").send_keys(Keys.ENTER)           # 回车\n",
    "\n",
    "time.sleep(3)\n",
    "driver.quit()  "
   ]
  },
  {
   "cell_type": "markdown",
   "id": "74f14798",
   "metadata": {},
   "source": [
    "### 等待时间"
   ]
  },
  {
   "cell_type": "markdown",
   "id": "e4c7eeb7",
   "metadata": {},
   "source": [
    "#### 强制等待 time.sleep()"
   ]
  },
  {
   "cell_type": "markdown",
   "id": "e399a5e5",
   "metadata": {},
   "source": [
    "time.sleep(n)"
   ]
  },
  {
   "cell_type": "markdown",
   "id": "5a68245e",
   "metadata": {},
   "source": [
    "#### 隐式等待 driver.impalicitly_wait()"
   ]
  },
  {
   "cell_type": "markdown",
   "id": "a31f072c",
   "metadata": {},
   "source": [
    "1. impalicitly_wait(n)\n",
    "1. 设置等待时间后，若这段时间内，页面完成加载，则进行下一步，否则，报超时错误\n",
    "1. 隐式等待对driver的整个生命周期都会起作用，所以只需在程序最开始设置1次即可"
   ]
  },
  {
   "cell_type": "code",
   "execution_count": 58,
   "id": "6f68b9b4",
   "metadata": {
    "ExecuteTime": {
     "end_time": "2021-05-17T09:04:48.236678Z",
     "start_time": "2021-05-17T09:04:38.749869Z"
    }
   },
   "outputs": [
    {
     "name": "stdout",
     "output_type": "stream",
     "text": [
      "Mon May 17 17:04:44 2021\n",
      "Mon May 17 17:04:46 2021\n"
     ]
    }
   ],
   "source": [
    "from selenium.common.exceptions import NoSuchElementException\n",
    "\n",
    "url = \"http://cn.bing.com/\"\n",
    "search_content = \"alpha\"\n",
    "\n",
    "driver = webdriver.Chrome()\n",
    "driver.implicitly_wait(10)    # 设置浏览器隐式等待，若超过10s未发现元素，则抛出异常\n",
    "driver.get(url)\n",
    "\n",
    "try:\n",
    "    print(time.ctime())\n",
    "    driver.find_element_by_id(\"sb_form_q\").send_keys(search_content)\n",
    "    driver.find_element_by_id(\"sb_form_go\").click()\n",
    "except NoSuchElementException as e:\n",
    "    print(e)\n",
    "finally:\n",
    "    print(time.ctime())\n",
    "    driver.quit()"
   ]
  },
  {
   "cell_type": "code",
   "execution_count": 59,
   "id": "5659d4c8",
   "metadata": {
    "ExecuteTime": {
     "end_time": "2021-05-17T09:05:09.094943Z",
     "start_time": "2021-05-17T09:04:50.005145Z"
    }
   },
   "outputs": [
    {
     "name": "stdout",
     "output_type": "stream",
     "text": [
      "Mon May 17 17:04:56 2021\n",
      "Message: no such element: Unable to locate element: {\"method\":\"css selector\",\"selector\":\"[id=\"sb_form_qq\"]\"}\n",
      "  (Session info: chrome=90.0.4430.212)\n",
      "\n",
      "Mon May 17 17:05:06 2021\n"
     ]
    }
   ],
   "source": [
    "url = \"http://cn.bing.com/\"\n",
    "search_content = \"alpha\"\n",
    "\n",
    "driver = webdriver.Chrome()\n",
    "driver.implicitly_wait(10)    # 设置浏览器隐式等待，若超过10s未发现元素，则抛出异常\n",
    "driver.get(url)\n",
    "\n",
    "try:\n",
    "    print(time.ctime())\n",
    "    # 查找id不存在的元素，导致超时\n",
    "    driver.find_element_by_id(\"sb_form_qq\").send_keys(search_content)\n",
    "    driver.find_element_by_id(\"sb_form_go\").click()\n",
    "except NoSuchElementException as e:\n",
    "    print(e)\n",
    "finally:\n",
    "    print(time.ctime())\n",
    "    driver.quit()"
   ]
  },
  {
   "cell_type": "markdown",
   "id": "fad81008",
   "metadata": {},
   "source": [
    "#### 显示等待 WebDriverWait"
   ]
  },
  {
   "cell_type": "markdown",
   "id": "63977aef",
   "metadata": {},
   "source": [
    "程序每隔固定时间检查一次，如果条件成立，则执行下一步，否则继续等待，直到超过设置的最长时间，然后抛出TimeoutException。"
   ]
  },
  {
   "cell_type": "markdown",
   "id": "57a7299f",
   "metadata": {},
   "source": [
    "##### expected_conditions支持的条件判断方法"
   ]
  },
  {
   "cell_type": "markdown",
   "id": "52b9a0b4",
   "metadata": {},
   "source": [
    "|方法|说明|\n",
    "|:----|:----|\n",
    "|title_is|判断当前页面的标题是否完全等于预期字符串，返回布尔值|\n",
    "|title_contains|判断当前页面的标题是否包含预期字符串，返回布尔值|\n",
    "|presence_of_element_located|判断某个元素是否被加到了DOM树里，并不代表该元素一定可见|\n",
    "|visibility_of_element_located|判断某个元素是否可见。可见代表元素非隐藏，并且元素的宽和高都不等于0|\n",
    "|visibility_of|跟前面的方法作用一样，只是前面的方法要传入locator，而该方法直接传定位到的element即可|\n",
    "|invisibility_of_element_located|判断某个元素是否不存在于DOM树中或不可见|\n",
    "|presence_of_all_elements_located|判断是否至少有一个元素存在于DOM树中。例如，如果页面上有n个元素的class都是'b_searchbox'，那么只要有一个元素存在，这个方法就返回True|\n",
    "|text_to_be_present_in_element|判断某个元素中的text是否包含预期的字符串|\n",
    "|text_to_be_present_in_element_value|判断某个元素中的value属性是否包含预期的字符串|\n",
    "|frame_to_be_available_and_switch_to_it|判断该frame是否可以切换（switch）进Frame，如果可以的话则返回True并且切换进去，否则返回False|\n",
    "|element_to_be_clickable|判断某个元素是否可见并且是可以单击的|\n",
    "|staleness_of|当某个元素从DOM树中移除后，返回True或False|\n",
    "|element_to_be_selected|判断某个元素是否被选中了，一般用在下拉列表框中|\n",
    "|element_selection_state_to_be|判断某个元素的选中状态是否符合预期|\n",
    "|element_located_selection_state_to_be|跟前面的方法作用一样，只是前面的方法传入定位到的element，而该方法传入locator|\n",
    "|alert_is_present|判断页面上是否存在alert|"
   ]
  },
  {
   "cell_type": "code",
   "execution_count": 60,
   "id": "640bbb74",
   "metadata": {
    "ExecuteTime": {
     "end_time": "2021-05-17T09:05:17.575541Z",
     "start_time": "2021-05-17T09:05:09.101902Z"
    }
   },
   "outputs": [],
   "source": [
    "from selenium.webdriver.support.ui import WebDriverWait\n",
    "from selenium.webdriver.support import expected_conditions as ec\n",
    "\n",
    "url = \"http://cn.bing.com/\"\n",
    "search_content = \"alpha\"\n",
    "\n",
    "driver = webdriver.Chrome()\n",
    "driver.get(url)\n",
    "\n",
    "search_box = WebDriverWait(driver, 5, 0.5).until(ec.presence_of_element_located((By.ID, \"sb_form_q\")))\n",
    "search_box.send_keys(search_content)\n",
    "\n",
    "driver.quit()"
   ]
  },
  {
   "cell_type": "markdown",
   "id": "11e49d5f",
   "metadata": {},
   "source": [
    "WebDriverWait(driver, 5, 0.5).until(method, message=\"\")\n",
    "\n",
    "1. 当某个元素出现，或者某个条件成立时，继续执行\n",
    "1. 5：最长等待时间\n",
    "1. 0.5：固定检查周期\n",
    "1. method：在等待期间，每隔一段时间调用这个传入的方法，直到返回值不是False\n",
    "1. message：如果超时，抛出TimeoutException，将message传入异常"
   ]
  },
  {
   "cell_type": "markdown",
   "id": "36666099",
   "metadata": {},
   "source": [
    "WebDriverWait(driver, 5, 0.5).until_not(method, message=\"\")\n",
    "\n",
    "当某个元素消失，或者某个条件不成立时，继续执行"
   ]
  },
  {
   "cell_type": "code",
   "execution_count": 61,
   "id": "161f1d68",
   "metadata": {
    "ExecuteTime": {
     "end_time": "2021-05-17T09:05:45.077623Z",
     "start_time": "2021-05-17T09:05:21.673277Z"
    }
   },
   "outputs": [
    {
     "name": "stdout",
     "output_type": "stream",
     "text": [
      "Message: \n",
      "\n"
     ]
    }
   ],
   "source": [
    "from selenium.common.exceptions import TimeoutException\n",
    "\n",
    "url = \"http://cn.bing.com/\"\n",
    "search_content = \"alpha\"\n",
    "\n",
    "driver = webdriver.Chrome()\n",
    "# 隐式等待\n",
    "driver.implicitly_wait(10)\n",
    "driver.get(url)\n",
    "\n",
    "locator = (By.NAME, \"qa\")\n",
    "\n",
    "try:\n",
    "    # 显示等待\n",
    "    search_box = WebDriverWait(driver, 5, 0.5).until(ec.presence_of_element_located(locator))\n",
    "    search_box.send_keys(search_content)\n",
    "except TimeoutException as e:\n",
    "    print(e)\n",
    "finally:\n",
    "    # 强制等待\n",
    "    time.sleep(3)\n",
    "    driver.quit()"
   ]
  },
  {
   "cell_type": "markdown",
   "id": "7342dc58",
   "metadata": {},
   "source": [
    "在其他操作中，隐式等待起决定性作用，而在WebDriverWait中，显式等待起主要作用。\n",
    "\n",
    "需要注意的是，最长的等待时间取决于两者之间的大者。"
   ]
  },
  {
   "cell_type": "markdown",
   "id": "71b61afd",
   "metadata": {},
   "source": [
    "### Frame切换"
   ]
  },
  {
   "cell_type": "markdown",
   "id": "38d607a8",
   "metadata": {},
   "source": [
    "应用场景：在页面上可以看到元素，用浏览器开发者工具也可以看到，而代码运行定位不到——很有可能是有Frame存在\n",
    "\n",
    "使用格式：switch_to.frame(reference)"
   ]
  },
  {
   "cell_type": "markdown",
   "id": "e09c7d84",
   "metadata": {},
   "source": [
    "#### Frame标签类别"
   ]
  },
  {
   "cell_type": "markdown",
   "id": "a88e8c62",
   "metadata": {},
   "source": [
    "|标签|说明|\n",
    "|:----|:----|\n",
    "|Frameset|与其他普通标签一样，不会影响到正常的定位|\n",
    "|Frame|整个页面的框架|\n",
    "|IFrame|内嵌的框架，无法直接定位到元素|"
   ]
  },
  {
   "cell_type": "markdown",
   "id": "17a233d8",
   "metadata": {},
   "source": [
    "#### 切换IFrame driver.switch_to.frame()"
   ]
  },
  {
   "cell_type": "code",
   "execution_count": null,
   "id": "aebecbd8",
   "metadata": {
    "ExecuteTime": {
     "end_time": "2021-05-17T06:07:34.740790Z",
     "start_time": "2021-05-17T06:01:56.221Z"
    }
   },
   "outputs": [],
   "source": [
    "url = \"file:///D:/Documents/Learn/Jupyter%20Notebook/%E6%B5%8B%E8%AF%95%E6%96%87%E4%BB%B6%E5%A4%B9/iframe.html\"\n",
    "search_content = \"alpha\"\n",
    "\n",
    "driver = webdriver.Chrome()\n",
    "driver.get(url)\n",
    "\n",
    "driver.switch_to.frame(\"iname\")    # 切换到id为iname的IFrame\n",
    "driver.find_element_by_id(\"sb_form_q\").send_keys(search_content)\n",
    "driver.find_element_by_id(\"sb_form_q\").submit()\n",
    "\n",
    "time.sleep(3)\n",
    "driver.quit()"
   ]
  },
  {
   "cell_type": "markdown",
   "id": "06400bd9",
   "metadata": {},
   "source": [
    "#### 切回主窗体 driver.switch_to.default_content()"
   ]
  },
  {
   "cell_type": "markdown",
   "id": "b6d11c1d",
   "metadata": {},
   "source": [
    "切换到子窗体Frame中后，便不能继续操作主窗体中的元素"
   ]
  },
  {
   "cell_type": "code",
   "execution_count": null,
   "id": "272ebc04",
   "metadata": {
    "ExecuteTime": {
     "end_time": "2021-05-17T06:07:34.746988Z",
     "start_time": "2021-05-17T06:01:56.229Z"
    }
   },
   "outputs": [],
   "source": [
    "url = \"file:///D:/Documents/Learn/Jupyter%20Notebook/%E6%B5%8B%E8%AF%95%E6%96%87%E4%BB%B6%E5%A4%B9/iframe.html\"\n",
    "search_content = \"alpha\"\n",
    "\n",
    "driver = webdriver.Chrome()\n",
    "driver.get(url)\n",
    "\n",
    "driver.switch_to.frame(\"iname\")    # 切换到id为iname的IFrame\n",
    "driver.find_element_by_id(\"sb_form_q\").send_keys(search_content)\n",
    "driver.find_element_by_id(\"sb_form_q\").submit()\n",
    "\n",
    "driver.switch_to.default_content() # 切换到最外层\n",
    "driver.find_element_by_link_text(\"百度\").click()\n",
    "\n",
    "time.sleep(3)\n",
    "driver.quit()"
   ]
  },
  {
   "cell_type": "markdown",
   "id": "24d6e8d5",
   "metadata": {},
   "source": [
    "#### 切换到嵌套Frame的上一级窗体 driver.switch_to.parent_frame()"
   ]
  },
  {
   "cell_type": "code",
   "execution_count": null,
   "id": "a53b4aa2",
   "metadata": {
    "ExecuteTime": {
     "end_time": "2021-05-17T06:07:34.751757Z",
     "start_time": "2021-05-17T06:01:56.236Z"
    }
   },
   "outputs": [],
   "source": [
    "url = \"file:///D:/Documents/Learn/Jupyter%20Notebook/%E6%B5%8B%E8%AF%95%E6%96%87%E4%BB%B6%E5%A4%B9/iframe.html\"\n",
    "search_content = \"alpha\"\n",
    "\n",
    "driver = webdriver.Chrome()\n",
    "driver.get(url)\n",
    "\n",
    "driver.switch_to.frame(\"iname\")    # 切换到id为iname的IFrame\n",
    "driver.find_element_by_id(\"sb_form_q\").send_keys(search_content)\n",
    "driver.find_element_by_id(\"sb_form_q\").submit()\n",
    "\n",
    "driver.switch_to.parent_frame() # 切换到上一层\n",
    "driver.find_element_by_link_text(\"百度\").click()\n",
    "\n",
    "time.sleep(3)\n",
    "driver.quit()"
   ]
  },
  {
   "cell_type": "markdown",
   "id": "0d8dad3b",
   "metadata": {},
   "source": [
    "### 弹出框的处理"
   ]
  },
  {
   "cell_type": "markdown",
   "id": "c78c3367",
   "metadata": {},
   "source": [
    "#### 弹出框的处理方法"
   ]
  },
  {
   "cell_type": "markdown",
   "id": "e3e8dce9",
   "metadata": {},
   "source": [
    "|属性\\方法|描述|实例|\n",
    "|:----|:----|:----|\n",
    "|text|获得警告窗口的文本|alert.text|\n",
    "|accept()|单击“确认”|alert.accept()|\n",
    "|dismiss()|单击“取消”，或叉号关闭对话框|alert.dismiss()|\n",
    "|send_keys()|模拟给元素输入文本值|alert.send_keys()|"
   ]
  },
  {
   "cell_type": "markdown",
   "id": "42b9ff55",
   "metadata": {},
   "source": [
    "#### alert按钮的处理"
   ]
  },
  {
   "cell_type": "code",
   "execution_count": null,
   "id": "a4313c60",
   "metadata": {
    "ExecuteTime": {
     "end_time": "2021-05-17T06:07:34.756745Z",
     "start_time": "2021-05-17T06:01:56.248Z"
    }
   },
   "outputs": [],
   "source": [
    "url = \"file:///D:/Documents/Learn/Jupyter%20Notebook/%E6%B5%8B%E8%AF%95%E6%96%87%E4%BB%B6%E5%A4%B9/alert.html\"\n",
    "search_content = \"alpha\"\n",
    "\n",
    "driver = webdriver.Chrome()\n",
    "driver.get(url)\n",
    "\n",
    "driver.find_element_by_id(\"alert\").click()    # 点击“alert”按钮\n",
    "\n",
    "time.sleep(1)\n",
    "alert_info = driver.switch_to.alert           # 切换到alert弹出框\n",
    "print(alert_info.text)                        # 获取弹出文本的信息\n",
    "\n",
    "alert_info.accept()                           # 点击“确定”按钮\n",
    "# alert_info.dismiss()                        # 取消或关闭弹窗\n",
    "\n",
    "time.sleep(3)\n",
    "driver.quit()"
   ]
  },
  {
   "cell_type": "markdown",
   "id": "74726bba",
   "metadata": {},
   "source": [
    "#### confirm按钮的处理"
   ]
  },
  {
   "cell_type": "code",
   "execution_count": null,
   "id": "965f23ae",
   "metadata": {
    "ExecuteTime": {
     "end_time": "2021-05-17T06:07:34.762771Z",
     "start_time": "2021-05-17T06:01:56.255Z"
    }
   },
   "outputs": [],
   "source": [
    "url = \"file:///D:/Documents/Learn/Jupyter%20Notebook/%E6%B5%8B%E8%AF%95%E6%96%87%E4%BB%B6%E5%A4%B9/alert.html\"\n",
    "search_content = \"alpha\"\n",
    "\n",
    "driver = webdriver.Chrome()\n",
    "driver.get(url)\n",
    "\n",
    "driver.find_element_by_id(\"confirm\").click()  # 点击“confirm”按钮\n",
    "\n",
    "time.sleep(1)\n",
    "alert_info = driver.switch_to.alert           # 切换到alert弹出框\n",
    "print(alert_info.text)                        # 获取弹出文本的信息\n",
    "\n",
    "alert_info.accept()                           # 点击“确定”按钮\n",
    "# alert_info.dismiss()                        # 取消或关闭弹窗\n",
    "\n",
    "time.sleep(3)\n",
    "driver.quit()"
   ]
  },
  {
   "cell_type": "markdown",
   "id": "609fcc34",
   "metadata": {},
   "source": [
    "#### prompt按钮的处理"
   ]
  },
  {
   "cell_type": "code",
   "execution_count": null,
   "id": "8514eb57",
   "metadata": {
    "ExecuteTime": {
     "end_time": "2021-05-17T06:07:34.767714Z",
     "start_time": "2021-05-17T06:01:56.261Z"
    }
   },
   "outputs": [],
   "source": [
    "url = \"file:///D:/Documents/Learn/Jupyter%20Notebook/%E6%B5%8B%E8%AF%95%E6%96%87%E4%BB%B6%E5%A4%B9/alert.html\"\n",
    "search_content = \"alpha\"\n",
    "\n",
    "driver = webdriver.Chrome()\n",
    "driver.get(url)\n",
    "\n",
    "driver.find_element_by_id(\"prompt\").click()\n",
    "\n",
    "time.sleep(1)\n",
    "alert_info = driver.switch_to.alert           # 切换到alert弹出框\n",
    "print(alert_info.text)                        # 获取弹出文本的信息\n",
    "\n",
    "time.sleep(1)\n",
    "alert_info.send_keys(\"学会了\")                # 向输入框输入文本内容\n",
    "\n",
    "# alert_info.accept()                         # 点击“确定”按钮\n",
    "alert_info.dismiss()                          # 取消或关闭弹窗\n",
    "\n",
    "time.sleep(3)\n",
    "driver.quit()"
   ]
  },
  {
   "cell_type": "markdown",
   "id": "c5a83ce5",
   "metadata": {},
   "source": [
    "### 单选按钮的处理"
   ]
  },
  {
   "cell_type": "code",
   "execution_count": null,
   "id": "b1e8610b",
   "metadata": {
    "ExecuteTime": {
     "end_time": "2021-05-17T06:07:34.773734Z",
     "start_time": "2021-05-17T06:01:56.268Z"
    }
   },
   "outputs": [],
   "source": [
    "url = \"file:///D:/Documents/Learn/Jupyter%20Notebook/%E6%B5%8B%E8%AF%95%E6%96%87%E4%BB%B6%E5%A4%B9/radio_select_checkbox.html\"\n",
    "\n",
    "driver = webdriver.Chrome()\n",
    "driver.get(url)\n",
    "\n",
    "driver.find_element_by_id(\"girl\").click()    # 选择“女”单选框\n",
    "time.sleep(2)\n",
    "driver.find_element_by_id(\"boy\").click()    # 选择“男”单选框\n",
    "\n",
    "time.sleep(3)\n",
    "driver.quit()"
   ]
  },
  {
   "cell_type": "markdown",
   "id": "555f702f",
   "metadata": {},
   "source": [
    "### 复选框的处理"
   ]
  },
  {
   "cell_type": "code",
   "execution_count": null,
   "id": "52f947b8",
   "metadata": {
    "ExecuteTime": {
     "end_time": "2021-05-17T06:07:34.778682Z",
     "start_time": "2021-05-17T06:01:56.276Z"
    }
   },
   "outputs": [],
   "source": [
    "url = \"file:///D:/Documents/Learn/Jupyter%20Notebook/%E6%B5%8B%E8%AF%95%E6%96%87%E4%BB%B6%E5%A4%B9/radio_select_checkbox.html\"\n",
    "\n",
    "driver = webdriver.Chrome()\n",
    "driver.get(url)\n",
    "\n",
    "driver.find_element_by_id(\"c1\").click()    # 选择第一个复选框\n",
    "time.sleep(2)\n",
    "driver.find_element_by_id(\"c2\").click()    # 选择第二个复选框\n",
    "\n",
    "time.sleep(2)\n",
    "checkbox = driver.find_elements_by_xpath(\"/html/body/div/form/input[@type='checkbox']\")   # 选择所有复选框\n",
    "\n",
    "time.sleep(2)\n",
    "checkbox.pop().click()   # 弹出，并点击复选框中的最后一项\n",
    "\n",
    "for item in checkbox:\n",
    "    time.sleep(1)\n",
    "    if not item.is_selected():    # 如果复选框未被选中\n",
    "        item.click()     # 点击剩余的，未选中的复选框（不包括已弹出的复选框）\n",
    "\n",
    "time.sleep(3)\n",
    "driver.quit()"
   ]
  },
  {
   "cell_type": "markdown",
   "id": "c3994aa8",
   "metadata": {},
   "source": [
    "### 下拉列表的处理"
   ]
  },
  {
   "cell_type": "markdown",
   "id": "6e043265",
   "metadata": {},
   "source": [
    "#### Select模块提供的方法"
   ]
  },
  {
   "cell_type": "markdown",
   "id": "c4655655",
   "metadata": {},
   "source": [
    "|方法|说明|\n",
    "|:---|:---|\n",
    "|options|提供所有选项的列表|\n",
    "|all_selected_options|提供所有被选中的选项列表|\n",
    "|first_selected_option|提供被选中的项中的第一个|\n",
    "|select_by_index()|通过选项的顺序来定位|\n",
    "|select_by_value()|通过选项的value属性来定位|\n",
    "|select_by_visible_text()|通过选项的文字来定位|\n",
    "|deselect_by_index()|取消对应index的选项（适用于下拉列表支持多选）|\n",
    "|deselect_by_value()|取消对应value的选项（适用于下拉列表支持多选）|\n",
    "|deselect_by_visible_text()|取消对应文本的选项（适用于下拉列表支持多选）|\n",
    "|deselect_all()|取消所有选项（适用于下拉列表支持多选）|"
   ]
  },
  {
   "cell_type": "code",
   "execution_count": null,
   "id": "0a0c4d08",
   "metadata": {
    "ExecuteTime": {
     "end_time": "2021-05-17T06:07:34.782671Z",
     "start_time": "2021-05-17T06:01:56.286Z"
    }
   },
   "outputs": [],
   "source": [
    "url = \"file:///D:/Documents/Learn/Jupyter%20Notebook/%E6%B5%8B%E8%AF%95%E6%96%87%E4%BB%B6%E5%A4%B9/radio_select_checkbox.html\"\n",
    "\n",
    "driver = webdriver.Chrome()\n",
    "driver.get(url)\n",
    "\n",
    "select_list = driver.find_element_by_tag_name(\"select\")    # 选择下拉列表\n",
    "time.sleep(2)\n",
    "select_list.find_element_by_xpath(\"option[@value='1']\").click()  # 通过层级关系选择下拉列表，上海\n",
    "\n",
    "from selenium.webdriver.support.select import Select      # 通过Select模块选择下拉列表\n",
    "select_list = Select(driver.find_element_by_tag_name(\"select\"))\n",
    "\n",
    "time.sleep(2)\n",
    "select_list.select_by_index(2)    # 通过选项的顺序来定位，深圳\n",
    "time.sleep(2)\n",
    "select_list.select_by_value('0')  # 通过选项的value属性来定位，北京\n",
    "time.sleep(2)\n",
    "select_list.select_by_visible_text(\"上海\")   # 通过选项的文字来定位，上海\n",
    "\n",
    "time.sleep(2)\n",
    "print(select_list.options)\n",
    "print(select_list.all_selected_options)\n",
    "print(select_list.first_selected_option.text)\n",
    "\n",
    "time.sleep(3)\n",
    "driver.quit()"
   ]
  },
  {
   "cell_type": "markdown",
   "id": "f9d894c4",
   "metadata": {},
   "source": [
    "### 检查元素状态"
   ]
  },
  {
   "cell_type": "markdown",
   "id": "b82e09ad",
   "metadata": {},
   "source": [
    "#### 元素是否可见 is_dispalyed()"
   ]
  },
  {
   "cell_type": "code",
   "execution_count": null,
   "id": "0cd31f47",
   "metadata": {
    "ExecuteTime": {
     "end_time": "2021-05-17T06:07:34.787657Z",
     "start_time": "2021-05-17T06:01:56.294Z"
    }
   },
   "outputs": [],
   "source": [
    "url = \"http://cn.bing.com\"\n",
    "\n",
    "driver = webdriver.Chrome()\n",
    "driver.get(url)\n",
    "\n",
    "search_box = driver.find_element_by_id(\"sb_form_q\")\n",
    "print(search_box.is_displayed())\n",
    "\n",
    "time.sleep(3)\n",
    "driver.quit()"
   ]
  },
  {
   "cell_type": "markdown",
   "id": "ad54e58c",
   "metadata": {},
   "source": [
    "#### 元素是否可编辑 is_enabled()"
   ]
  },
  {
   "cell_type": "markdown",
   "id": "45776683",
   "metadata": {},
   "source": [
    "用于存储input，select等元素的可编辑状态，返回布尔值\n",
    "\n",
    "如果有一个按钮在某种情况下置灰，不可单击，也可用is_enabled()来判断"
   ]
  },
  {
   "cell_type": "code",
   "execution_count": null,
   "id": "f1f42d1d",
   "metadata": {
    "ExecuteTime": {
     "end_time": "2021-05-17T06:07:34.792689Z",
     "start_time": "2021-05-17T06:01:56.302Z"
    }
   },
   "outputs": [],
   "source": [
    "url = \"http://cn.bing.com\"\n",
    "\n",
    "driver = webdriver.Chrome()\n",
    "driver.get(url)\n",
    "\n",
    "search_box = driver.find_element_by_id(\"sb_form_q\")\n",
    "print(search_box.is_enabled())\n",
    "\n",
    "time.sleep(3)\n",
    "driver.quit()"
   ]
  },
  {
   "cell_type": "markdown",
   "id": "42b93374",
   "metadata": {},
   "source": [
    "#### 元素是否被选中 is_selected()"
   ]
  },
  {
   "cell_type": "markdown",
   "id": "a4dfe2c2",
   "metadata": {},
   "source": [
    "### 文件上传与下载"
   ]
  },
  {
   "cell_type": "markdown",
   "id": "87aaab35",
   "metadata": {},
   "source": [
    "#### 文件上传"
   ]
  },
  {
   "cell_type": "markdown",
   "id": "f5565f2c",
   "metadata": {},
   "source": [
    "1. 如果上传按钮是input标签，可优先调用send_keys()输入文件路径\n",
    "1. 如果非input标签，需要打开系统窗口添加本地文件，可尝试借助AutoIt"
   ]
  },
  {
   "cell_type": "markdown",
   "id": "357d23f9",
   "metadata": {},
   "source": [
    "##### .send_keys()方式上传文件"
   ]
  },
  {
   "cell_type": "code",
   "execution_count": null,
   "id": "734570b8",
   "metadata": {
    "ExecuteTime": {
     "end_time": "2021-05-17T06:07:34.797667Z",
     "start_time": "2021-05-17T06:01:56.315Z"
    }
   },
   "outputs": [],
   "source": [
    "url = \"file:///D:/Documents/Learn/Jupyter%20Notebook/%E6%B5%8B%E8%AF%95%E6%96%87%E4%BB%B6%E5%A4%B9/uploadfile.html\"\n",
    "\n",
    "driver = webdriver.Chrome()\n",
    "driver.get(url)\n",
    "\n",
    "driver.find_element_by_xpath(\"//input[@name='file']\").send_keys(\"D:\\Documents\\Learn\\Jupyter Notebook\\测试文件夹\\info.txt\")\n",
    "\n",
    "time.sleep(3)\n",
    "driver.quit()"
   ]
  },
  {
   "cell_type": "markdown",
   "id": "d6c4811d",
   "metadata": {},
   "source": [
    "##### AutoIt方式上传"
   ]
  },
  {
   "cell_type": "markdown",
   "id": "35d95f77",
   "metadata": {},
   "source": [
    "[AutoIt](https://www.autoitscript.com/site/autoit/downloads)是一个使用类似BASIC脚本语言的免费软件，用于在Windows GUI（图形用户界面）中进行自动化操作。它利用模拟键盘按键、鼠标移动和窗口/控件的组合来实现自动化任务"
   ]
  },
  {
   "cell_type": "markdown",
   "id": "5927e6d4",
   "metadata": {},
   "source": [
    "###### AutoIt主要应用功能"
   ]
  },
  {
   "cell_type": "markdown",
   "id": "2a2d3f0e",
   "metadata": {
    "ExecuteTime": {
     "end_time": "2021-05-17T05:32:20.873905Z",
     "start_time": "2021-05-17T05:32:20.857682Z"
    }
   },
   "source": [
    "|功能|说明|\n",
    "|:---|:---|\n",
    "|Auto It Windows Info|元素定位器，用于帮助标识Windows控件信息|\n",
    "|SciTE Script Editor|编辑器，用于编写AutoIt脚本|\n",
    "|Compile Script to.exe|用于将AutoIt生成exe执行文件|"
   ]
  },
  {
   "cell_type": "markdown",
   "id": "98cb5135",
   "metadata": {},
   "source": [
    "###### 通过AutoIt实现上传文件的步骤"
   ]
  },
  {
   "cell_type": "markdown",
   "id": "4c89e4d4",
   "metadata": {},
   "source": [
    "[参考文档](https://weread.qq.com/web/reader/1aa326c0721a48c31aa13a0k65b326f026965b9eea6e6e1)"
   ]
  },
  {
   "cell_type": "code",
   "execution_count": 51,
   "id": "157867fb",
   "metadata": {
    "ExecuteTime": {
     "end_time": "2021-05-17T06:42:36.263450Z",
     "start_time": "2021-05-17T06:42:04.497648Z"
    }
   },
   "outputs": [],
   "source": [
    "import os\n",
    "\n",
    "url = \"file:///D:/Documents/Learn/Jupyter%20Notebook/%E6%B5%8B%E8%AF%95%E6%96%87%E4%BB%B6%E5%A4%B9/Auit/Auit.html\"\n",
    "\n",
    "driver = webdriver.Chrome()\n",
    "driver.implicitly_wait(60)\n",
    "driver.get(url)\n",
    "\n",
    "time.sleep(3)\n",
    "driver.find_element_by_xpath(\"/html/body/div/div[2]/div/div[1]/div/div[1]/div/div/div[2]/label\").click()\n",
    "time.sleep(10)\n",
    "os.system(r\"D:\\\\Programs\\autoit_script.exe\")\n",
    "\n",
    "time.sleep(10)\n",
    "driver.quit()"
   ]
  },
  {
   "cell_type": "markdown",
   "id": "e0880f03",
   "metadata": {
    "ExecuteTime": {
     "end_time": "2021-05-17T06:40:52.255200Z",
     "start_time": "2021-05-17T06:40:52.226628Z"
    }
   },
   "source": [
    "os.system(\"xxx.exe\")，效果与打开cmd输入一样\n",
    "\n",
    "[若路径中存在空格，该操作可能不会生效](https://blog.csdn.net/weixin_43710127/article/details/104802743)"
   ]
  },
  {
   "cell_type": "markdown",
   "id": "f4c4b306",
   "metadata": {},
   "source": [
    "#### 文件下载"
   ]
  },
  {
   "cell_type": "markdown",
   "id": "6a4c3256",
   "metadata": {},
   "source": [
    "[参考文档](https://weread.qq.com/web/reader/1aa326c0721a48c31aa13a0kf09320f026af0935e4cd23d)"
   ]
  },
  {
   "cell_type": "code",
   "execution_count": null,
   "id": "39e5476c",
   "metadata": {
    "ExecuteTime": {
     "end_time": "2021-05-17T06:07:34.806811Z",
     "start_time": "2021-05-17T06:01:56.336Z"
    }
   },
   "outputs": [],
   "source": [
    "options = webdriver.ChromeOptions()\n",
    "prefs = {\n",
    "    \"download.prompt_for_download\": False,\n",
    "    \"download.default_directory\": \"D:\\Documents\\Learn\\Jupyter Notebook\\测试文件夹\",   # 设置下载路径\n",
    "    \"plugins.always_open_pdf_externally\": True,\n",
    "    \"profile.default_content_settings.popups\":0,  # 设置为0，表示禁止弹出窗口\n",
    "}\n",
    "options.add_experimental_option('prefs', prefs)\n",
    "\n",
    "driver = webdriver.Chrome(chrome_options=options)\n",
    "driver.get(\"http://www.python.org/downloads/\")\n",
    "\n",
    "time.sleep(3)\n",
    "driver.find_element_by_xpath(\"/html/body/div/header/div/div[2]/div/div[3]/p/a\").click()\n",
    "\n",
    "time.sleep(10)\n",
    "driver.quit()"
   ]
  },
  {
   "cell_type": "markdown",
   "id": "c6d57127",
   "metadata": {},
   "source": [
    "如何处理“文件对计算机有害，是否保留”？待解决"
   ]
  },
  {
   "cell_type": "markdown",
   "id": "8c0d993f",
   "metadata": {},
   "source": [
    "### Cookie的处理"
   ]
  },
  {
   "cell_type": "markdown",
   "id": "83d7d53c",
   "metadata": {},
   "source": [
    "1. Cookie存放在客户端（浏览器）\n",
    "1. Session存放在服务器端\n",
    "1. **HTTP请求是无状态的**\n",
    "1. 第一次和服务器连接，且登录成功后，第二次请求时，服务器仍然不知道当前请求的是哪个用户\n",
    "1. Cookie的出现就是为了解决这个问题\n",
    "1. **用户第一次登录后，服务器返回一些数据（即Cookie）给浏览器**\n",
    "1. 浏览器会将返回的Cookie数据保存在本地\n",
    "1. 当用户再次向该服务器发送请求时\n",
    "1. 就会把上次发送请求时，存储的Cookie数据自动传递给服务器\n",
    "1. **服务器通过浏览器携带的Cookie，就能判断当前用户是哪个用户了**"
   ]
  },
  {
   "cell_type": "markdown",
   "id": "5f6ce899",
   "metadata": {},
   "source": [
    "1. Cookie存储的数据量有限\n",
    "1. 不同的浏览器存储容量也不同\n",
    "1. 一般不超过4KB\n",
    "1. **Cookie只能存储少量的数据**\n",
    "1. 如用户登录的信息"
   ]
  },
  {
   "cell_type": "markdown",
   "id": "ab8e7fff",
   "metadata": {},
   "source": [
    "1. Cookie在生成时，会被指定一个Expire值\n",
    "1. 即Cookie的生存周期\n",
    "1. 在这个周期内，Cookie有效\n",
    "1. 超出周期Cookie就会被清除\n",
    "1. 有些页面将Cookie生存周期设置为0或负值\n",
    "1. 这样关闭浏览器时，就能马上清除Cookie\n",
    "1. 不会记录用户信息，更加安全"
   ]
  },
  {
   "cell_type": "markdown",
   "id": "513b4159",
   "metadata": {},
   "source": [
    "对于一些需要输入验证码才能登录的网站，可以采用Cookie来解决问题"
   ]
  },
  {
   "cell_type": "markdown",
   "id": "9de08943",
   "metadata": {},
   "source": [
    "#### Cookie具有的属性"
   ]
  },
  {
   "cell_type": "markdown",
   "id": "1bc32024",
   "metadata": {},
   "source": [
    "|属性|说明|\n",
    "|:---|:---|\n",
    "|Domain|Cookie所属的域，或子域|\n",
    "|Path|Cookie的所属路径|\n",
    "|Expire time/Max-age|Cookie的有效期，如果服务器返回的一个Cookie没有指定Expire time，那么表明此Cookie的有效期只是当前的Session，即Session Cookie，当前Session会话结束后就过期了。对应的，当关闭（浏览器中）该页面的时候，此Cookie就被浏览器删除了|\n",
    "|secure|此Cookie只能用于HTTPS传输，一般多用于包含认证信息的Cookie|\n",
    "|httponly|此Cookie只能用于HTTP或HTTPS传输，浏览器脚本（如JavaScript）中，是不允许访问操作Cookie的|"
   ]
  },
  {
   "cell_type": "markdown",
   "id": "3dee3461",
   "metadata": {},
   "source": [
    "#### 获取Cookie driver.get_cookie()"
   ]
  },
  {
   "cell_type": "markdown",
   "id": "7f220cb2",
   "metadata": {},
   "source": [
    "##### 未登录网站"
   ]
  },
  {
   "cell_type": "code",
   "execution_count": null,
   "id": "49c12dfd",
   "metadata": {
    "ExecuteTime": {
     "end_time": "2021-05-17T06:07:34.812634Z",
     "start_time": "2021-05-17T06:01:56.362Z"
    }
   },
   "outputs": [],
   "source": [
    "driver = webdriver.Chrome()\n",
    "print(f\"启动浏览器，不输入任何网址，Cookies = {driver.get_cookies()}\")\n",
    "\n",
    "time.sleep(3)\n",
    "driver.quit()"
   ]
  },
  {
   "cell_type": "markdown",
   "id": "7b6fdffa",
   "metadata": {
    "ExecuteTime": {
     "end_time": "2021-05-17T00:50:27.103743Z",
     "start_time": "2021-05-17T00:50:27.064847Z"
    }
   },
   "source": [
    "##### 仅打开网站"
   ]
  },
  {
   "cell_type": "code",
   "execution_count": null,
   "id": "d562143e",
   "metadata": {
    "ExecuteTime": {
     "end_time": "2021-05-17T06:07:34.817620Z",
     "start_time": "2021-05-17T06:01:56.375Z"
    }
   },
   "outputs": [],
   "source": [
    "url = \"https://github.com/\"\n",
    "\n",
    "driver = webdriver.Chrome()\n",
    "driver.get(url)\n",
    "\n",
    "print(f\"启动浏览器，打开网页，Cookies={driver.get_cookies()}\")\n",
    "\n",
    "time.sleep(3)\n",
    "driver.quit()"
   ]
  },
  {
   "cell_type": "markdown",
   "id": "08ffeba1",
   "metadata": {},
   "source": [
    "##### 登录网站后 driver.get_cookies()"
   ]
  },
  {
   "cell_type": "code",
   "execution_count": null,
   "id": "5617a38e",
   "metadata": {
    "ExecuteTime": {
     "end_time": "2021-05-17T06:07:34.823569Z",
     "start_time": "2021-05-17T06:01:56.386Z"
    }
   },
   "outputs": [],
   "source": [
    "url = \"https://github.com/\"\n",
    "\n",
    "driver = webdriver.Chrome()\n",
    "driver.get(url)\n",
    "\n",
    "time.sleep(1)\n",
    "driver.find_element_by_xpath(\"/html/body/div[1]/header/div/div[2]/div[2]/a\").click()\n",
    "\n",
    "time.sleep(2)\n",
    "driver.find_element_by_xpath(\"//*[@id='login_field']\").send_keys(\"Sancery@outlook.com\")\n",
    "time.sleep(2)\n",
    "driver.find_element_by_xpath(\"//*[@id='password']\").send_keys(\"dandelion@sea915\")\n",
    "driver.find_element_by_xpath(\"//*[@id='login']/div[4]/form/div/input[12]\").click()\n",
    "print(f\"启动浏览器，打开网页，登录网站后，Cookies={driver.get_cookies()}\")\n",
    "\n",
    "time.sleep(3)\n",
    "driver.quit()"
   ]
  },
  {
   "cell_type": "markdown",
   "id": "762f6511",
   "metadata": {},
   "source": [
    "##### 获取指定的Cookie driver.get_cookie(name=\"xxx\")"
   ]
  },
  {
   "cell_type": "code",
   "execution_count": null,
   "id": "e7eee075",
   "metadata": {
    "ExecuteTime": {
     "end_time": "2021-05-17T06:07:34.829546Z",
     "start_time": "2021-05-17T06:01:56.397Z"
    }
   },
   "outputs": [],
   "source": [
    "url = \"https://github.com/\"\n",
    "\n",
    "driver = webdriver.Chrome()\n",
    "driver.get(url)\n",
    "\n",
    "time.sleep(1)\n",
    "driver.find_element_by_xpath(\"/html/body/div[1]/header/div/div[2]/div[2]/a\").click()\n",
    "\n",
    "time.sleep(2)\n",
    "driver.find_element_by_xpath(\"//*[@id='login_field']\").send_keys(\"Sancery@outlook.com\")\n",
    "time.sleep(2)\n",
    "driver.find_element_by_xpath(\"//*[@id='password']\").send_keys(\"dandelion@sea915\")\n",
    "driver.find_element_by_xpath(\"//*[@id='login']/div[4]/form/div/input[12]\").click()\n",
    "\n",
    "Cookies = driver.get_cookies()\n",
    "for cookie in Cookies:\n",
    "    print(cookie[\"name\"])\n",
    "    \n",
    "print(f\"启动浏览器，打开网页，登录网站后，name是_gh_sess的Cookie={driver.get_cookie(name='_gh_sess')}\")\n",
    "    \n",
    "time.sleep(3)\n",
    "driver.quit()"
   ]
  },
  {
   "cell_type": "markdown",
   "id": "2ddf6ca8",
   "metadata": {},
   "source": [
    "#### 添加Cookie driver.add_cookie(cookie_dict)"
   ]
  },
  {
   "cell_type": "code",
   "execution_count": null,
   "id": "50b2978d",
   "metadata": {
    "ExecuteTime": {
     "end_time": "2021-05-17T06:07:34.834531Z",
     "start_time": "2021-05-17T06:01:56.408Z"
    }
   },
   "outputs": [],
   "source": [
    "url = \"https://github.com/\"\n",
    "\n",
    "driver = webdriver.Chrome()\n",
    "driver.get(url)\n",
    "\n",
    "for cookie in driver.get_cookies():\n",
    "    print(cookie[\"name\"], cookie[\"value\"])\n",
    "    \n",
    "driver.add_cookie({\"name\":\"sancery\", \"value\":\"dandelion\"})\n",
    "\n",
    "print(\"\\n添加name=sancery的Cookie后，Cookie的内容：\")\n",
    "for cookie in driver.get_cookies():\n",
    "    print(cookie[\"name\"], cookie[\"value\"])\n",
    "    \n",
    "    \n",
    "time.sleep(3)\n",
    "driver.quit()"
   ]
  },
  {
   "cell_type": "markdown",
   "id": "c2c57976",
   "metadata": {},
   "source": [
    "#### 删除Cookie driver.delete_cookie()"
   ]
  },
  {
   "cell_type": "markdown",
   "id": "0c8abf32",
   "metadata": {},
   "source": [
    "##### 删除指定Cookie driver.delete_cookie(name)"
   ]
  },
  {
   "cell_type": "code",
   "execution_count": null,
   "id": "6a198395",
   "metadata": {
    "ExecuteTime": {
     "end_time": "2021-05-17T06:07:34.840809Z",
     "start_time": "2021-05-17T06:01:56.420Z"
    },
    "scrolled": true
   },
   "outputs": [],
   "source": [
    "url = \"https://github.com/\"\n",
    "\n",
    "driver = webdriver.Chrome()\n",
    "driver.get(url)\n",
    "\n",
    "for cookie in driver.get_cookies():\n",
    "    print(cookie[\"name\"], cookie[\"value\"])\n",
    "    \n",
    "driver.add_cookie({\"name\":\"sancery\", \"value\":\"dandelion\"})\n",
    "print(\"\\n添加name=sancery的Cookie后，Cookie的内容：\")\n",
    "for cookie in driver.get_cookies():\n",
    "    print(cookie[\"name\"], cookie[\"value\"])\n",
    "\n",
    "driver.delete_cookie(name=\"sancery\")\n",
    "print(\"\\n删除name=sancery的Cookie后，Cookie的内容：\")\n",
    "for cookie in driver.get_cookies():\n",
    "    print(cookie[\"name\"], cookie[\"value\"])    \n",
    "time.sleep(3)\n",
    "driver.quit()"
   ]
  },
  {
   "cell_type": "markdown",
   "id": "7bfb4da3",
   "metadata": {},
   "source": [
    "##### 删除所有的Cookie driver.delete_all_cookies()"
   ]
  },
  {
   "cell_type": "code",
   "execution_count": null,
   "id": "58d44635",
   "metadata": {
    "ExecuteTime": {
     "end_time": "2021-05-17T06:07:34.847662Z",
     "start_time": "2021-05-17T06:01:56.431Z"
    }
   },
   "outputs": [],
   "source": [
    "url = \"https://github.com/\"\n",
    "\n",
    "driver = webdriver.Chrome()\n",
    "driver.get(url)\n",
    "\n",
    "for cookie in driver.get_cookies():\n",
    "    print(cookie[\"name\"], cookie[\"value\"])\n",
    "    \n",
    "\n",
    "driver.delete_all_cookies()\n",
    "print(f\"\\n删除所有Cookie后，Cookie的内容：{driver.get_cookies()}\")\n",
    "\n",
    "time.sleep(3)\n",
    "driver.quit()"
   ]
  },
  {
   "cell_type": "markdown",
   "id": "2e518bff",
   "metadata": {},
   "source": [
    "#### 接口测试中的Cookie操作"
   ]
  },
  {
   "cell_type": "markdown",
   "id": "bd8ab3ba",
   "metadata": {},
   "source": [
    "|常见操作|说明|\n",
    "|:-------|:---|\n",
    "|r.cookies|获取Cookies|\n",
    "|.dict_from_cookiejar()|将requestsCookieJar转换为字典|\n",
    "|.cookiejar_from_dict()|将字典转换为CookieJar|\n",
    "|r= requests.get(url,cookies= cookies)|发送Cookies|\n",
    "|s.cookies.set(' ', ' ', ' ')<br>.add_dict_to_cookiejar|添加Cookies|"
   ]
  },
  {
   "cell_type": "code",
   "execution_count": 85,
   "id": "b8d1544e",
   "metadata": {
    "ExecuteTime": {
     "end_time": "2021-05-19T03:19:50.477136Z",
     "start_time": "2021-05-19T03:19:49.670590Z"
    }
   },
   "outputs": [
    {
     "name": "stdout",
     "output_type": "stream",
     "text": [
      "<RequestsCookieJar[<Cookie _octo=GH1.1.1010261113.1621394377 for .github.com/>, <Cookie logged_in=no for .github.com/>, <Cookie _gh_sess=qRaWQl5GUu0UTn4KTdj2ojIoDLBOOwuqhU2CXuJsFbontZG%2BSJCQn9d1mbvELiftdvsM7BB2fI3BGMeEWvnZDH2YHDQfr0idmHTJ9QSVwGK2Ce0qhJ7j8n1cCHioBn8tb79XvQeb5zsX9o5AeGvWuXuzfaQ51wlM1qZ7IZrcpCcUU7kqdG9ZUwOq42tiI82L%2FJhL%2FqA4Dn6EDsuUCn5xMMe0CoYbSqPLr6cW%2B%2Fl3h5jkq7byzGepSdAMHdqj%2FJRD5KhV4mITBNLYvlF%2B5ErXXg%3D%3D--W9XE07uhYVqGvXBQ--Z8faRlFpGfISxPQgu0xCXA%3D%3D for github.com/>]>\n",
      "{'Server': 'GitHub.com', 'Date': 'Wed, 19 May 2021 03:19:37 GMT', 'Content-Type': 'text/html; charset=utf-8', 'Vary': 'X-PJAX, Accept-Language, Accept-Encoding, Accept, X-Requested-With', 'permissions-policy': 'interest-cohort=()', 'content-language': 'en-US', 'ETag': 'W/\"3ad046c87451ffb92e93e507398f9d2c\"', 'Cache-Control': 'max-age=0, private, must-revalidate', 'Strict-Transport-Security': 'max-age=31536000; includeSubdomains; preload', 'X-Frame-Options': 'deny', 'X-Content-Type-Options': 'nosniff', 'X-XSS-Protection': '0', 'Referrer-Policy': 'origin-when-cross-origin, strict-origin-when-cross-origin', 'Expect-CT': 'max-age=2592000, report-uri=\"https://api.github.com/_private/browser/errors\"', 'Content-Security-Policy': \"default-src 'none'; base-uri 'self'; block-all-mixed-content; connect-src 'self' uploads.github.com www.githubstatus.com collector.githubapp.com api.github.com github-cloud.s3.amazonaws.com github-production-repository-file-5c1aeb.s3.amazonaws.com github-production-upload-manifest-file-7fdce7.s3.amazonaws.com github-production-user-asset-6210df.s3.amazonaws.com cdn.optimizely.com logx.optimizely.com/v1/events wss://alive.github.com github.githubassets.com; font-src github.githubassets.com; form-action 'self' github.com gist.github.com; frame-ancestors 'none'; frame-src render.githubusercontent.com; img-src 'self' data: github.githubassets.com identicons.github.com collector.githubapp.com github-cloud.s3.amazonaws.com secured-user-images.githubusercontent.com/ *.githubusercontent.com customer-stories-feed.github.com spotlights-feed.github.com; manifest-src 'self'; media-src github.githubassets.com; script-src github.githubassets.com; style-src 'unsafe-inline' github.githubassets.com; worker-src github.com/socket-worker-3f088aa2.js gist.github.com/socket-worker-3f088aa2.js\", 'Content-Encoding': 'gzip', 'Set-Cookie': '_gh_sess=qRaWQl5GUu0UTn4KTdj2ojIoDLBOOwuqhU2CXuJsFbontZG%2BSJCQn9d1mbvELiftdvsM7BB2fI3BGMeEWvnZDH2YHDQfr0idmHTJ9QSVwGK2Ce0qhJ7j8n1cCHioBn8tb79XvQeb5zsX9o5AeGvWuXuzfaQ51wlM1qZ7IZrcpCcUU7kqdG9ZUwOq42tiI82L%2FJhL%2FqA4Dn6EDsuUCn5xMMe0CoYbSqPLr6cW%2B%2Fl3h5jkq7byzGepSdAMHdqj%2FJRD5KhV4mITBNLYvlF%2B5ErXXg%3D%3D--W9XE07uhYVqGvXBQ--Z8faRlFpGfISxPQgu0xCXA%3D%3D; Path=/; HttpOnly; Secure; SameSite=Lax, _octo=GH1.1.1010261113.1621394377; Path=/; Domain=github.com; Expires=Thu, 19 May 2022 03:19:37 GMT; Secure; SameSite=Lax, logged_in=no; Path=/; Domain=github.com; Expires=Thu, 19 May 2022 03:19:37 GMT; HttpOnly; Secure; SameSite=Lax', 'Accept-Ranges': 'bytes', 'Transfer-Encoding': 'chunked', 'X-GitHub-Request-Id': '13CF:7D97:1E84DEA:20A3A91:60A483C9'}\n",
      "{'_octo': 'GH1.1.1010261113.1621394377', 'logged_in': 'no', '_gh_sess': 'qRaWQl5GUu0UTn4KTdj2ojIoDLBOOwuqhU2CXuJsFbontZG%2BSJCQn9d1mbvELiftdvsM7BB2fI3BGMeEWvnZDH2YHDQfr0idmHTJ9QSVwGK2Ce0qhJ7j8n1cCHioBn8tb79XvQeb5zsX9o5AeGvWuXuzfaQ51wlM1qZ7IZrcpCcUU7kqdG9ZUwOq42tiI82L%2FJhL%2FqA4Dn6EDsuUCn5xMMe0CoYbSqPLr6cW%2B%2Fl3h5jkq7byzGepSdAMHdqj%2FJRD5KhV4mITBNLYvlF%2B5ErXXg%3D%3D--W9XE07uhYVqGvXBQ--Z8faRlFpGfISxPQgu0xCXA%3D%3D'}\n"
     ]
    }
   ],
   "source": [
    "import requests\n",
    "\n",
    "url = \"https://github.com/\"\n",
    "\n",
    "r = requests.get(url)\n",
    "print(r.cookies)    # 返回的是jar包\n",
    "print(r.headers)\n",
    "\n",
    "print(requests.utils.dict_from_cookiejar(r.cookies))   # 将返回的jar包转换为字典"
   ]
  },
  {
   "cell_type": "markdown",
   "id": "d50f1af2",
   "metadata": {},
   "source": [
    "### 富文本"
   ]
  },
  {
   "cell_type": "markdown",
   "id": "9e2fa968",
   "metadata": {},
   "source": [
    "### 标签页切换 driver.switch_to.window(new_handle)"
   ]
  },
  {
   "cell_type": "code",
   "execution_count": null,
   "id": "9945caf8",
   "metadata": {
    "ExecuteTime": {
     "end_time": "2021-05-17T06:07:34.869532Z",
     "start_time": "2021-05-17T06:01:56.458Z"
    }
   },
   "outputs": [],
   "source": [
    "url = \"https://cn.bing.com/\"\n",
    "driver = webdriver.Chrome()\n",
    "driver.get(url)\n",
    "\n",
    "handle = driver.current_window_handle    # 获得当前窗口\n",
    "driver.find_element_by_xpath(\"//input[@name='q']\").send_keys(\"alpah\")\n",
    "driver.find_element_by_xpath(\"//input[@name='go']\").click()\n",
    "\n",
    "js = 'window.open(\"https://www.baidu.com/\")'   # 通过js打开新标签\n",
    "driver.execute_script(js)\n",
    "\n",
    "js = 'window.open(\"https://docs.github.com/\")'   # 通过js打开新标签\n",
    "driver.execute_script(js)\n",
    "\n",
    "handles = driver.window_handles    # 获得所有窗口\n",
    "for new_handle in handles:\n",
    "    if new_handle != handle:\n",
    "        driver.switch_to.window(new_handle)\n",
    "        break\n",
    "    time.sleep(3)\n",
    "#     ActionChains(driver).send_keys(Keys.CONTROL, 'w').perform()   # 干嘛用的？\n",
    "    ActionChains(driver).key_down(Keys.CONTROL).send_keys(\"w\").key_up(Keys.CONTROL).perform()\n",
    "\n",
    "time.sleep(2)\n",
    "driver.switch_to.window(handles[0])   # 返回第一个标签\n",
    "\n",
    "time.sleep(3)\n",
    "driver.quit()"
   ]
  },
  {
   "cell_type": "markdown",
   "id": "afa35480",
   "metadata": {},
   "source": [
    "### 屏幕截图"
   ]
  },
  {
   "cell_type": "markdown",
   "id": "12012c87",
   "metadata": {},
   "source": [
    "#### driver.save_screenshot(filename)"
   ]
  },
  {
   "cell_type": "code",
   "execution_count": null,
   "id": "8ce2e496",
   "metadata": {
    "ExecuteTime": {
     "end_time": "2021-05-17T06:07:34.876677Z",
     "start_time": "2021-05-17T06:01:56.472Z"
    }
   },
   "outputs": [],
   "source": [
    "import os\n",
    "\n",
    "url = \"https://cn.bing.com/\"\n",
    "driver = webdriver.Chrome()\n",
    "driver.get(url)\n",
    "driver.find_element_by_xpath(\"//input[@name='q']\").send_keys(\"alpha\")\n",
    "driver.find_element_by_xpath(\"//input[@name='go']\").click()\n",
    "\n",
    "time.sleep(1)\n",
    "pic_time = time.strftime(\"%Y-%m-%d-%H-%M-%S\", time.localtime(time.time()))\n",
    "pic_path = os.path.join(\"测试文件夹\", pic_time+'.png')\n",
    "driver.save_screenshot(pic_path)\n",
    "\n",
    "time.sleep(3)\n",
    "driver.quit()"
   ]
  },
  {
   "cell_type": "markdown",
   "id": "7d7a3e4c",
   "metadata": {},
   "source": [
    "#### driver.get_screenshot_as_file(filename)"
   ]
  },
  {
   "cell_type": "code",
   "execution_count": null,
   "id": "ecc5f8cc",
   "metadata": {
    "ExecuteTime": {
     "end_time": "2021-05-17T06:07:34.881406Z",
     "start_time": "2021-05-17T06:01:56.483Z"
    }
   },
   "outputs": [],
   "source": [
    "url = \"https://cn.bing.com/\"\n",
    "driver = webdriver.Chrome()\n",
    "driver.get(url)\n",
    "driver.find_element_by_xpath(\"//input[@name='q']\").send_keys(\"alpha\")\n",
    "driver.find_element_by_xpath(\"//input[@name='go']\").click()\n",
    "\n",
    "time.sleep(1)\n",
    "pic_time = time.strftime(\"%Y-%m-%d-%H-%M-%S\", time.localtime(time.time()))\n",
    "pic_path = os.path.join(\"测试文件夹\", pic_time+'.png')\n",
    "driver.get_screenshot_as_file(pic_path)\n",
    "\n",
    "time.sleep(3)\n",
    "driver.quit()"
   ]
  },
  {
   "cell_type": "markdown",
   "id": "b3cfec13",
   "metadata": {},
   "source": [
    "#### driver.get_screenshot_as_png()"
   ]
  },
  {
   "cell_type": "markdown",
   "id": "19119588",
   "metadata": {},
   "source": [
    "获取当前屏幕截图的二进制文件数据"
   ]
  },
  {
   "cell_type": "code",
   "execution_count": null,
   "id": "12668d34",
   "metadata": {
    "ExecuteTime": {
     "end_time": "2021-05-17T06:07:34.887583Z",
     "start_time": "2021-05-17T06:01:56.495Z"
    }
   },
   "outputs": [],
   "source": [
    "url = \"https://cn.bing.com/\"\n",
    "driver = webdriver.Chrome()\n",
    "driver.get(url)\n",
    "driver.find_element_by_xpath(\"//input[@name='q']\").send_keys(\"alpha\")\n",
    "driver.find_element_by_xpath(\"//input[@name='go']\").click()\n",
    "\n",
    "time.sleep(1)\n",
    "screenshot = driver.get_screenshot_as_png()\n",
    "print(screenshot)\n",
    "\n",
    "time.sleep(3)\n",
    "driver.quit()"
   ]
  },
  {
   "cell_type": "markdown",
   "id": "6a1382ad",
   "metadata": {},
   "source": [
    "#### driver.get_screenshot_as_base64()"
   ]
  },
  {
   "cell_type": "markdown",
   "id": "2a850f86",
   "metadata": {},
   "source": [
    "1. 获取当前屏幕截图的base64编码字符串\n",
    "1. 便于HTML页面直接嵌入base64编码图片"
   ]
  },
  {
   "cell_type": "code",
   "execution_count": null,
   "id": "06c49b06",
   "metadata": {
    "ExecuteTime": {
     "end_time": "2021-05-17T06:07:34.894480Z",
     "start_time": "2021-05-17T06:01:56.508Z"
    }
   },
   "outputs": [],
   "source": [
    "url = \"https://cn.bing.com/\"\n",
    "driver = webdriver.Chrome()\n",
    "driver.get(url)\n",
    "driver.find_element_by_xpath(\"//input[@name='q']\").send_keys(\"alpha\")\n",
    "driver.find_element_by_xpath(\"//input[@name='go']\").click()\n",
    "\n",
    "time.sleep(1)\n",
    "screenshot = driver.get_screenshot_as_base64()\n",
    "print(screenshot)\n",
    "\n",
    "time.sleep(3)\n",
    "driver.quit()"
   ]
  },
  {
   "cell_type": "markdown",
   "id": "0098b7bc",
   "metadata": {},
   "source": [
    "### 执行Javascript脚本 driver.execute_script(script, args)"
   ]
  },
  {
   "cell_type": "markdown",
   "id": "e47b6e05",
   "metadata": {},
   "source": [
    "#### 在文档根级别执行JS"
   ]
  },
  {
   "cell_type": "code",
   "execution_count": 57,
   "id": "f51d3102",
   "metadata": {
    "ExecuteTime": {
     "end_time": "2021-05-17T08:59:10.613032Z",
     "start_time": "2021-05-17T08:58:58.149215Z"
    }
   },
   "outputs": [],
   "source": [
    "url = \"https://cn.bing.com/\"\n",
    "driver = webdriver.Chrome()\n",
    "driver.get(url)\n",
    "\n",
    "js = \"document.getElementById('sb_form_q').value = 'alpha'\"\n",
    "driver.execute_script(js)\n",
    "\n",
    "js = \"document.getElementById('sb_form_go').click();\"\n",
    "driver.execute_script(js)\n",
    "\n",
    "time.sleep(3)\n",
    "driver.quit()"
   ]
  },
  {
   "cell_type": "markdown",
   "id": "d7f25bd1",
   "metadata": {},
   "source": [
    "#### 在元素级别执行JS"
   ]
  },
  {
   "cell_type": "code",
   "execution_count": null,
   "id": "f29df56b",
   "metadata": {
    "ExecuteTime": {
     "end_time": "2021-05-17T06:07:34.906360Z",
     "start_time": "2021-05-17T06:01:56.529Z"
    }
   },
   "outputs": [],
   "source": [
    "url = \"https://cn.bing.com/\"\n",
    "driver = webdriver.Chrome()\n",
    "driver.get(url)\n",
    "\n",
    "driver.find_element_by_xpath(\"//input[@name='q']\").send_keys(\"alpha\")\n",
    "btn_name = driver.find_element_by_xpath(\"//input[@name='go']\")\n",
    "js = \"arguments[0].click();\"\n",
    "driver.execute_script(js, btn_name)\n",
    "\n",
    "time.sleep(3)\n",
    "driver.quit()"
   ]
  },
  {
   "cell_type": "code",
   "execution_count": 54,
   "id": "58724723",
   "metadata": {
    "ExecuteTime": {
     "end_time": "2021-05-17T08:53:22.696791Z",
     "start_time": "2021-05-17T08:53:09.490766Z"
    }
   },
   "outputs": [],
   "source": [
    "url = \"https://cn.bing.com/\"\n",
    "driver = webdriver.Chrome()\n",
    "driver.get(url)\n",
    "\n",
    "search_name = driver.find_element_by_xpath(\"//input[@name='q']\")\n",
    "btn_name = driver.find_element_by_xpath(\"//input[@name='go']\")\n",
    "js = \"arguments[0].value = 'alpha';\\\n",
    "      arguments[1].click();\"\n",
    "driver.execute_script(js, search_name, btn_name)\n",
    "\n",
    "time.sleep(3)\n",
    "driver.quit()"
   ]
  },
  {
   "cell_type": "markdown",
   "id": "0f42f94a",
   "metadata": {},
   "source": [
    "#### JS中常见的操作"
   ]
  },
  {
   "cell_type": "markdown",
   "id": "7c0571d0",
   "metadata": {},
   "source": [
    "##### 日期控件"
   ]
  },
  {
   "cell_type": "markdown",
   "id": "0ef90932",
   "metadata": {},
   "source": [
    "###### 常规日期控件"
   ]
  },
  {
   "cell_type": "code",
   "execution_count": null,
   "id": "3bdd01d0",
   "metadata": {
    "ExecuteTime": {
     "end_time": "2021-05-17T06:07:34.917320Z",
     "start_time": "2021-05-17T06:01:56.548Z"
    }
   },
   "outputs": [],
   "source": [
    "date_js = \"document.getElementById('fromDate').value='2021-05-17'\"\n",
    "driver.execute_script(date_js)"
   ]
  },
  {
   "cell_type": "markdown",
   "id": "1eb926bf",
   "metadata": {},
   "source": [
    "###### readonly日期控件"
   ]
  },
  {
   "cell_type": "markdown",
   "id": "669922b0",
   "metadata": {},
   "source": [
    "1. 有些日期控件元素包含readonly属性\n",
    "1. 需要先通过JS去掉readonly属性\n",
    "1. 然后再给日期控件赋值"
   ]
  },
  {
   "cell_type": "code",
   "execution_count": null,
   "id": "1a0234dc",
   "metadata": {
    "ExecuteTime": {
     "end_time": "2021-05-17T06:07:34.922332Z",
     "start_time": "2021-05-17T06:01:56.556Z"
    }
   },
   "outputs": [],
   "source": [
    "js = \"document.getElementById('train_date').removeAttribute('readonly')\"\n",
    "driver.execute_script(js)\n",
    "\n",
    "driver.find_element_by_xpath(\"//*[@id='train_date']\").clear()\n",
    "driver.find_element_by_xpath(\"//*[@id='train_date']\").send_keys(\"2021-05-17\")"
   ]
  },
  {
   "cell_type": "markdown",
   "id": "a98d8af3",
   "metadata": {},
   "source": [
    "###### 在原标签页打开"
   ]
  },
  {
   "cell_type": "markdown",
   "id": "4fc28788",
   "metadata": {},
   "source": [
    "只要去掉target=\"_blank\"属性，即可实现在原标签页打开链接"
   ]
  },
  {
   "cell_type": "code",
   "execution_count": null,
   "id": "e847daa7",
   "metadata": {
    "ExecuteTime": {
     "end_time": "2021-05-17T06:07:34.929324Z",
     "start_time": "2021-05-17T06:01:56.564Z"
    }
   },
   "outputs": [],
   "source": [
    "js = \"document.getElementById('sb_help').target=''\"    # 通过js去掉target = '_blank'\n",
    "driver.execute_script(js)\n",
    "\n",
    "driver.find_element_by_xpath(\"//*[@id='sb_help']\").click()   #在原标签页打开"
   ]
  },
  {
   "cell_type": "markdown",
   "id": "5fc6f186",
   "metadata": {},
   "source": [
    "##### 处理视频"
   ]
  },
  {
   "cell_type": "code",
   "execution_count": 66,
   "id": "51fedcfc",
   "metadata": {
    "ExecuteTime": {
     "end_time": "2021-05-18T00:53:40.194719Z",
     "start_time": "2021-05-18T00:52:22.223754Z"
    }
   },
   "outputs": [
    {
     "name": "stdout",
     "output_type": "stream",
     "text": [
      "blob:https://videojs.com/7545cd9e-f9e2-4e58-8675-5d56d98f55ac\n"
     ]
    },
    {
     "ename": "JavascriptException",
     "evalue": "Message: javascript error: play() failed because the user didn't interact with the document first. https://goo.gl/xX8pDD\n  (Session info: chrome=90.0.4430.212)\n",
     "output_type": "error",
     "traceback": [
      "\u001b[1;31m---------------------------------------------------------------------------\u001b[0m",
      "\u001b[1;31mJavascriptException\u001b[0m                       Traceback (most recent call last)",
      "\u001b[1;32m<ipython-input-66-099adb6345e9>\u001b[0m in \u001b[0;36m<module>\u001b[1;34m\u001b[0m\n\u001b[0;32m     12\u001b[0m \u001b[1;31m# driver.execute_script(\"return arguments[0].defaultMuted = true;\", video)\u001b[0m\u001b[1;33m\u001b[0m\u001b[1;33m\u001b[0m\u001b[1;33m\u001b[0m\u001b[0m\n\u001b[0;32m     13\u001b[0m \u001b[1;31m# 播放视频\u001b[0m\u001b[1;33m\u001b[0m\u001b[1;33m\u001b[0m\u001b[1;33m\u001b[0m\u001b[0m\n\u001b[1;32m---> 14\u001b[1;33m \u001b[0mdriver\u001b[0m\u001b[1;33m.\u001b[0m\u001b[0mexecute_script\u001b[0m\u001b[1;33m(\u001b[0m\u001b[1;34m\"arguments[0].defaultMuted = true;return arguments[0].play();\"\u001b[0m\u001b[1;33m,\u001b[0m \u001b[0mvideo\u001b[0m\u001b[1;33m)\u001b[0m\u001b[1;33m\u001b[0m\u001b[1;33m\u001b[0m\u001b[0m\n\u001b[0m\u001b[0;32m     15\u001b[0m \u001b[0mtime\u001b[0m\u001b[1;33m.\u001b[0m\u001b[0msleep\u001b[0m\u001b[1;33m(\u001b[0m\u001b[1;36m10\u001b[0m\u001b[1;33m)\u001b[0m\u001b[1;33m\u001b[0m\u001b[1;33m\u001b[0m\u001b[0m\n\u001b[0;32m     16\u001b[0m \u001b[1;31m# 暂停播放\u001b[0m\u001b[1;33m\u001b[0m\u001b[1;33m\u001b[0m\u001b[1;33m\u001b[0m\u001b[0m\n",
      "\u001b[1;32m~\\AppData\\Roaming\\Python\\Python37\\site-packages\\selenium\\webdriver\\remote\\webdriver.py\u001b[0m in \u001b[0;36mexecute_script\u001b[1;34m(self, script, *args)\u001b[0m\n\u001b[0;32m    634\u001b[0m         return self.execute(command, {\n\u001b[0;32m    635\u001b[0m             \u001b[1;34m'script'\u001b[0m\u001b[1;33m:\u001b[0m \u001b[0mscript\u001b[0m\u001b[1;33m,\u001b[0m\u001b[1;33m\u001b[0m\u001b[1;33m\u001b[0m\u001b[0m\n\u001b[1;32m--> 636\u001b[1;33m             'args': converted_args})['value']\n\u001b[0m\u001b[0;32m    637\u001b[0m \u001b[1;33m\u001b[0m\u001b[0m\n\u001b[0;32m    638\u001b[0m     \u001b[1;32mdef\u001b[0m \u001b[0mexecute_async_script\u001b[0m\u001b[1;33m(\u001b[0m\u001b[0mself\u001b[0m\u001b[1;33m,\u001b[0m \u001b[0mscript\u001b[0m\u001b[1;33m,\u001b[0m \u001b[1;33m*\u001b[0m\u001b[0margs\u001b[0m\u001b[1;33m)\u001b[0m\u001b[1;33m:\u001b[0m\u001b[1;33m\u001b[0m\u001b[1;33m\u001b[0m\u001b[0m\n",
      "\u001b[1;32m~\\AppData\\Roaming\\Python\\Python37\\site-packages\\selenium\\webdriver\\remote\\webdriver.py\u001b[0m in \u001b[0;36mexecute\u001b[1;34m(self, driver_command, params)\u001b[0m\n\u001b[0;32m    319\u001b[0m         \u001b[0mresponse\u001b[0m \u001b[1;33m=\u001b[0m \u001b[0mself\u001b[0m\u001b[1;33m.\u001b[0m\u001b[0mcommand_executor\u001b[0m\u001b[1;33m.\u001b[0m\u001b[0mexecute\u001b[0m\u001b[1;33m(\u001b[0m\u001b[0mdriver_command\u001b[0m\u001b[1;33m,\u001b[0m \u001b[0mparams\u001b[0m\u001b[1;33m)\u001b[0m\u001b[1;33m\u001b[0m\u001b[1;33m\u001b[0m\u001b[0m\n\u001b[0;32m    320\u001b[0m         \u001b[1;32mif\u001b[0m \u001b[0mresponse\u001b[0m\u001b[1;33m:\u001b[0m\u001b[1;33m\u001b[0m\u001b[1;33m\u001b[0m\u001b[0m\n\u001b[1;32m--> 321\u001b[1;33m             \u001b[0mself\u001b[0m\u001b[1;33m.\u001b[0m\u001b[0merror_handler\u001b[0m\u001b[1;33m.\u001b[0m\u001b[0mcheck_response\u001b[0m\u001b[1;33m(\u001b[0m\u001b[0mresponse\u001b[0m\u001b[1;33m)\u001b[0m\u001b[1;33m\u001b[0m\u001b[1;33m\u001b[0m\u001b[0m\n\u001b[0m\u001b[0;32m    322\u001b[0m             response['value'] = self._unwrap_value(\n\u001b[0;32m    323\u001b[0m                 response.get('value', None))\n",
      "\u001b[1;32m~\\AppData\\Roaming\\Python\\Python37\\site-packages\\selenium\\webdriver\\remote\\errorhandler.py\u001b[0m in \u001b[0;36mcheck_response\u001b[1;34m(self, response)\u001b[0m\n\u001b[0;32m    240\u001b[0m                 \u001b[0malert_text\u001b[0m \u001b[1;33m=\u001b[0m \u001b[0mvalue\u001b[0m\u001b[1;33m[\u001b[0m\u001b[1;34m'alert'\u001b[0m\u001b[1;33m]\u001b[0m\u001b[1;33m.\u001b[0m\u001b[0mget\u001b[0m\u001b[1;33m(\u001b[0m\u001b[1;34m'text'\u001b[0m\u001b[1;33m)\u001b[0m\u001b[1;33m\u001b[0m\u001b[1;33m\u001b[0m\u001b[0m\n\u001b[0;32m    241\u001b[0m             \u001b[1;32mraise\u001b[0m \u001b[0mexception_class\u001b[0m\u001b[1;33m(\u001b[0m\u001b[0mmessage\u001b[0m\u001b[1;33m,\u001b[0m \u001b[0mscreen\u001b[0m\u001b[1;33m,\u001b[0m \u001b[0mstacktrace\u001b[0m\u001b[1;33m,\u001b[0m \u001b[0malert_text\u001b[0m\u001b[1;33m)\u001b[0m\u001b[1;33m\u001b[0m\u001b[1;33m\u001b[0m\u001b[0m\n\u001b[1;32m--> 242\u001b[1;33m         \u001b[1;32mraise\u001b[0m \u001b[0mexception_class\u001b[0m\u001b[1;33m(\u001b[0m\u001b[0mmessage\u001b[0m\u001b[1;33m,\u001b[0m \u001b[0mscreen\u001b[0m\u001b[1;33m,\u001b[0m \u001b[0mstacktrace\u001b[0m\u001b[1;33m)\u001b[0m\u001b[1;33m\u001b[0m\u001b[1;33m\u001b[0m\u001b[0m\n\u001b[0m\u001b[0;32m    243\u001b[0m \u001b[1;33m\u001b[0m\u001b[0m\n\u001b[0;32m    244\u001b[0m     \u001b[1;32mdef\u001b[0m \u001b[0m_value_or_default\u001b[0m\u001b[1;33m(\u001b[0m\u001b[0mself\u001b[0m\u001b[1;33m,\u001b[0m \u001b[0mobj\u001b[0m\u001b[1;33m,\u001b[0m \u001b[0mkey\u001b[0m\u001b[1;33m,\u001b[0m \u001b[0mdefault\u001b[0m\u001b[1;33m)\u001b[0m\u001b[1;33m:\u001b[0m\u001b[1;33m\u001b[0m\u001b[1;33m\u001b[0m\u001b[0m\n",
      "\u001b[1;31mJavascriptException\u001b[0m: Message: javascript error: play() failed because the user didn't interact with the document first. https://goo.gl/xX8pDD\n  (Session info: chrome=90.0.4430.212)\n"
     ]
    }
   ],
   "source": [
    "url = \"https://videojs.com/\"\n",
    "\n",
    "driver = webdriver.Chrome()\n",
    "driver.get(url)\n",
    "\n",
    "located = (By.XPATH, '/html/body/div/div/main/div[1]/div/div/div[1]/div/video')\n",
    "# 获取播放器的位置\n",
    "video = WebDriverWait(driver, 30, 0.5).until(ec.presence_of_element_located(located))\n",
    "# 返回播放文件地址\n",
    "url = driver.execute_script(\"return arguments[0].currentSrc;\", video)\n",
    "print(url)\n",
    "# driver.execute_script(\"return arguments[0].defaultMuted = true;\", video)\n",
    "# 播放视频\n",
    "driver.execute_script(\"arguments[0].defaultMuted = true;return arguments[0].play();\", video)\n",
    "time.sleep(10)\n",
    "# 暂停播放\n",
    "driver.execute_script(\"return arguments[0].pause();\", video)\n",
    "\n",
    "time.sleep(10)\n",
    "driver.quit()"
   ]
  },
  {
   "cell_type": "code",
   "execution_count": 72,
   "id": "bc4791bf",
   "metadata": {
    "ExecuteTime": {
     "end_time": "2021-05-18T04:53:25.982584Z",
     "start_time": "2021-05-18T04:52:41.707093Z"
    }
   },
   "outputs": [
    {
     "ename": "NoSuchElementException",
     "evalue": "Message: no such element: Unable to locate element: {\"method\":\"xpath\",\"selector\":\"//*[@id='__video']\"}\n  (Session info: chrome=90.0.4430.212)\n",
     "output_type": "error",
     "traceback": [
      "\u001b[1;31m---------------------------------------------------------------------------\u001b[0m",
      "\u001b[1;31mNoSuchElementException\u001b[0m                    Traceback (most recent call last)",
      "\u001b[1;32m<ipython-input-72-9fd336158496>\u001b[0m in \u001b[0;36m<module>\u001b[1;34m\u001b[0m\n\u001b[0;32m      5\u001b[0m \u001b[1;33m\u001b[0m\u001b[0m\n\u001b[0;32m      6\u001b[0m \u001b[0mtime\u001b[0m\u001b[1;33m.\u001b[0m\u001b[0msleep\u001b[0m\u001b[1;33m(\u001b[0m\u001b[1;36m30\u001b[0m\u001b[1;33m)\u001b[0m\u001b[1;33m\u001b[0m\u001b[1;33m\u001b[0m\u001b[0m\n\u001b[1;32m----> 7\u001b[1;33m \u001b[0mvideo\u001b[0m \u001b[1;33m=\u001b[0m \u001b[0mdriver\u001b[0m\u001b[1;33m.\u001b[0m\u001b[0mfind_element_by_xpath\u001b[0m\u001b[1;33m(\u001b[0m\u001b[1;34m\"//*[@id='__video']\"\u001b[0m\u001b[1;33m)\u001b[0m\u001b[1;33m\u001b[0m\u001b[1;33m\u001b[0m\u001b[0m\n\u001b[0m\u001b[0;32m      8\u001b[0m \u001b[1;31m# //*[@id=\"__video\"]\u001b[0m\u001b[1;33m\u001b[0m\u001b[1;33m\u001b[0m\u001b[1;33m\u001b[0m\u001b[0m\n\u001b[0;32m      9\u001b[0m \u001b[0murl\u001b[0m \u001b[1;33m=\u001b[0m \u001b[0mdriver\u001b[0m\u001b[1;33m.\u001b[0m\u001b[0mexecute_script\u001b[0m\u001b[1;33m(\u001b[0m\u001b[1;34m\"return arguments[0].currentSrc;\"\u001b[0m\u001b[1;33m,\u001b[0m \u001b[0mvideo\u001b[0m\u001b[1;33m)\u001b[0m\u001b[1;33m\u001b[0m\u001b[1;33m\u001b[0m\u001b[0m\n",
      "\u001b[1;32m~\\AppData\\Roaming\\Python\\Python37\\site-packages\\selenium\\webdriver\\remote\\webdriver.py\u001b[0m in \u001b[0;36mfind_element_by_xpath\u001b[1;34m(self, xpath)\u001b[0m\n\u001b[0;32m    392\u001b[0m             \u001b[0melement\u001b[0m \u001b[1;33m=\u001b[0m \u001b[0mdriver\u001b[0m\u001b[1;33m.\u001b[0m\u001b[0mfind_element_by_xpath\u001b[0m\u001b[1;33m(\u001b[0m\u001b[1;34m'//div/td[1]'\u001b[0m\u001b[1;33m)\u001b[0m\u001b[1;33m\u001b[0m\u001b[1;33m\u001b[0m\u001b[0m\n\u001b[0;32m    393\u001b[0m         \"\"\"\n\u001b[1;32m--> 394\u001b[1;33m         \u001b[1;32mreturn\u001b[0m \u001b[0mself\u001b[0m\u001b[1;33m.\u001b[0m\u001b[0mfind_element\u001b[0m\u001b[1;33m(\u001b[0m\u001b[0mby\u001b[0m\u001b[1;33m=\u001b[0m\u001b[0mBy\u001b[0m\u001b[1;33m.\u001b[0m\u001b[0mXPATH\u001b[0m\u001b[1;33m,\u001b[0m \u001b[0mvalue\u001b[0m\u001b[1;33m=\u001b[0m\u001b[0mxpath\u001b[0m\u001b[1;33m)\u001b[0m\u001b[1;33m\u001b[0m\u001b[1;33m\u001b[0m\u001b[0m\n\u001b[0m\u001b[0;32m    395\u001b[0m \u001b[1;33m\u001b[0m\u001b[0m\n\u001b[0;32m    396\u001b[0m     \u001b[1;32mdef\u001b[0m \u001b[0mfind_elements_by_xpath\u001b[0m\u001b[1;33m(\u001b[0m\u001b[0mself\u001b[0m\u001b[1;33m,\u001b[0m \u001b[0mxpath\u001b[0m\u001b[1;33m)\u001b[0m\u001b[1;33m:\u001b[0m\u001b[1;33m\u001b[0m\u001b[1;33m\u001b[0m\u001b[0m\n",
      "\u001b[1;32m~\\AppData\\Roaming\\Python\\Python37\\site-packages\\selenium\\webdriver\\remote\\webdriver.py\u001b[0m in \u001b[0;36mfind_element\u001b[1;34m(self, by, value)\u001b[0m\n\u001b[0;32m    976\u001b[0m         return self.execute(Command.FIND_ELEMENT, {\n\u001b[0;32m    977\u001b[0m             \u001b[1;34m'using'\u001b[0m\u001b[1;33m:\u001b[0m \u001b[0mby\u001b[0m\u001b[1;33m,\u001b[0m\u001b[1;33m\u001b[0m\u001b[1;33m\u001b[0m\u001b[0m\n\u001b[1;32m--> 978\u001b[1;33m             'value': value})['value']\n\u001b[0m\u001b[0;32m    979\u001b[0m \u001b[1;33m\u001b[0m\u001b[0m\n\u001b[0;32m    980\u001b[0m     \u001b[1;32mdef\u001b[0m \u001b[0mfind_elements\u001b[0m\u001b[1;33m(\u001b[0m\u001b[0mself\u001b[0m\u001b[1;33m,\u001b[0m \u001b[0mby\u001b[0m\u001b[1;33m=\u001b[0m\u001b[0mBy\u001b[0m\u001b[1;33m.\u001b[0m\u001b[0mID\u001b[0m\u001b[1;33m,\u001b[0m \u001b[0mvalue\u001b[0m\u001b[1;33m=\u001b[0m\u001b[1;32mNone\u001b[0m\u001b[1;33m)\u001b[0m\u001b[1;33m:\u001b[0m\u001b[1;33m\u001b[0m\u001b[1;33m\u001b[0m\u001b[0m\n",
      "\u001b[1;32m~\\AppData\\Roaming\\Python\\Python37\\site-packages\\selenium\\webdriver\\remote\\webdriver.py\u001b[0m in \u001b[0;36mexecute\u001b[1;34m(self, driver_command, params)\u001b[0m\n\u001b[0;32m    319\u001b[0m         \u001b[0mresponse\u001b[0m \u001b[1;33m=\u001b[0m \u001b[0mself\u001b[0m\u001b[1;33m.\u001b[0m\u001b[0mcommand_executor\u001b[0m\u001b[1;33m.\u001b[0m\u001b[0mexecute\u001b[0m\u001b[1;33m(\u001b[0m\u001b[0mdriver_command\u001b[0m\u001b[1;33m,\u001b[0m \u001b[0mparams\u001b[0m\u001b[1;33m)\u001b[0m\u001b[1;33m\u001b[0m\u001b[1;33m\u001b[0m\u001b[0m\n\u001b[0;32m    320\u001b[0m         \u001b[1;32mif\u001b[0m \u001b[0mresponse\u001b[0m\u001b[1;33m:\u001b[0m\u001b[1;33m\u001b[0m\u001b[1;33m\u001b[0m\u001b[0m\n\u001b[1;32m--> 321\u001b[1;33m             \u001b[0mself\u001b[0m\u001b[1;33m.\u001b[0m\u001b[0merror_handler\u001b[0m\u001b[1;33m.\u001b[0m\u001b[0mcheck_response\u001b[0m\u001b[1;33m(\u001b[0m\u001b[0mresponse\u001b[0m\u001b[1;33m)\u001b[0m\u001b[1;33m\u001b[0m\u001b[1;33m\u001b[0m\u001b[0m\n\u001b[0m\u001b[0;32m    322\u001b[0m             response['value'] = self._unwrap_value(\n\u001b[0;32m    323\u001b[0m                 response.get('value', None))\n",
      "\u001b[1;32m~\\AppData\\Roaming\\Python\\Python37\\site-packages\\selenium\\webdriver\\remote\\errorhandler.py\u001b[0m in \u001b[0;36mcheck_response\u001b[1;34m(self, response)\u001b[0m\n\u001b[0;32m    240\u001b[0m                 \u001b[0malert_text\u001b[0m \u001b[1;33m=\u001b[0m \u001b[0mvalue\u001b[0m\u001b[1;33m[\u001b[0m\u001b[1;34m'alert'\u001b[0m\u001b[1;33m]\u001b[0m\u001b[1;33m.\u001b[0m\u001b[0mget\u001b[0m\u001b[1;33m(\u001b[0m\u001b[1;34m'text'\u001b[0m\u001b[1;33m)\u001b[0m\u001b[1;33m\u001b[0m\u001b[1;33m\u001b[0m\u001b[0m\n\u001b[0;32m    241\u001b[0m             \u001b[1;32mraise\u001b[0m \u001b[0mexception_class\u001b[0m\u001b[1;33m(\u001b[0m\u001b[0mmessage\u001b[0m\u001b[1;33m,\u001b[0m \u001b[0mscreen\u001b[0m\u001b[1;33m,\u001b[0m \u001b[0mstacktrace\u001b[0m\u001b[1;33m,\u001b[0m \u001b[0malert_text\u001b[0m\u001b[1;33m)\u001b[0m\u001b[1;33m\u001b[0m\u001b[1;33m\u001b[0m\u001b[0m\n\u001b[1;32m--> 242\u001b[1;33m         \u001b[1;32mraise\u001b[0m \u001b[0mexception_class\u001b[0m\u001b[1;33m(\u001b[0m\u001b[0mmessage\u001b[0m\u001b[1;33m,\u001b[0m \u001b[0mscreen\u001b[0m\u001b[1;33m,\u001b[0m \u001b[0mstacktrace\u001b[0m\u001b[1;33m)\u001b[0m\u001b[1;33m\u001b[0m\u001b[1;33m\u001b[0m\u001b[0m\n\u001b[0m\u001b[0;32m    243\u001b[0m \u001b[1;33m\u001b[0m\u001b[0m\n\u001b[0;32m    244\u001b[0m     \u001b[1;32mdef\u001b[0m \u001b[0m_value_or_default\u001b[0m\u001b[1;33m(\u001b[0m\u001b[0mself\u001b[0m\u001b[1;33m,\u001b[0m \u001b[0mobj\u001b[0m\u001b[1;33m,\u001b[0m \u001b[0mkey\u001b[0m\u001b[1;33m,\u001b[0m \u001b[0mdefault\u001b[0m\u001b[1;33m)\u001b[0m\u001b[1;33m:\u001b[0m\u001b[1;33m\u001b[0m\u001b[1;33m\u001b[0m\u001b[0m\n",
      "\u001b[1;31mNoSuchElementException\u001b[0m: Message: no such element: Unable to locate element: {\"method\":\"xpath\",\"selector\":\"//*[@id='__video']\"}\n  (Session info: chrome=90.0.4430.212)\n"
     ]
    }
   ],
   "source": [
    "profile = webdriver.ChromeOptions()\n",
    "profile.add_argument(r\"user-data-dir=C:\\Users\\Sancery\\AppData\\Local\\Google\\Chrome\\User Data4\")\n",
    "driver = webdriver.Chrome(\"chromedriver\", 0, profile)\n",
    "driver.get(\"https://www.douyu.com/\")\n",
    "\n",
    "video = driver.find_element_by_xpath(\"//*[@id='__video']\")\n",
    "url = driver.execute_script(\"return arguments[0].currentSrc;\", video)\n",
    "driver.execute_script(\"return arguments[0].play();\", video)\n",
    "time.sleep(30)\n",
    "driver.execute_script(\"return arguments[0].pause();\", video)\n",
    "time.sleep(10)\n",
    "driver.quit()"
   ]
  },
  {
   "cell_type": "markdown",
   "id": "e9d407cf",
   "metadata": {},
   "source": [
    "##### 控制浏览器滚动条"
   ]
  },
  {
   "cell_type": "markdown",
   "id": "2b628d5c",
   "metadata": {},
   "source": [
    "###### 纵向滚动条 scrollTop"
   ]
  },
  {
   "cell_type": "code",
   "execution_count": 81,
   "id": "be45c0ce",
   "metadata": {
    "ExecuteTime": {
     "end_time": "2021-05-19T00:44:05.854120Z",
     "start_time": "2021-05-19T00:43:58.472274Z"
    }
   },
   "outputs": [],
   "source": [
    "driver = webdriver.Chrome()\n",
    "driver.get(\"https://www.baidu.com/s?wd=+user+didn%27t+interact+with+the+document+first&rsv_spt=1&rsv_iqid=0xc474b8a70024ec3f&issp=1&f=8&rsv_bp=0&rsv_idx=2&ie=utf-8&rqlang=&tn=baiduhome_pg&ch=\")\n",
    "# 滚回顶部\n",
    "js = \"document.documentElement.scrollTop=0;\"\n",
    "driver.execute_script(js)\n",
    "\n",
    "# 滚回底部\n",
    "js = \"var q=document.documentElement.scrollTop=10000\"\n",
    "driver.execute_script(js)\n",
    "\n",
    "time.sleep(3)\n",
    "driver.quit()"
   ]
  },
  {
   "cell_type": "markdown",
   "id": "f8479fa7",
   "metadata": {},
   "source": [
    "Windows 7之后，JS中可以修改scrollTop的值来定位浏览器右侧（竖）滚动条的位置（纵向），0表示最上面，10000表示最底部，scrollTop的值介于0～10000"
   ]
  },
  {
   "cell_type": "markdown",
   "id": "0d51cd4b",
   "metadata": {},
   "source": [
    "###### 横向+纵向滚动条 window.scrollTo(x,  y)"
   ]
  },
  {
   "cell_type": "code",
   "execution_count": 79,
   "id": "ef26eb55",
   "metadata": {
    "ExecuteTime": {
     "end_time": "2021-05-18T05:19:29.144914Z",
     "start_time": "2021-05-18T05:17:22.170441Z"
    }
   },
   "outputs": [],
   "source": [
    "driver = webdriver.Chrome()\n",
    "driver.get(\"http://cn.bing.com/\")\n",
    "\n",
    "driver.set_window_size(600, 800)\n",
    "driver.find_element_by_id(\"sb_form_q\").send_keys(\"alpha\")\n",
    "driver.find_element_by_id(\"sb_form_go\").click()\n",
    "\n",
    "time.sleep(3)\n",
    "js = \"window.scrollTo(100, 500)\"    # 100对应x轴，500对应y轴\n",
    "driver.execute_script(js)\n",
    "\n",
    "time.sleep(3)\n",
    "# 滚动到底部\n",
    "js = \"window.scrollTo(0, document.body.scrollHeight)\"\n",
    "driver.execute_script(js)\n",
    "\n",
    "time.sleep(3)\n",
    "# 滚动到最右侧\n",
    "js = \"window.scrollTo(document.body.scrollWidth, 0)\"\n",
    "driver.execute_script(js)\n",
    "\n",
    "time.sleep(3)\n",
    "# 滚到最初的位置\n",
    "js = \"window.scrollTo(0, 0)\"\n",
    "driver.execute_script(js)\n",
    "\n",
    "time.sleep(5)\n",
    "driver.quit()"
   ]
  },
  {
   "cell_type": "markdown",
   "id": "d244ce3e",
   "metadata": {},
   "source": [
    "|参数|说明|\n",
    "|:---|:---|\n",
    "|document.body.scrollWidth|网页正文全文宽度，包括（存在滚动条）未见区域|\n",
    "|document.body.scrollHeight|网页正文全文高度，包括（存在滚动条）未见区域|\n",
    "|document.documentElement.clientWidth|可见区域宽度，不包含存在滚动条时的未见区域|\n",
    "|document.documentElement.clientHeight|可见区域高度，不包含存在滚动条时的未见区域|\n",
    "|document.documentElement.scrollTop=200|设置或返回匹配元素相对滚动条顶部的偏移|\n",
    "|document.documentElement.scrollLeft=200|设置或返回匹配元素相对滚动条左侧的偏移|\n",
    "|window.scrollTo(200,300)|设置滚动条的left（横坐标）=200，top（纵坐标）=300|"
   ]
  },
  {
   "cell_type": "markdown",
   "id": "96aaa503",
   "metadata": {},
   "source": [
    "##### 取消置灰"
   ]
  },
  {
   "cell_type": "markdown",
   "id": "9996c4a7",
   "metadata": {},
   "source": [
    "document.getElementByClassName(\"xxx\").disabled=false"
   ]
  },
  {
   "cell_type": "markdown",
   "id": "382a29b1",
   "metadata": {},
   "source": [
    "##### 隐藏"
   ]
  },
  {
   "cell_type": "markdown",
   "id": "5df43f62",
   "metadata": {},
   "source": [
    "document.getElementById(\"xxx\").style.display=\"none\""
   ]
  },
  {
   "cell_type": "markdown",
   "id": "f6366ef2",
   "metadata": {},
   "source": [
    "隐藏元素的几种方式：\n",
    "1. 将opacity设置为0\n",
    "1. 将visibility设置为hidden\n",
    "1. 将display设置为none\n",
    "1. 将position设置为absolute，然后将其位置设置到不可见区域"
   ]
  },
  {
   "cell_type": "markdown",
   "id": "343f2a21",
   "metadata": {},
   "source": [
    "##### 可见"
   ]
  },
  {
   "cell_type": "markdown",
   "id": "fb333d14",
   "metadata": {},
   "source": [
    "document.getElementById(\"xxx\").style.display=\"block\""
   ]
  },
  {
   "cell_type": "markdown",
   "id": "4e134771",
   "metadata": {},
   "source": [
    "### 操作画布"
   ]
  },
  {
   "cell_type": "markdown",
   "id": "adb50960",
   "metadata": {},
   "source": [
    "#### 用ActionChains操作画布"
   ]
  },
  {
   "cell_type": "code",
   "execution_count": 82,
   "id": "1e81bd8d",
   "metadata": {
    "ExecuteTime": {
     "end_time": "2021-05-19T03:06:59.303853Z",
     "start_time": "2021-05-19T03:06:45.155420Z"
    }
   },
   "outputs": [],
   "source": [
    "from selenium.webdriver.common.action_chains import ActionChains\n",
    "url = \"http://literallycanvas.com/\"\n",
    "\n",
    "driver = webdriver.Chrome()\n",
    "driver.get(url)\n",
    "\n",
    "driver.maximize_window()\n",
    "driver.implicitly_wait(20)\n",
    "\n",
    "canvas = driver.find_element_by_xpath('//*[@id=\"literally-canvas\"]/div[3]/div[1]/canvas[2]')\n",
    "drawing = ActionChains(driver).click_and_hold(canvas).move_by_offset(20, 50).move_by_offset(50, 20).move_by_offset(-20, -50).move_by_offset(-50, -20).release()\n",
    "drawing.perform()\n",
    "\n",
    "time.sleep(3)\n",
    "driver.quit()"
   ]
  },
  {
   "cell_type": "markdown",
   "id": "627b73f2",
   "metadata": {},
   "source": [
    "#### 用JS操作画布"
   ]
  },
  {
   "cell_type": "code",
   "execution_count": 84,
   "id": "d6a48ef1",
   "metadata": {
    "ExecuteTime": {
     "end_time": "2021-05-19T03:15:21.869615Z",
     "start_time": "2021-05-19T03:15:04.630031Z"
    }
   },
   "outputs": [],
   "source": [
    "url = \"http://literallycanvas.com/\"\n",
    "\n",
    "driver = webdriver.Chrome()\n",
    "driver.get(url)\n",
    "\n",
    "driver.maximize_window()\n",
    "driver.implicitly_wait(20)\n",
    "\n",
    "js = 'var element_canvas = document.getElementsByTagName(\\\"canvas\\\")[0];\\\n",
    "      var cxt = element_canvas.getContext(\\\"2d\\\");\\\n",
    "      cxt.fillStyle = \\\"#FFBB00\\\";\\\n",
    "      cxt.fillRect(50, 50, 170, 70);'\n",
    "driver.execute_script(js)\n",
    "time.sleep(3)\n",
    "driver.quit()"
   ]
  },
  {
   "cell_type": "code",
   "execution_count": null,
   "id": "070ff7bf",
   "metadata": {},
   "outputs": [],
   "source": []
  }
 ],
 "metadata": {
  "kernelspec": {
   "display_name": "Python 3",
   "language": "python",
   "name": "python3"
  },
  "language_info": {
   "codemirror_mode": {
    "name": "ipython",
    "version": 3
   },
   "file_extension": ".py",
   "mimetype": "text/x-python",
   "name": "python",
   "nbconvert_exporter": "python",
   "pygments_lexer": "ipython3",
   "version": "3.7.8"
  },
  "toc": {
   "base_numbering": 1,
   "nav_menu": {},
   "number_sections": true,
   "sideBar": true,
   "skip_h1_title": false,
   "title_cell": "Table of Contents",
   "title_sidebar": "Contents",
   "toc_cell": false,
   "toc_position": {
    "height": "calc(100% - 180px)",
    "left": "10px",
    "top": "150px",
    "width": "164.992px"
   },
   "toc_section_display": true,
   "toc_window_display": true
  }
 },
 "nbformat": 4,
 "nbformat_minor": 5
}
